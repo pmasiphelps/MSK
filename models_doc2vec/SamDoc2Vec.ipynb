{
 "cells": [
  {
   "cell_type": "code",
   "execution_count": 4,
   "metadata": {
    "collapsed": true
   },
   "outputs": [],
   "source": [
    "import numpy as np\n",
    "import pandas as pd\n",
    "import re"
   ]
  },
  {
   "cell_type": "markdown",
   "metadata": {},
   "source": [
    "## Initial Data Import"
   ]
  },
  {
   "cell_type": "code",
   "execution_count": 5,
   "metadata": {
    "collapsed": true
   },
   "outputs": [],
   "source": [
    "train_variant = pd.read_csv(\"training_variants.txt\")\n",
    "test_variant = pd.read_csv(\"test_variants.txt\")\n",
    "train_text = pd.read_csv(\"training_text.txt\", sep=\"\\|\\|\", engine='python', header=None, skiprows=1, \n",
    "                         names=[\"ID\",\"Text\"])\n",
    "test_text = pd.read_csv(\"test_text.txt\", sep=\"\\|\\|\", engine='python', header=None, skiprows=1, \n",
    "                        names=[\"ID\",\"Text\"])\n",
    "\n",
    "train = pd.merge(train_variant, train_text, how='left', on='ID')\n",
    "train_y = train['Class'].values\n",
    "train_x = train.drop('Class', axis=1)\n",
    "\n",
    "test_x = pd.merge(test_variant, test_text, how='left', on='ID')\n",
    "\n",
    "all_data = pd.DataFrame(np.concatenate((train_x, test_x), axis=0))\n",
    "all_data.columns = [\"ID\", \"Gene\", \"Variation\", \"Text\"]"
   ]
  },
  {
   "cell_type": "markdown",
   "metadata": {},
   "source": [
    "## Corpus Tokenization and Vectorization"
   ]
  },
  {
   "cell_type": "code",
   "execution_count": 6,
   "metadata": {},
   "outputs": [],
   "source": [
    "from nltk.tokenize import RegexpTokenizer\n",
    "from nltk.corpus import stopwords\n",
    "#from nltk.stem import porter\n",
    "from gensim.models.doc2vec import TaggedDocument\n",
    "from gensim import utils\n",
    "\n",
    "stops = set(stopwords.words('english'))\n",
    "tokenizer = RegexpTokenizer(r'\\w+')\n",
    "#ps = PorterStemmer()\n",
    "\n",
    "def split_stop_stem(text):\n",
    "    text = tokenizer.tokenize(text)\n",
    "    text = [w for w in text if not w in stops]\n",
    "    #text = list(map(lambda x: ps.stem(x), text))\n",
    "    return text\n",
    "\n",
    "def tagDocs(text):\n",
    "    sentences=[]\n",
    "    for index, row in text.iteritems():\n",
    "        sentences.append(TaggedDocument(row, ['Text' + '_%s' % str(index)]))\n",
    "    return sentences\n"
   ]
  },
  {
   "cell_type": "code",
   "execution_count": 7,
   "metadata": {},
   "outputs": [],
   "source": [
    "words = all_data['Text'].apply(split_stop_stem)"
   ]
  },
  {
   "cell_type": "code",
   "execution_count": 8,
   "metadata": {
    "collapsed": true
   },
   "outputs": [],
   "source": [
    "words = tagDocs(words)"
   ]
  },
  {
   "cell_type": "code",
   "execution_count": 9,
   "metadata": {},
   "outputs": [
    {
     "data": {
      "text/plain": [
       "TaggedDocument(words=['Cyclin', 'dependent', 'kinases', 'CDKs', 'regulate', 'variety', 'fundamental', 'cellular', 'processes', 'CDK10', 'stands', 'one', 'last', 'orphan', 'CDKs', 'activating', 'cyclin', 'identified', 'kinase', 'activity', 'revealed', 'Previous', 'work', 'shown', 'CDK10', 'silencing', 'increases', 'ETS2', 'v', 'ets', 'erythroblastosis', 'virus', 'E26', 'oncogene', 'homolog', '2', 'driven', 'activation', 'MAPK', 'pathway', 'confers', 'tamoxifen', 'resistance', 'breast', 'cancer', 'cells', 'The', 'precise', 'mechanisms', 'CDK10', 'modulates', 'ETS2', 'activity', 'generally', 'functions', 'CDK10', 'remain', 'elusive', 'Here', 'demonstrate', 'CDK10', 'cyclin', 'dependent', 'kinase', 'identifying', 'cyclin', 'M', 'activating', 'cyclin', 'Cyclin', 'M', 'orphan', 'cyclin', 'product', 'FAM58A', 'whose', 'mutations', 'cause', 'STAR', 'syndrome', 'human', 'developmental', 'anomaly', 'whose', 'features', 'include', 'toe', 'syndactyly', 'telecanthus', 'anogenital', 'renal', 'malformations', 'We', 'show', 'STAR', 'syndrome', 'associated', 'cyclin', 'M', 'mutants', 'unable', 'interact', 'CDK10', 'Cyclin', 'M', 'silencing', 'phenocopies', 'CDK10', 'silencing', 'increasing', 'c', 'Raf', 'conferring', 'tamoxifen', 'resistance', 'breast', 'cancer', 'cells', 'CDK10', 'cyclin', 'M', 'phosphorylates', 'ETS2', 'vitro', 'cells', 'positively', 'controls', 'ETS2', 'degradation', 'proteasome', 'ETS2', 'protein', 'levels', 'increased', 'cells', 'derived', 'STAR', 'patient', 'increase', 'attributable', 'decreased', 'cyclin', 'M', 'levels', 'Altogether', 'results', 'reveal', 'additional', 'regulatory', 'mechanism', 'ETS2', 'plays', 'key', 'roles', 'cancer', 'development', 'They', 'also', 'shed', 'light', 'molecular', 'mechanisms', 'underlying', 'STAR', 'syndrome', 'Cyclin', 'dependent', 'kinases', 'CDKs', 'play', 'pivotal', 'role', 'control', 'number', 'fundamental', 'cellular', 'processes', '1', 'The', 'human', 'genome', 'contains', '21', 'genes', 'encoding', 'proteins', 'considered', 'members', 'CDK', 'family', 'owing', 'sequence', 'similarity', 'bona', 'fide', 'CDKs', 'known', 'activated', 'cyclins', '2', 'Although', 'discovered', 'almost', '20', 'ago', '3', '4', 'CDK10', 'remains', 'one', 'two', 'CDKs', 'without', 'identified', 'cyclin', 'partner', 'This', 'knowledge', 'gap', 'largely', 'impeded', 'exploration', 'biological', 'functions', 'CDK10', 'act', 'positive', 'cell', 'cycle', 'regulator', 'cells', '5', '6', 'tumor', 'suppressor', 'others', '7', '8', 'CDK10', 'interacts', 'ETS2', 'v', 'ets', 'erythroblastosis', 'virus', 'E26', 'oncogene', 'homolog', '2', 'transcription', 'factor', 'inhibits', 'transcriptional', 'activity', 'unknown', 'mechanism', '9', 'CDK10', 'knockdown', 'derepresses', 'ETS2', 'increases', 'expression', 'c', 'Raf', 'protein', 'kinase', 'activates', 'MAPK', 'pathway', 'induces', 'resistance', 'MCF7', 'cells', 'tamoxifen', '6', 'Here', 'deorphanize', 'CDK10', 'identifying', 'cyclin', 'M', 'product', 'FAM58A', 'binding', 'partner', 'Mutations', 'gene', 'predict', 'absence', 'truncation', 'cyclin', 'M', 'associated', 'STAR', 'syndrome', 'whose', 'features', 'include', 'toe', 'syndactyly', 'telecanthus', 'anogenital', 'renal', 'malformations', 'heterozygous', 'females', '10', 'However', 'functions', 'cyclin', 'M', 'pathogenesis', 'STAR', 'syndrome', 'remain', 'unknown', 'We', 'show', 'recombinant', 'CDK10', 'cyclin', 'M', 'heterodimer', 'active', 'protein', 'kinase', 'phosphorylates', 'ETS2', 'vitro', 'Cyclin', 'M', 'silencing', 'phenocopies', 'CDK10', 'silencing', 'increasing', 'c', 'Raf', 'phospho', 'ERK', 'expression', 'levels', 'inducing', 'tamoxifen', 'resistance', 'estrogen', 'receptor', 'ER', 'breast', 'cancer', 'cells', 'We', 'show', 'CDK10', 'cyclin', 'M', 'positively', 'controls', 'ETS2', 'degradation', 'proteasome', 'phosphorylation', 'two', 'neighboring', 'serines', 'Finally', 'detect', 'increased', 'ETS2', 'expression', 'level', 'cells', 'derived', 'STAR', 'patient', 'demonstrate', 'attributable', 'decreased', 'cyclin', 'M', 'expression', 'level', 'observed', 'cells', 'Previous', 'SectionNext', 'SectionResultsA', 'yeast', 'two', 'hybrid', 'Y2H', 'screen', 'unveiled', 'interaction', 'signal', 'CDK10', 'mouse', 'protein', 'whose', 'C', 'terminal', 'half', 'presents', 'strong', 'sequence', 'homology', 'human', 'FAM58A', 'gene', 'product', 'whose', 'proposed', 'name', 'cyclin', 'M', '11', 'We', 'thus', 'performed', 'Y2H', 'mating', 'assays', 'determine', 'whether', 'human', 'CDK10', 'interacts', 'human', 'cyclin', 'M', 'Fig', '1', 'A', 'C', 'The', 'longest', 'CDK10', 'isoform', 'P1', 'expressed', 'bait', 'protein', 'produced', 'strong', 'interaction', 'phenotype', 'full', 'length', 'cyclin', 'M', 'expressed', 'prey', 'protein', 'detectable', 'phenotype', 'cyclin', 'D1', 'p21', 'CIP1', 'Cdi1', 'KAP', 'known', 'binding', 'partners', 'CDKs', 'Fig', '1B', 'CDK1', 'CDK3', 'also', 'produced', 'Y2H', 'signals', 'cyclin', 'M', 'albeit', 'notably', 'weaker', 'observed', 'CDK10', 'Fig', '1B', 'An', 'interaction', 'phenotype', 'also', 'observed', 'full', 'length', 'cyclin', 'M', 'CDK10', 'proteins', 'expressed', 'bait', 'prey', 'respectively', 'Fig', 'S1A', 'We', 'tested', 'different', 'isoforms', 'CDK10', 'cyclin', 'M', 'originating', 'alternative', 'gene', 'splicing', 'two', 'truncated', 'cyclin', 'M', 'proteins', 'corresponding', 'hypothetical', 'products', 'two', 'mutated', 'FAM58A', 'genes', 'found', 'STAR', 'syndrome', 'patients', '10', 'None', 'shorter', 'isoforms', 'produced', 'interaction', 'phenotypes', 'Fig', '1', 'A', 'C', 'Fig', 'S1A', 'Fig', '1', 'In', 'new', 'window', 'Download', 'PPTFig', '1', 'CDK10', 'cyclin', 'M', 'form', 'interaction', 'complex', 'A', 'Schematic', 'representation', 'different', 'protein', 'isoforms', 'analyzed', 'Y2H', 'assays', 'Amino', 'acid', 'numbers', 'indicated', 'Black', 'boxes', 'indicate', 'internal', 'deletions', 'The', 'red', 'box', 'indicates', 'differing', 'amino', 'acid', 'sequence', 'compared', 'CDK10', 'P1', 'B', 'Y2H', 'assay', 'set', 'CDK', 'proteins', 'expressed', 'baits', 'fusion', 'LexA', 'DNA', 'binding', 'domain', 'CDK', 'interacting', 'proteins', 'expressed', 'preys', 'fusion', 'B42', 'transcriptional', 'activator', 'pEG202', 'pJG4', '5', 'empty', 'bait', 'prey', 'plasmids', 'expressing', 'LexA', 'B42', 'respectively', 'lacZ', 'used', 'reporter', 'gene', 'blue', 'yeast', 'indicative', 'Y2H', 'interaction', 'phenotype', 'C', 'Y2H', 'assay', 'different', 'CDK10', 'cyclin', 'M', 'isoforms', 'The', 'amino', 'terminal', 'region', 'ETS2', 'known', 'interact', 'CDK10', '9', 'also', 'assayed', 'D', 'Western', 'blot', 'analysis', 'Myc', 'CDK10', 'wt', 'kd', 'CycM', 'V5', '6His', 'expression', 'levels', 'transfected', 'HEK293', 'cells', 'E', 'Western', 'blot', 'analysis', 'Myc', 'CDK10', 'wt', 'kd', 'immunoprecipitates', 'obtained', 'using', 'anti', 'Myc', 'antibody', 'Inputs', 'correspond', '10', 'μg', 'total', 'lysates', 'obtained', 'HEK293', 'cells', 'coexpressing', 'Myc', 'CDK10', 'wt', 'kd', 'CycM', 'V5', '6His', 'F', 'Western', 'blot', 'analysis', 'immunoprecipitates', 'obtained', 'using', 'anti', 'CDK10', 'antibody', 'control', 'goat', 'antibody', 'human', 'breast', 'cancer', 'MCF7', 'cells', 'Input', 'corresponds', '30', 'μg', 'MCF7', 'total', 'cell', 'lysates', 'The', 'lower', 'band', 'doublet', 'observed', 'upper', 'panel', 'comigrates', 'exogenously', 'expressed', 'untagged', 'CDK10', 'thus', 'corresponds', 'endogenous', 'CDK10', 'The', 'upper', 'band', 'doublet', 'corresponds', 'nonspecific', 'signal', 'demonstrated', 'insensitivity', 'either', 'overexpression', 'CDK10', 'seen', 'left', 'lane', 'silencing', 'CDK10', 'Fig', 'S2B', 'Another', 'experiment', 'longer', 'gel', 'migration', 'shown', 'Fig', 'S1D', 'Next', 'examined', 'ability', 'CDK10', 'cyclin', 'M', 'interact', 'expressed', 'human', 'cells', 'Fig', '1', 'D', 'E', 'We', 'tested', 'wild', 'type', 'CDK10', 'wt', 'kinase', 'dead', 'kd', 'mutant', 'bearing', 'D181A', 'amino', 'acid', 'substitution', 'abolishes', 'ATP', 'binding', '12', 'We', 'expressed', 'cyclin', 'M', 'V5', '6His', 'Myc', 'CDK10', 'wt', 'kd', 'human', 'embryonic', 'kidney', 'cell', 'line', 'HEK293', 'The', 'expression', 'level', 'cyclin', 'M', 'V5', '6His', 'significantly', 'increased', 'upon', 'coexpression', 'Myc', 'CDK10', 'wt', 'kd', 'lesser', 'extent', 'Myc', 'CDK10', 'wt', 'kd', 'increased', 'upon', 'coexpression', 'cyclin', 'M', 'V5', '6His', 'Fig', '1D', 'We', 'immunoprecipitated', 'Myc', 'CDK10', 'proteins', 'detected', 'presence', 'cyclin', 'M', 'CDK10', 'wt', 'kd', 'immunoprecipitates', 'proteins', 'coexpressed', 'pair', 'wise', 'Fig', '1E', 'We', 'confirmed', 'observations', 'detecting', 'presence', 'Myc', 'CDK10', 'cyclin', 'M', 'V5', '6His', 'immunoprecipitates', 'Fig', 'S1B', 'These', 'experiments', 'confirmed', 'lack', 'robust', 'interaction', 'CDK10', 'P2', 'isoform', 'cyclin', 'M', 'Fig', 'S1C', 'To', 'detect', 'interaction', 'endogenous', 'proteins', 'performed', 'immunoprecipitations', 'nontransfected', 'MCF7', 'cells', 'derived', 'human', 'breast', 'cancer', 'CDK10', 'cyclin', 'M', 'antibodies', 'detected', 'cognate', 'endogenous', 'proteins', 'Western', 'blotting', 'We', 'readily', 'detected', 'cyclin', 'M', 'immunoprecipitates', 'obtained', 'CDK10', 'antibody', 'control', 'antibody', 'Fig', '1F', 'These', 'results', 'confirm', 'physical', 'interaction', 'CDK10', 'cyclin', 'M', 'human', 'cells', 'To', 'unveil', 'hypothesized', 'CDK10', 'cyclin', 'M', 'protein', 'kinase', 'activity', 'produced', 'GST', 'CDK10', 'StrepII', 'cyclin', 'M', 'fusion', 'proteins', 'insect', 'cells', 'either', 'individually', 'combination', 'We', 'observed', 'GST', 'CDK10', 'StrepII', 'cyclin', 'M', 'copurified', 'thus', 'confirming', 'interaction', 'yet', 'another', 'cellular', 'model', 'Fig', '2A', 'We', 'performed', 'vitro', 'kinase', 'assays', 'purified', 'proteins', 'using', 'histone', 'H1', 'generic', 'substrate', 'Histone', 'H1', 'phosphorylation', 'detected', 'lysates', 'cells', 'coexpressing', 'GST', 'CDK10', 'StrepII', 'cyclin', 'M', 'No', 'phosphorylation', 'detected', 'GST', 'CDK10', 'StrepII', 'cyclin', 'M', 'expressed', 'alone', 'StrepII', 'cyclin', 'M', 'coexpressed', 'GST', 'CDK10', 'kd', 'Fig', '2A', 'Next', 'investigated', 'whether', 'ETS2', 'known', 'interact', 'CDK10', '9', 'Fig', '1C', 'phosphorylation', 'substrate', 'CDK10', 'cyclin', 'M', 'We', 'detected', 'strong', 'phosphorylation', 'ETS2', 'GST', 'CDK10', 'StrepII', 'cyclin', 'M', 'purified', 'heterodimer', 'whereas', 'phosphorylation', 'detected', 'using', 'GST', 'CDK10', 'alone', 'GST', 'CDK10', 'kd', 'StrepII', 'cyclin', 'M', 'heterodimer', 'Fig', '2B', 'Fig', '2', 'In', 'new', 'window', 'Download', 'PPTFig', '2', 'CDK10', 'cyclin', 'M', 'dependent', 'protein', 'kinase', 'A', 'In', 'vitro', 'protein', 'kinase', 'assay', 'histone', 'H1', 'Lysates', 'insect', 'cells', 'expressing', 'different', 'proteins', 'purified', 'glutathione', 'Sepharose', 'matrix', 'capture', 'GST', 'CDK10', 'wt', 'kd', 'fusion', 'proteins', 'alone', 'complex', 'STR', 'CycM', 'fusion', 'protein', 'Purified', 'protein', 'expression', 'levels', 'analyzed', 'Western', 'blots', 'Top', 'Upper', 'Middle', 'The', 'kinase', 'activity', 'determined', 'autoradiography', 'histone', 'H1', 'whose', 'added', 'amounts', 'visualized', 'Coomassie', 'staining', 'Lower', 'Middle', 'Bottom', 'B', 'Same', 'A', 'using', 'purified', 'recombinant', '6His', 'ETS2', 'substrate', 'CDK10', 'silencing', 'shown', 'increase', 'ETS2', 'driven', 'c', 'RAF', 'transcription', 'activate', 'MAPK', 'pathway', '6', 'We', 'investigated', 'whether', 'cyclin', 'M', 'also', 'involved', 'regulatory', 'pathway', 'To', 'aim', 'highly', 'specific', 'silencing', 'used', 'siRNA', 'pools', 'mix', 'four', 'different', 'siRNAs', 'low', 'final', 'concentration', '10', 'nM', 'Both', 'CDK10', 'cyclin', 'M', 'siRNA', 'pools', 'silenced', 'expression', 'cognate', 'targets', 'Fig', '3', 'A', 'C', 'Fig', 'S2', 'interestingly', 'cyclin', 'M', 'siRNA', 'pool', 'also', 'caused', 'marked', 'decrease', 'CDK10', 'protein', 'level', 'Fig', '3A', 'Fig', 'S2B', 'These', 'results', 'shown', 'Fig', '1D', 'suggest', 'cyclin', 'M', 'binding', 'stabilizes', 'CDK10', 'Cyclin', 'M', 'silencing', 'induced', 'increase', 'c', 'Raf', 'protein', 'mRNA', 'levels', 'Fig', '3', 'B', 'C', 'phosphorylated', 'ERK1', 'ERK2', 'protein', 'levels', 'Fig', 'S3B', 'similarly', 'CDK10', 'silencing', 'As', 'expected', 'effects', '6', 'CDK10', 'cyclin', 'M', 'silencing', 'decreased', 'sensitivity', 'ER', 'MCF7', 'cells', 'tamoxifen', 'similar', 'extent', 'The', 'combined', 'silencing', 'genes', 'result', 'higher', 'resistance', 'drug', 'Fig', 'S3C', 'Altogether', 'observations', 'demonstrate', 'functional', 'interaction', 'cyclin', 'M', 'CDK10', 'negatively', 'controls', 'ETS2', 'Fig', '3', 'In', 'new', 'window', 'Download', 'PPTFig', '3', 'Cyclin', 'M', 'silencing', 'regulates', 'c', 'Raf', 'expression', 'A', 'Western', 'blot', 'analysis', 'endogenous', 'CDK10', 'cyclin', 'M', 'expression', 'levels', 'MCF7', 'cells', 'response', 'siRNA', 'mediated', 'gene', 'silencing', 'B', 'Western', 'blot', 'analysis', 'endogenous', 'c', 'Raf', 'expression', 'levels', 'MCF7', 'cells', 'response', 'CDK10', 'cyclin', 'M', 'silencing', 'A', 'quantification', 'shown', 'Fig', 'S3A', 'C', 'Quantitative', 'RT', 'PCR', 'analysis', 'CDK10', 'cyclin', 'M', 'c', 'Raf', 'mRNA', 'levels', 'response', 'CDK10', 'Upper', 'cyclin', 'M', 'Lower', 'silencing', 'P', '0', '01', 'P', '0', '001', 'We', 'wished', 'explore', 'mechanism', 'CDK10', 'cyclin', 'M', 'controls', 'ETS2', 'ETS2', 'short', 'lived', 'protein', 'degraded', 'proteasome', '13', 'A', 'straightforward', 'hypothesis', 'CDK10', 'cyclin', 'M', 'positively', 'controls', 'ETS2', 'degradation', 'We', 'thus', 'examined', 'impact', 'CDK10', 'cyclin', 'M', 'silencing', 'ETS2', 'expression', 'levels', 'The', 'silencing', 'CDK10', 'cyclin', 'M', 'caused', 'increase', 'expression', 'levels', 'exogenously', 'expressed', 'Flag', 'ETS2', 'protein', 'Fig', 'S4A', 'well', 'endogenous', 'ETS2', 'protein', 'Fig', '4A', 'This', 'increase', 'attributable', 'increased', 'ETS2', 'mRNA', 'levels', 'marginally', 'fluctuated', 'response', 'CDK10', 'cyclin', 'M', 'silencing', 'Fig', 'S4B', 'We', 'examined', 'expression', 'levels', 'Flag', 'tagged', 'ETS2', 'protein', 'expressed', 'alone', 'combination', 'Myc', 'CDK10', 'CDK10', 'kd', 'without', 'cyclin', 'M', 'V5', '6His', 'Flag', 'ETS2', 'readily', 'detected', 'expressed', 'alone', 'lesser', 'extent', 'coexpressed', 'CDK10', 'kd', 'However', 'expression', 'level', 'dramatically', 'decreased', 'coexpressed', 'CDK10', 'alone', 'CDK10', 'cyclin', 'M', 'Fig', '4B', 'These', 'observations', 'suggest', 'endogenous', 'cyclin', 'M', 'levels', 'excess', 'compared', 'CDK10', 'MCF7', 'cells', 'show', 'major', 'decrease', 'ETS2', 'levels', 'observed', 'upon', 'CDK10', 'coexpression', 'involves', 'CDK10', 'kinase', 'activity', 'Treatment', 'cells', 'coexpressing', 'Flag', 'ETS2', 'CDK10', 'cyclin', 'M', 'proteasome', 'inhibitor', 'MG132', 'largely', 'rescued', 'Flag', 'ETS2', 'expression', 'levels', 'Fig', '4B', 'Fig', '4', 'In', 'new', 'window', 'Download', 'PPTFig', '4', 'CDK10', 'cyclin', 'M', 'controls', 'ETS2', 'stability', 'human', 'cancer', 'derived', 'cells', 'A', 'Western', 'blot', 'analysis', 'endogenous', 'ETS2', 'expression', 'levels', 'MCF7', 'cells', 'response', 'siRNA', 'mediated', 'CDK10', 'cyclin', 'M', 'silencing', 'A', 'quantification', 'shown', 'Fig', 'S4B', 'B', 'Western', 'blot', 'analysis', 'exogenously', 'expressed', 'Flag', 'ETS2', 'protein', 'levels', 'MCF7', 'cells', 'cotransfected', 'empty', 'vectors', 'coexpressing', 'Myc', 'CDK10', 'wt', 'kd', 'Myc', 'CDK10', 'CycM', 'V5', '6His', 'The', 'latter', 'cells', 'treated', '16', 'h', 'MG132', 'proteasome', 'inhibitor', 'Proper', 'expression', 'CDK10', 'cyclin', 'M', 'tagged', 'proteins', 'verified', 'Western', 'blot', 'analysis', 'C', 'D', 'Western', 'blot', 'analysis', 'expression', 'levels', 'exogenously', 'expressed', 'Flag', 'ETS2', 'wild', 'type', 'mutant', 'proteins', 'MCF7', 'cells', 'absence', 'C', 'response', 'D', 'Myc', 'CDK10', 'CycM', 'V5', '6His', 'expression', 'Quantifications', 'shown', 'Fig', 'S4', 'C', 'D', 'A', 'mass', 'spectrometry', 'analysis', 'recombinant', 'ETS2', 'phosphorylated', 'CDK10', 'cyclin', 'M', 'vitro', 'revealed', 'existence', 'multiple', 'phosphorylated', 'residues', 'among', 'two', 'neighboring', 'phospho', 'serines', 'positions', '220', '225', 'may', 'form', 'phosphodegron', '14', 'Figs', 'S5', 'S8', 'To', 'confirm', 'finding', 'compared', 'phosphorylation', 'level', 'recombinant', 'ETS2wt', 'ETS2SASA', 'protein', 'mutant', 'bearing', 'alanine', 'substitutions', 'two', 'serines', 'As', 'expected', 'existence', 'multiple', 'phosphorylation', 'sites', 'detected', 'small', 'reproducible', 'significant', 'decrease', 'phosphorylation', 'level', 'ETS2SASA', 'compared', 'ETS2wt', 'Fig', 'S9', 'thus', 'confirming', 'Ser220', 'Ser225', 'phosphorylated', 'CDK10', 'cyclin', 'M', 'To', 'establish', 'direct', 'link', 'ETS2', 'phosphorylation', 'CDK10', 'cyclin', 'M', 'degradation', 'examined', 'expression', 'levels', 'Flag', 'ETS2SASA', 'In', 'absence', 'CDK10', 'cyclin', 'M', 'coexpression', 'differ', 'significantly', 'Flag', 'ETS2', 'This', 'contrary', 'Flag', 'ETS2DBM', 'bearing', 'deletion', 'N', 'terminal', 'destruction', 'D', 'box', 'previously', 'shown', 'involved', 'APC', 'Cdh1', 'mediated', 'degradation', 'ETS2', '13', 'Fig', '4C', 'However', 'contrary', 'Flag', 'ETS2', 'wild', 'type', 'expression', 'level', 'Flag', 'ETS2SASA', 'remained', 'insensitive', 'CDK10', 'cyclin', 'M', 'coexpression', 'Fig', '4D', 'Altogether', 'results', 'suggest', 'CDK10', 'cyclin', 'M', 'directly', 'controls', 'ETS2', 'degradation', 'phosphorylation', 'two', 'serines', 'Finally', 'studied', 'lymphoblastoid', 'cell', 'line', 'derived', 'patient', 'STAR', 'syndrome', 'bearing', 'FAM58A', 'mutation', 'c', '555', '1G', 'A', 'predicted', 'result', 'aberrant', 'splicing', '10', 'In', 'accordance', 'incomplete', 'skewing', 'X', 'chromosome', 'inactivation', 'previously', 'found', 'patient', 'detected', 'decreased', 'expression', 'level', 'cyclin', 'M', 'protein', 'STAR', 'cell', 'line', 'compared', 'control', 'lymphoblastoid', 'cell', 'line', 'In', 'line', 'preceding', 'observations', 'detected', 'increased', 'expression', 'level', 'ETS2', 'protein', 'STAR', 'cell', 'line', 'compared', 'control', 'Fig', '5A', 'Fig', 'S10A', 'We', 'examined', 'quantitative', 'RT', 'PCR', 'mRNA', 'expression', 'levels', 'corresponding', 'genes', 'The', 'STAR', 'cell', 'line', 'showed', 'decreased', 'expression', 'level', 'cyclin', 'M', 'mRNA', 'expression', 'level', 'ETS2', 'mRNA', 'similar', 'control', 'cell', 'line', 'Fig', '5B', 'To', 'demonstrate', 'increase', 'ETS2', 'protein', 'expression', 'indeed', 'result', 'decreased', 'cyclin', 'M', 'expression', 'observed', 'STAR', 'patient', 'derived', 'cell', 'line', 'expressed', 'cyclin', 'M', 'V5', '6His', 'cell', 'line', 'This', 'expression', 'caused', 'decrease', 'ETS2', 'protein', 'levels', 'Fig', '5C', 'Fig', '5', 'In', 'new', 'window', 'Download', 'PPTFig', '5', 'Decreased', 'cyclin', 'M', 'expression', 'STAR', 'patient', 'derived', 'cells', 'results', 'increased', 'ETS2', 'protein', 'level', 'A', 'Western', 'blot', 'analysis', 'cyclin', 'M', 'ETS2', 'protein', 'levels', 'STAR', 'patient', 'derived', 'lymphoblastoid', 'cell', 'line', 'control', 'lymphoblastoid', 'cell', 'line', 'derived', 'healthy', 'individual', 'A', 'quantification', 'shown', 'Fig', 'S10A', 'B', 'Quantitative', 'RT', 'PCR', 'analysis', 'cyclin', 'M', 'ETS2', 'mRNA', 'levels', 'cells', 'P', '0', '001', 'C', 'Western', 'blot', 'analysis', 'ETS2', 'protein', 'levels', 'STAR', 'patient', 'derived', 'lymphoblastoid', 'cell', 'line', 'transfected', 'empty', 'vector', 'vector', 'directing', 'expression', 'cyclin', 'M', 'V5', '6His', 'Another', 'Western', 'blot', 'revealing', 'endogenously', 'exogenously', 'expressed', 'cyclin', 'M', 'levels', 'shown', 'Fig', 'S10B', 'A', 'quantification', 'ETS2', 'protein', 'levels', 'shown', 'Fig', 'S10C', 'Previous', 'SectionNext', 'SectionDiscussionIn', 'work', 'unveil', 'interaction', 'CDK10', 'last', 'orphan', 'CDK', 'discovered', 'pregenomic', 'era', '2', 'cyclin', 'M', 'cyclin', 'associated', 'human', 'genetic', 'disease', 'far', 'whose', 'functions', 'remain', 'unknown', '10', 'The', 'closest', 'paralogs', 'CDK10', 'within', 'CDK', 'family', 'CDK11', 'proteins', 'interact', 'L', 'type', 'cyclins', '15', 'Interestingly', 'closest', 'paralog', 'cyclins', 'within', 'cyclin', 'family', 'cyclin', 'M', 'Fig', 'S11', 'The', 'fact', 'none', 'shorter', 'CDK10', 'isoforms', 'interact', 'robustly', 'cyclin', 'M', 'suggests', 'alternative', 'splicing', 'CDK10', 'gene', '16', '17', 'plays', 'important', 'role', 'regulating', 'CDK10', 'functions', 'The', 'functional', 'relevance', 'interaction', 'CDK10', 'cyclin', 'M', 'supported', 'different', 'observations', 'Both', 'proteins', 'seem', 'enhance', 'stability', 'judged', 'increased', 'expression', 'levels', 'partner', 'exogenously', 'coexpressed', 'Fig', '1D', 'much', 'reduced', 'endogenous', 'CDK10', 'expression', 'level', 'observed', 'response', 'cyclin', 'M', 'silencing', 'Fig', '3A', 'Fig', 'S2B', 'CDK10', 'subject', 'ubiquitin', 'mediated', 'degradation', '18', 'Our', 'observations', 'suggest', 'cyclin', 'M', 'protects', 'CDK10', 'degradation', 'cyclin', 'partner', 'CDK10', 'least', 'MCF7', 'cells', 'They', 'also', 'suggest', 'cyclin', 'M', 'stability', 'enhanced', 'upon', 'binding', 'CDK10', 'independently', 'kinase', 'activity', 'seen', 'cyclin', 'C', 'CDK8', '19', 'We', 'uncover', 'cyclin', 'M', 'dependent', 'CDK10', 'protein', 'kinase', 'activity', 'vitro', 'thus', 'demonstrating', 'protein', 'named', 'CDK', 'sole', 'basis', 'amino', 'acid', 'sequence', 'indeed', 'genuine', 'cyclin', 'dependent', 'kinase', 'Our', 'Y2H', 'assays', 'reveal', 'truncated', 'cyclin', 'M', 'proteins', 'corresponding', 'hypothetical', 'products', 'two', 'STAR', 'syndrome', 'associated', 'FAM58A', 'mutations', 'produce', 'interaction', 'phenotype', 'CDK10', 'Hence', 'regardless', 'whether', 'mutated', 'mRNAs', 'undergo', 'nonsense', 'mediated', 'decay', 'suggested', 'decreased', 'cyclin', 'M', 'mRNA', 'levels', 'STAR', 'cells', 'shown', 'Fig', '5B', 'give', 'rise', 'truncated', 'cyclin', 'M', 'proteins', 'females', 'affected', 'STAR', 'syndrome', 'must', 'exhibit', 'compromised', 'CDK10', 'cyclin', 'M', 'kinase', 'activity', 'least', 'tissues', 'specific', 'developmental', 'stages', 'We', 'show', 'ETS2', 'known', 'interactor', 'CDK10', 'phosphorylation', 'substrate', 'CDK10', 'cyclin', 'M', 'vitro', 'CDK10', 'cyclin', 'M', 'kinase', 'activity', 'positively', 'controls', 'ETS2', 'degradation', 'proteasome', 'This', 'control', 'seems', 'exerted', 'fine', 'mechanism', 'judged', 'sensitivity', 'ETS2', 'levels', 'partially', 'decreased', 'CDK10', 'cyclin', 'M', 'levels', 'achieved', 'MCF7', 'cells', 'observed', 'STAR', 'cells', 'respectively', 'These', 'findings', 'offer', 'straightforward', 'explanation', 'already', 'reported', 'regulation', 'ETS2', 'driven', 'transcription', 'c', 'RAF', 'response', 'CDK10', 'silencing', '6', 'We', 'bring', 'evidence', 'CDK10', 'cyclin', 'M', 'directly', 'controls', 'ETS2', 'degradation', 'phosphorylation', 'two', 'neighboring', 'serines', 'may', 'form', 'noncanonical', 'β', 'TRCP', 'phosphodegron', 'DSMCPAS', '14', 'Because', 'none', 'two', 'serines', 'precede', 'proline', 'conform', 'usual', 'CDK', 'phosphorylation', 'sites', 'However', 'multiple', 'called', 'transcriptional', 'CDKs', 'CDK7', '8', '9', '11', 'CDK10', 'may', 'belong', 'Fig', 'S11', 'shown', 'phosphorylate', 'variety', 'motifs', 'non', 'proline', 'directed', 'fashion', 'especially', 'context', 'molecular', 'docking', 'substrate', '20', 'Here', 'hypothesized', 'high', 'affinity', 'interaction', 'CDK10', 'Pointed', 'domain', 'ETS2', '6', '9', 'Fig', '1C', 'would', 'allow', 'docking', 'mediated', 'phosphorylation', 'atypical', 'sites', 'The', 'control', 'ETS2', 'degradation', 'involves', 'number', 'players', 'including', 'APC', 'Cdh1', '13', 'cullin', 'RING', 'ligase', 'CRL4', '21', 'The', 'formal', 'identification', 'ubiquitin', 'ligase', 'involved', 'CDK10', 'cyclin', 'M', 'pathway', 'elucidation', 'concerted', 'action', 'ubiquitin', 'ligases', 'regulate', 'ETS2', 'degradation', 'require', 'studies', 'Our', 'results', 'present', 'number', 'significant', 'biological', 'medical', 'implications', 'First', 'shed', 'light', 'regulation', 'ETS2', 'plays', 'important', 'role', 'development', '22', 'frequently', 'deregulated', 'many', 'cancers', '23', 'Second', 'results', 'contribute', 'understanding', 'molecular', 'mechanisms', 'causing', 'tamoxifen', 'resistance', 'associated', 'reduced', 'CDK10', 'expression', 'levels', 'suggest', 'like', 'CDK10', '6', 'cyclin', 'M', 'could', 'also', 'predictive', 'clinical', 'marker', 'hormone', 'therapy', 'response', 'ERα', 'positive', 'breast', 'cancer', 'patients', 'Third', 'findings', 'offer', 'interesting', 'hypothesis', 'molecular', 'mechanisms', 'underlying', 'STAR', 'syndrome', 'Ets2', 'transgenic', 'mice', 'showing', 'less', 'twofold', 'overexpression', 'Ets2', 'present', 'severe', 'cranial', 'abnormalities', '24', 'observed', 'STAR', 'patients', 'could', 'thus', 'caused', 'least', 'part', 'increased', 'ETS2', 'protein', 'levels', 'Another', 'expected', 'consequence', 'enhanced', 'ETS2', 'expression', 'levels', 'would', 'decreased', 'risk', 'develop', 'certain', 'types', 'cancers', 'increased', 'risk', 'develop', 'others', 'Studies', 'various', 'mouse', 'models', 'including', 'models', 'Down', 'syndrome', 'three', 'copies', 'ETS2', 'exist', 'revealed', 'ETS2', 'dosage', 'repress', 'promote', 'tumor', 'growth', 'hence', 'ETS2', 'exerts', 'noncell', 'autonomous', 'functions', 'cancer', '25', 'Intringuingly', 'one', 'STAR', 'patients', 'identified', 'far', 'diagnosed', 'nephroblastoma', '26', 'Finally', 'findings', 'facilitate', 'general', 'exploration', 'biological', 'functions', 'CDK10', 'particular', 'role', 'control', 'cell', 'division', 'Previous', 'studies', 'suggested', 'either', 'positive', 'role', 'cell', 'cycle', 'control', '5', '6', 'tumor', 'suppressive', 'activity', 'cancers', '7', '8', 'The', 'severe', 'growth', 'retardation', 'exhibited', 'STAR', 'patients', 'strongly', 'suggests', 'CDK10', 'cyclin', 'M', 'plays', 'important', 'role', 'control', 'cell', 'proliferation', 'Previous', 'SectionNext', 'SectionMaterials', 'MethodsCloning', 'CDK10', 'cyclin', 'M', 'cDNAs', 'plasmid', 'constructions', 'tamoxifen', 'response', 'analysis', 'quantitative', 'RT', 'PCR', 'mass', 'spectrometry', 'experiments', 'antibody', 'production', 'detailed', 'SI', 'Materials', 'Methods', 'Yeast', 'Two', 'Hybrid', 'Interaction', 'Assays', 'We', 'performed', 'yeast', 'interaction', 'mating', 'assays', 'previously', 'described', '27', 'Mammalian', 'Cell', 'Cultures', 'Transfections', 'We', 'grew', 'human', 'HEK293', 'MCF7', 'cells', 'DMEM', 'supplemented', '10', 'vol', 'vol', 'FBS', 'Invitrogen', 'grew', 'lymphoblastoid', 'cells', 'RPMI', '1640', 'GlutaMAX', 'supplemented', '15', 'vol', 'vol', 'FBS', 'We', 'transfected', 'HEK293', 'MCF7', 'cells', 'using', 'Lipofectamine', '2000', 'Invitrogen', 'plasmids', 'Lipofectamine', 'RNAiMAX', 'Invitrogen', 'siRNAs', 'Jetprime', 'Polyplus', 'plasmids', 'siRNAs', 'combinations', 'according', 'manufacturers', 'instructions', 'We', 'transfected', 'lymphoblastoid', 'cells', 'electroporation', 'Neon', 'Invitrogen', 'For', 'ETS2', 'stability', 'studies', 'treated', 'MCF7', 'cells', '32', 'h', 'transfection', '10', 'μM', 'MG132', 'Fisher', 'Scientific', '16', 'h', 'Coimmunoprecipitation', 'Western', 'Blot', 'Experiments', 'We', 'collected', 'cells', 'scraping', 'PBS', 'centrifugation', 'lymphoblastoid', 'cells', 'lysed', 'sonication', 'lysis', 'buffer', 'containing', '60', 'mM', 'β', 'glycerophosphate', '15', 'mM', 'p', 'nitrophenylphosphate', '25', 'mM', '3', 'N', 'morpholino', 'propanesulfonic', 'acid', 'Mops', 'pH', '7', '2', '15', 'mM', 'EGTA', '15', 'mM', 'MgCl2', '1', 'mM', 'Na', 'vanadate', '1', 'mM', 'NaF', '1mM', 'phenylphosphate', '0', '1', 'Nonidet', 'P', '40', 'protease', 'inhibitor', 'mixture', 'Roche', 'We', 'spun', 'lysates', '15', 'min', '20', '000', 'g', '4', 'C', 'collected', 'supernatants', 'determined', 'protein', 'content', 'using', 'Bradford', 'assay', 'We', 'performed', 'immunoprecipitation', 'experiments', '500', 'μg', 'total', 'proteins', 'lysis', 'buffer', 'We', 'precleared', 'lysates', '20', 'μL', 'protein', 'A', 'G', 'agarose', 'beads', 'incubated', '1', 'h', '4', 'C', 'rotating', 'wheel', 'We', 'added', '5', 'μg', 'antibody', 'supernatants', 'incubated', '1', 'h', '4', 'C', 'rotating', 'wheel', 'added', '20', 'μL', 'protein', 'A', 'G', 'agarose', 'beads', 'incubated', '1', 'h', '4', 'C', 'rotating', 'wheel', 'We', 'collected', 'beads', 'centrifugation', '30', '18', '000', 'g', '4', 'C', 'washed', 'three', 'times', 'bead', 'buffer', 'containing', '50', 'mM', 'Tris', 'pH', '7', '4', '5', 'mM', 'NaF', '250', 'mM', 'NaCl', '5', 'mM', 'EDTA', '5', 'mM', 'EGTA', '0', '1', 'Nonidet', 'P', '40', 'protease', 'inhibitor', 'coktail', 'Roche', 'We', 'directly', 'added', 'sample', 'buffer', 'washed', 'pellets', 'heat', 'denatured', 'proteins', 'ran', 'samples', '10', 'Bis', 'Tris', 'SDS', 'PAGE', 'We', 'transferred', 'proteins', 'onto', 'Hybond', 'nitrocellulose', 'membranes', 'processed', 'blots', 'according', 'standard', 'procedures', 'For', 'Western', 'blot', 'experiments', 'used', 'following', 'primary', 'antibodies', 'anti', 'Myc', 'Abcam', 'ab9106', '1', '2', '000', 'anti', 'V5', 'Invitrogen', 'R960', '1', '5', '000', 'anti', 'tubulin', 'Santa', 'Cruz', 'Biotechnology', 'B', '7', '1', '500', 'anti', 'CDK10', 'Covalab', 'pab0847p', '1', '500', 'Santa', 'Cruz', 'Biotechnology', 'C', '19', '1', '500', 'anti', 'CycM', 'home', 'made', 'dilution', '1', '500', 'Covalab', 'pab0882', 'P', 'dilution', '1', '500', 'anti', 'Raf1', 'Santa', 'Cruz', 'Biotechnology', 'C', '20', '1', '1', '000', 'anti', 'ETS2', 'Santa', 'Cruz', 'Biotechnology', 'C', '20', '1', '1', '000', 'anti', 'Flag', 'Sigma', 'F7425', '1', '1', '000', 'anti', 'actin', 'Sigma', 'A5060', '1', '5', '000', 'We', 'used', 'HRP', 'coupled', 'anti', 'goat', 'Santa', 'Cruz', 'Biotechnology', 'SC', '2033', 'dilution', '1', '2', '000', 'anti', 'mouse', 'Bio', 'Rad', '170', '6516', 'dilution', '1', '3', '000', 'anti', 'rabbit', 'Bio', 'Rad', '172', '1019', '1', '5', '000', 'secondary', 'antibodies', 'We', 'revealed', 'blots', 'enhanced', 'chemiluminescence', 'SuperSignal', 'West', 'Femto', 'Thermo', 'Scientific', 'Production', 'Purification', 'Recombinant', 'Proteins', 'GST', 'CDK10', 'kd', 'StrepII', 'CycM', 'We', 'generated', 'recombinant', 'bacmids', 'DH10Bac', 'Escherichia', 'coli', 'baculoviruses', 'Sf9', 'cells', 'using', 'Bac', 'Bac', 'system', 'described', 'provider', 'Invitrogen', 'We', 'infected', 'Sf9', 'cells', 'GST', 'CDK10', 'GST', 'CDK10kd', 'producing', 'viruses', 'coinfected', 'cells', 'StrepII', 'CycM', 'producing', 'viruses', 'collected', 'cells', '72', 'h', 'infection', 'To', 'purify', 'GST', 'fusion', 'proteins', 'spun', '250', 'mL', 'cells', 'resuspended', 'pellet', '40', 'mL', 'lysis', 'buffer', 'PBS', '250', 'mM', 'NaCl', '0', '5', 'Nonidet', 'P', '40', '50', 'mM', 'NaF', '10', 'mM', 'β', 'glycerophosphate', '0', '3', 'mM', 'Na', 'vanadate', 'containing', 'protease', 'inhibitor', 'mixture', 'Roche', 'We', 'lysed', 'cells', 'sonication', 'spun', 'lysate', '30', 'min', '15', '000', 'g', 'collected', 'soluble', 'fraction', 'added', '1', 'mL', 'glutathione', 'Sepharose', 'matrix', 'We', 'incubated', '1', 'h', '4', 'C', 'washed', 'four', 'times', 'lysis', 'buffer', 'one', 'time', 'kinase', 'buffer', 'A', 'see', 'finally', 'resuspended', 'beads', '100', 'μL', 'kinase', 'buffer', 'A', 'containing', '10', 'vol', 'vol', 'glycerol', 'storage', '6His', 'ETS2', 'We', 'transformed', 'Origami2', 'DE3', 'Novagen', '6His', 'ETS2', 'expression', 'vector', 'We', 'induced', 'expression', '0', '2', 'mM', 'isopropyl', 'β', '1', 'thiogalactopyranoside', '3', 'h', '22', 'C', 'To', 'purify', '6His', 'ETS2', 'spun', '50', 'mL', 'cells', 'resuspended', 'pellet', '2', 'mL', 'lysis', 'buffer', 'PBS', '300', 'mM', 'NaCl', '10', 'mM', 'Imidazole', '1', 'mM', 'DTT', '0', '1', 'Nonidet', 'P', '40', 'containing', 'protease', 'inhibitor', 'mixture', 'without', 'EDTA', 'Roche', 'We', 'lysed', 'cells', '1', '6', 'bar', 'using', 'cell', 'disruptor', 'spun', 'lysate', '10', 'min', '20', '000', 'g', 'We', 'collected', 'soluble', 'fraction', 'added', '200', 'μL', 'Cobalt', 'beads', 'Thermo', 'Scientific', 'After', '1', 'h', 'incubation', '4', 'C', 'rotating', 'wheel', 'washed', 'four', 'times', 'lysis', 'buffer', 'To', 'elute', 'incubated', 'beads', '30', 'min', 'elution', 'buffer', 'PBS', '250', 'mM', 'imidazole', 'pH', '7', '6', 'containing', 'protease', 'inhibitor', 'mixture', 'spun', '30', '10', '000', 'g', 'collected', 'eluted', 'protein', 'Protein', 'Kinase', 'Assays', 'We', 'mixed', 'glutathione', 'Sepharose', 'beads', 'harboring', 'GST', 'CDK10', 'wt', 'kd', 'either', 'monomeric', 'complexed', 'StrepII', 'CycM', '22', '7', 'μM', 'BSA', '15', 'mM', 'DTT', '100', 'μM', 'ATP', '5', 'μCi', 'ATP', 'γ', '32P', '7', '75', 'μM', 'histone', 'H1', '1', 'μM', '6His', 'ETS2', 'added', 'kinase', 'buffer', 'A', '25', 'mM', 'Tris', 'HCl', '10', 'mM', 'MgCl2', '1', 'mM', 'EGTA', '1', 'mM', 'DTT', '3', '7', 'μM', 'heparin', 'pH', '7', '5', 'total', 'volume', '30', 'μL', 'We', 'incubated', 'reactions', '30', 'min', '30', 'C', 'added', 'Laemli', 'sample', 'buffer', 'heat', 'denatured', 'samples', 'ran', '10', 'Bis', 'Tris', 'SDS', 'PAGE', 'We', 'cut', 'gel', 'slices', 'detect', 'GST', 'CDK10', 'StrepII', 'CycM', 'Western', 'blotting', 'We', 'stained', 'gel', 'slices', 'containing', 'substrate', 'Coomassie', 'R', '250', 'Bio', 'Rad', 'dried', 'detected', 'incorporated', 'radioactivity', 'autoradiography', 'We', 'identified', 'four', 'unrelated', 'girls', 'anogenital', 'renal', 'malformations', 'dysmorphic', 'facial', 'features', 'normal', 'intellect', 'syndactyly', 'toes', 'A', 'similar', 'combination', 'features', 'reported', 'previously', 'mother', 'daughter', 'pair1', 'Table', '1', 'Supplementary', 'Note', 'online', 'These', 'authors', 'noted', 'clinical', 'overlap', 'Townes', 'Brocks', 'syndrome', 'suggested', 'phenotype', 'represented', 'separate', 'autosomal', 'dominant', 'entity', 'MIM601446', 'Here', 'define', 'cardinal', 'features', 'syndrome', 'characteristic', 'facial', 'appearance', 'apparent', 'telecanthus', 'broad', 'tripartite', 'nasal', 'tip', 'variable', 'syndactyly', 'toes', '2', '5', 'hypoplastic', 'labia', 'anal', 'atresia', 'urogenital', 'malformations', 'Fig', '1a', 'h', 'We', 'also', 'observed', 'variety', 'features', 'Table', '1', 'Figure', '1', 'Clinical', 'molecular', 'characterization', 'STAR', 'syndrome', 'Figure', '1', 'Clinical', 'molecular', 'characterization', 'STAR', 'syndrome', 'f', 'Facial', 'appearances', 'cases', '1', '3', 'apparent', 'telecanthus', 'dysplastic', 'ears', 'thin', 'upper', 'lips', 'c', 'e', 'toe', 'syndactyly', '2', '5', '3', '5', '4', '5', 'b', 'f', 'cases', 'illustrate', 'recognizable', 'features', 'STAR', 'syndrome', 'specific', 'parental', 'consent', 'obtained', 'publication', 'photographs', 'Anal', 'atresia', 'hypoplastic', 'labia', 'shown', 'g', 'h', 'X', 'ray', 'films', 'feet', 'case', '2', 'showing', 'four', 'rays', 'left', 'delta', 'shaped', '4th', '5th', 'metatarsals', 'right', 'h', 'compare', 'clinical', 'picture', 'Array', 'CGH', 'data', 'Log2', 'ratio', 'represents', 'copy', 'number', 'loss', 'six', 'probes', 'spanning', '37', '9', '50', '7', 'kb', 'one', 'probe', 'positioned', 'within', 'FAM58A', 'The', 'deletion', 'remove', 'parts', 'functional', 'genes', 'j', 'Schematic', 'structure', 'FAM58A', 'position', 'mutations', 'FAM58A', 'five', 'coding', 'exons', 'boxes', 'The', 'cyclin', 'domain', 'green', 'encoded', 'exons', '2', '4', 'The', 'horizontal', 'arrow', 'indicates', 'deletion', 'extending', '5', 'case', '1', 'includes', 'exons', '1', '2', 'whereas', 'horizontal', 'line', 'exon', '5', 'indicates', 'deletion', 'found', 'case', '3', 'removes', 'exon', '5', '3', 'sequence', 'The', 'pink', 'horizontal', 'bars', 'boxes', 'indicate', 'amplicons', 'used', 'qPCR', 'sequencing', 'one', 'alternative', 'exon', '5', 'amplicon', 'indicated', 'space', 'constraints', 'The', 'mutation', '201dupT', 'case', '4', 'results', 'immediate', 'stop', 'codon', '555', '1G', 'A', '555', '1G', 'A', 'splice', 'mutations', 'cases', '2', '5', '6', 'predicted', 'deleterious', 'alter', 'conserved', 'splice', 'donor', 'acceptor', 'site', 'intron', '4', 'respectively', 'Full', 'size', 'image', '97', 'KB', 'Table', '1', 'Clinical', 'features', 'STAR', 'syndrome', 'cases', 'Table', '1', 'Clinical', 'features', 'STAR', 'syndrome', 'cases', 'Full', 'table', 'On', 'basis', 'phenotypic', 'overlap', 'Townes', 'Brocks', 'Okihiro', 'Feingold', 'syndromes', 'analyzed', 'SALL1', 'ref', '2', 'SALL4', 'ref', '3', 'MYCN4', 'found', 'mutations', 'genes', 'Supplementary', 'Methods', 'online', 'Next', 'carried', 'genome', 'wide', 'high', 'resolution', 'oligonucleotide', 'array', 'comparative', 'genomic', 'hybridization', 'CGH', '5', 'analysis', 'Supplementary', 'Methods', 'genomic', 'DNA', 'severely', 'affected', 'individual', 'case', '1', 'lower', 'lid', 'coloboma', 'epilepsy', 'syringomyelia', 'identified', 'heterozygous', 'deletion', '37', '9', '50', '7', 'kb', 'Xq28', 'removed', 'exons', '1', '2', 'FAM58A', 'Fig', '1i', 'j', 'Using', 'real', 'time', 'PCR', 'confirmed', 'deletion', 'child', 'excluded', 'unaffected', 'parents', 'Supplementary', 'Fig', '1a', 'online', 'Supplementary', 'Methods', 'Supplementary', 'Table', '1', 'online', 'Through', 'CGH', 'customized', 'oligonucleotide', 'array', 'enriched', 'probes', 'Xq28', 'followed', 'breakpoint', 'cloning', 'defined', 'exact', 'deletion', 'size', '40', '068', 'bp', 'g', '152', '514', '164_152', '554', '231del', 'chromosome', 'X', 'NCBI', 'Build', '36', '2', 'Fig', '1j', 'Supplementary', 'Figs', '2', '3', 'online', 'The', 'deletion', 'removes', 'coding', 'regions', 'exons', '1', '2', 'well', 'intron', '1', '2', '774', 'bp', '492', 'bp', 'intron', '2', '36', '608', 'bp', '5', 'sequence', 'including', '5', 'UTR', 'entire', 'KRT18P48', 'pseudogene', 'NCBI', 'gene', 'ID', '340598', 'Paternity', 'proven', 'using', 'routine', 'methods', 'We', 'find', 'deletions', 'overlapping', 'FAM58A', 'available', 'copy', 'number', 'variation', 'CNV', 'databases', 'Subsequently', 'carried', 'qPCR', 'analysis', 'three', 'affected', 'individuals', 'cases', '2', '3', '4', 'mother', 'daughter', 'pair', 'literature', 'cases', '5', '6', 'In', 'case', '3', 'detected', 'de', 'novo', 'heterozygous', 'deletion', '1', '1', '10', '3', 'kb', 'overlapping', 'exon', '5', 'Supplementary', 'Fig', '1b', 'online', 'Using', 'Xq28', 'targeted', 'array', 'CGH', 'breakpoint', 'cloning', 'identified', 'deletion', '4', '249', 'bp', 'g', '152', '504', '123_152', '508', '371del', 'chromosome', 'X', 'NCBI', 'Build', '36', '2', 'Fig', '1j', 'Supplementary', 'Figs', '2', '3', 'removed', '1', '265', 'bp', 'intron', '4', 'exon', '5', 'including', '3', 'UTR', '2', '454', 'bp', '3', 'sequence', 'We', 'found', 'heterozygous', 'FAM58A', 'point', 'mutations', 'remaining', 'cases', 'Fig', '1j', 'Supplementary', 'Fig', '2', 'Supplementary', 'Methods', 'Supplementary', 'Table', '1', 'In', 'case', '2', 'identified', 'mutation', '555', '1G', 'A', 'affecting', 'splice', 'donor', 'site', 'intron', '4', 'In', 'case', '4', 'identified', 'frameshift', 'mutation', '201dupT', 'immediately', 'results', 'premature', 'stop', 'codon', 'N68XfsX1', 'In', 'cases', '5', '6', 'detected', 'mutation', '556', '1G', 'A', 'alters', 'splice', 'acceptor', 'site', 'intron', '4', 'We', 'validated', 'point', 'mutations', 'deletions', 'independent', 'rounds', 'PCR', 'sequencing', 'qPCR', 'We', 'confirmed', 'paternity', 'de', 'novo', 'status', 'point', 'mutations', 'deletions', 'sporadic', 'cases', 'None', 'mutations', 'seen', 'DNA', '60', 'unaffected', 'female', 'controls', 'larger', 'deletions', 'involving', 'FAM58A', 'found', '93', 'unrelated', 'array', 'CGH', 'investigations', 'By', 'analyzing', 'X', 'chromosome', 'inactivation', 'Supplementary', 'Methods', 'Supplementary', 'Fig', '4', 'online', 'found', 'complete', 'skewing', 'X', 'inactivation', 'cases', '1', '3', '6', 'almost', 'complete', 'skewing', 'case', '2', 'suggesting', 'cells', 'carrying', 'mutation', 'active', 'X', 'chromosome', 'growth', 'disadvantage', 'fetal', 'development', 'Using', 'RT', 'PCR', 'RNA', 'lymphoblastoid', 'cells', 'case', '2', 'Supplementary', 'Fig', '2', 'find', 'aberrant', 'splice', 'products', 'additional', 'evidence', 'mutated', 'allele', 'inactivated', 'Furthermore', 'FAM58A', 'subjected', 'X', 'inactivation6', 'In', 'cases', '1', '3', 'parental', 'origin', 'deletions', 'could', 'determined', 'result', 'lack', 'informative', 'SNPs', 'Case', '5', 'mother', 'case', '6', 'gave', 'birth', 'two', 'boys', 'clinically', 'unaffected', 'samples', 'available', 'We', 'cannot', 'exclude', 'condition', 'lethal', 'males', 'No', 'fetal', 'losses', 'reported', 'families', 'The', 'function', 'FAM58A', 'unknown', 'The', 'gene', 'consists', 'five', 'coding', 'exons', '642', 'bp', 'coding', 'region', 'encodes', 'protein', '214', 'amino', 'acids', 'GenBank', 'lists', 'mRNA', 'length', '1', '257', 'bp', 'reference', 'sequence', 'NM_152274', '2', 'Expression', 'gene', 'EST', 'data', 'found', '27', '48', 'adult', 'tissues', 'including', 'kidney', 'colon', 'cervix', 'uterus', 'heart', 'NCBI', 'expression', 'viewer', 'UniGene', 'Hs', '496943', 'Expression', 'also', 'noted', '24', '26', 'listed', 'tumor', 'tissues', 'well', 'embryo', 'fetus', 'Genes', 'homologous', 'FAM58A', 'NCBI', 'HomoloGene', '13362', 'found', 'X', 'chromosome', 'chimpanzee', 'dog', 'The', 'zebrafish', 'similar', 'gene', 'chromosome', '23', 'However', 'mouse', 'rat', 'true', 'homologs', 'These', 'species', 'similar', 'intronless', 'genes', 'chromosomes', '11', 'mouse', '10', 'rat', 'likely', 'arising', 'retrotransposon', 'insertion', 'event', 'On', 'murine', 'X', 'chromosome', 'flanking', 'genes', 'Atp2b3', 'Dusp9', 'conserved', 'remnants', 'FAM58A', 'sequence', 'detected', 'FAM58A', 'contains', 'cyclin', 'box', 'fold', 'domain', 'protein', 'binding', 'domain', 'found', 'cyclins', 'role', 'cell', 'cycle', 'transcription', 'control', 'No', 'human', 'phenotype', 'resulting', 'cyclin', 'gene', 'mutation', 'yet', 'reported', 'Homozygous', 'knockout', 'mice', 'Ccnd1', 'encoding', 'cyclin', 'D1', 'viable', 'small', 'reduced', 'lifespan', 'They', 'also', 'dystrophic', 'changes', 'retina', 'likely', 'result', 'decreased', 'cell', 'proliferation', 'degeneration', 'photoreceptor', 'cells', 'embryogenesis7', '8', 'Cyclin', 'D1', 'colocalizes', 'SALL4', 'nucleus', 'proteins', 'cooperatively', 'mediate', 'transcriptional', 'repression9', 'As', 'phenotype', 'cases', 'overlaps', 'considerably', 'Townes', 'Brocks', 'syndrome', 'caused', 'SALL1', 'mutations1', 'carried', 'co', 'immunoprecipitation', 'find', 'SALL1', 'SALL4', 'would', 'interact', 'FAM58A', 'manner', 'similar', 'observed', 'SALL4', 'cyclin', 'D1', 'We', 'found', 'FAM58A', 'interacts', 'SALL1', 'SALL4', 'Supplementary', 'Fig', '5', 'online', 'supporting', 'hypothesis', 'FAM58A', 'SALL1', 'participate', 'developmental', 'pathway', 'How', 'FAM58A', 'mutations', 'lead', 'STAR', 'syndrome', 'Growth', 'retardation', 'cases', 'Table', '1', 'retinal', 'abnormalities', 'three', 'cases', 'reminiscent', 'reduced', 'body', 'size', 'retinal', 'anomalies', 'cyclin', 'D1', 'knockout', 'mice7', '8', 'Therefore', 'proliferation', 'defect', 'might', 'partly', 'responsible', 'STAR', 'syndrome', 'To', 'address', 'question', 'carried', 'knockdown', 'FAM58A', 'mRNA', 'followed', 'proliferation', 'assay', 'Transfection', 'HEK293', 'cells', 'three', 'different', 'FAM58A', 'specific', 'RNAi', 'oligonucleotides', 'resulted', 'significant', 'reduction', 'FAM58A', 'mRNA', 'expression', 'proliferation', 'transfected', 'cells', 'Supplementary', 'Methods', 'Supplementary', 'Fig', '6', 'online', 'supporting', 'link', 'FAM58A', 'cell', 'proliferation', 'We', 'found', 'loss', 'function', 'mutations', 'FAM58A', 'result', 'rather', 'homogeneous', 'clinical', 'phenotype', 'The', 'additional', 'anomalies', 'case', '1', 'likely', 'result', 'effect', '40', 'kb', 'deletion', 'expression', 'neighboring', 'gene', 'possibly', 'ATP2B3', 'DUSP9', 'However', 'cannot', 'exclude', 'homogeneous', 'phenotype', 'results', 'ascertainment', 'bias', 'FAM58A', 'mutations', 'including', 'missense', 'changes', 'could', 'result', 'broader', 'spectrum', 'malformations', 'The', 'genes', 'causing', 'overlapping', 'phenotypes', 'STAR', 'syndrome', 'Townes', 'Brocks', 'syndrome', 'seem', 'act', 'pathway', 'Of', 'note', 'MYCN', 'gene', 'mutated', 'Feingold', 'syndrome', 'direct', 'regulator', 'cyclin', 'D2', 'refs', '10', '11', 'thus', 'worth', 'exploring', 'whether', 'phenotypic', 'similarities', 'Feingold', 'STAR', 'syndrome', 'might', 'explained', 'direct', 'regulation', 'FAM58A', 'MYCN', 'FAM58A', 'located', 'approximately', '0', '56', 'Mb', 'centromeric', 'MECP2', 'Xq28', 'Duplications', 'overlapping', 'MECP2', 'FAM58A', 'described', 'associated', 'clinical', 'phenotype', 'females12', 'deletions', 'overlapping', 'MECP2', 'FAM58A', 'observed', 'date13', 'Although', 'genes', 'FAM58A', 'MECP2', 'implicated', 'brain', 'development', 'FAM58A', 'MECP2', 'genes', 'region', 'known', 'result', 'X', 'linked', 'dominant', 'phenotypes', 'thus', 'deletion', 'genes', 'allele', 'might', 'lethal', 'males', 'females'], tags=['Text_0'])"
      ]
     },
     "execution_count": 9,
     "metadata": {},
     "output_type": "execute_result"
    }
   ],
   "source": [
    "words[0]"
   ]
  },
  {
   "cell_type": "code",
   "execution_count": null,
   "metadata": {},
   "outputs": [],
   "source": [
    "%%time\n",
    "import os\n",
    "from gensim.models import Doc2Vec\n",
    "import multiprocessing\n",
    "import Cython\n",
    "\n",
    "Text_INPUT_DIM=300\n",
    "\n",
    "text_model=None\n",
    "filename='doc2vecNoStemSkipGram'\n",
    "#if os.path.isfile(filename):\n",
    "text_model = Doc2Vec.load(filename)\n",
    "#else:\n",
    "    #text_model = Doc2Vec(min_count=1, window=6, size=Text_INPUT_DIM, sample=1e-5, negative=5,\n",
    "    #                     workers=7, dbow_words=1, iter=5,seed=1)\n",
    "    #text_model.build_vocab(words)\n",
    "    #text_model.train(words, total_examples=text_model.corpus_count, epochs=text_model.iter)\n",
    "    #text_model.save(filename)"
   ]
  },
  {
   "cell_type": "markdown",
   "metadata": {},
   "source": [
    "## Gene and Variation Featurization"
   ]
  },
  {
   "cell_type": "code",
   "execution_count": null,
   "metadata": {
    "collapsed": true
   },
   "outputs": [],
   "source": [
    "def orig_amino(text):\n",
    "    if text.upper() == text:\n",
    "        return text[0]\n",
    "    else:\n",
    "        return 0\n",
    "\n",
    "def mutated_amino(text):\n",
    "    if text.upper() == text:\n",
    "        return text[-1]\n",
    "    else:\n",
    "        return 0"
   ]
  },
  {
   "cell_type": "code",
   "execution_count": null,
   "metadata": {},
   "outputs": [],
   "source": [
    "all_data['Original_Amino'] = all_data['Variation'].apply(orig_amino)\n",
    "all_data.Original_Amino.head()"
   ]
  },
  {
   "cell_type": "code",
   "execution_count": null,
   "metadata": {},
   "outputs": [],
   "source": [
    "all_data['Mutated_Amino'] = all_data['Variation'].apply(mutated_amino)\n",
    "all_data.Mutated_Amino.head()"
   ]
  },
  {
   "cell_type": "code",
   "execution_count": null,
   "metadata": {
    "scrolled": true
   },
   "outputs": [],
   "source": [
    "all_data"
   ]
  },
  {
   "cell_type": "code",
   "execution_count": null,
   "metadata": {
    "scrolled": true
   },
   "outputs": [],
   "source": [
    "amino = pd.read_csv('Amino_Acids.csv')\n",
    "amino"
   ]
  },
  {
   "cell_type": "code",
   "execution_count": null,
   "metadata": {
    "collapsed": true
   },
   "outputs": [],
   "source": [
    "aminoFeatures = pd.merge(all_data[['ID', 'Original_Amino', 'Mutated_Amino']],\n",
    "         amino[['Letter', 'Isoelectric_P', 'Hydrophobicity']],\n",
    "         how = 'left', left_on= 'Original_Amino', right_on = 'Letter')\n",
    "\n",
    "aminoFeatures = aminoFeatures.rename(columns = {'Isoelectric_P': 'orig_elec', 'Hydrophobicity': 'orig_hydro'})\n",
    "\n",
    "aminoFeatures = pd.merge(aminoFeatures,amino[['Letter', 'Isoelectric_P', 'Hydrophobicity']],\n",
    "         how = 'left', left_on= 'Mutated_Amino', right_on = 'Letter')"
   ]
  },
  {
   "cell_type": "code",
   "execution_count": null,
   "metadata": {
    "collapsed": true
   },
   "outputs": [],
   "source": [
    "aminoFeatures['Elec_Diff'] = abs(aminoFeatures['orig_elec'].subtract(aminoFeatures['Isoelectric_P']))\n",
    "aminoFeatures['Hydro_Diff'] = abs(aminoFeatures['orig_hydro'].subtract(aminoFeatures['Hydrophobicity']))\n",
    "aminoFeatures = aminoFeatures.drop(['Original_Amino', 'Mutated_Amino', 'orig_elec', 'orig_hydro', \n",
    "                                    'Isoelectric_P','Hydrophobicity', 'ID'], axis=1).fillna(0)\\\n",
    "            .rename(columns = {'Letter_x': 'Orig_Amino', 'Letter_y': 'Mut_Amino'})\n",
    "                            "
   ]
  },
  {
   "cell_type": "code",
   "execution_count": null,
   "metadata": {
    "scrolled": true
   },
   "outputs": [],
   "source": [
    "aminoFeatures.head()"
   ]
  },
  {
   "cell_type": "code",
   "execution_count": null,
   "metadata": {},
   "outputs": [],
   "source": [
    "aminoFeatures = pd.get_dummies(aminoFeatures)\n",
    "aminoFeatures.head()"
   ]
  },
  {
   "cell_type": "markdown",
   "metadata": {},
   "source": [
    "## Joining Features and Doc2Vec Arrays"
   ]
  },
  {
   "cell_type": "code",
   "execution_count": null,
   "metadata": {},
   "outputs": [],
   "source": [
    "train_size=len(train_x)\n",
    "test_size=len(test_x)\n",
    "\n",
    "text_train_arrays = np.zeros((train_size, Text_INPUT_DIM))\n",
    "text_test_arrays = np.zeros((test_size, Text_INPUT_DIM))\n",
    "\n",
    "for i in range(train_size):\n",
    "    text_train_arrays[i] = text_model.docvecs['Text_'+str(i)]\n",
    "\n",
    "j=0\n",
    "for i in range(train_size,train_size+test_size):\n",
    "    text_test_arrays[j] = text_model.docvecs['Text_'+str(i)]\n",
    "    j=j+1\n",
    "    \n",
    "text_train_arrays.shape"
   ]
  },
  {
   "cell_type": "code",
   "execution_count": null,
   "metadata": {
    "collapsed": true
   },
   "outputs": [],
   "source": [
    "train_set=np.hstack((aminoFeatures[:train_size], text_train_arrays))\n",
    "test_set=np.hstack((aminoFeatures[train_size:], text_test_arrays))"
   ]
  },
  {
   "cell_type": "code",
   "execution_count": null,
   "metadata": {},
   "outputs": [],
   "source": [
    "train_set.shape"
   ]
  },
  {
   "cell_type": "code",
   "execution_count": null,
   "metadata": {},
   "outputs": [],
   "source": [
    "from keras.utils import np_utils\n",
    "from sklearn.preprocessing import LabelEncoder\n",
    "\n",
    "label_encoder = LabelEncoder()\n",
    "label_encoder.fit(train_y)\n",
    "encoded_y = np_utils.to_categorical((label_encoder.transform(train_y)))\n",
    "encoded_y"
   ]
  },
  {
   "cell_type": "code",
   "execution_count": null,
   "metadata": {
    "collapsed": true
   },
   "outputs": [],
   "source": [
    "from keras.models import Sequential\n",
    "from keras.layers import Dense, Dropout, LSTM, Embedding, Input, RepeatVector\n",
    "\n",
    "def baseline_model():\n",
    "    model = Sequential()\n",
    "    model.add(Dense(512, input_dim=train_set.shape[1], kernel_initializer='normal', activation='relu'))\n",
    "    model.add(Dropout(0.6))\n",
    "    model.add(Dense(512, kernel_initializer='normal', activation='relu'))\n",
    "    model.add(Dropout(0.5))\n",
    "    model.add(Dense(512, kernel_initializer='normal', activation='relu'))\n",
    "    model.add(Dropout(0.3))\n",
    "    model.add(Dense(512, kernel_initializer='normal', activation='relu'))\n",
    "    model.add(Dropout(0.2))\n",
    "    model.add(Dense(128, kernel_initializer='normal', activation='relu'))\n",
    "    model.add(Dense(9, kernel_initializer='normal', activation=\"softmax\"))\n",
    "\n",
    "    model.compile(loss='categorical_crossentropy', optimizer='adam', metrics=['accuracy'])\n",
    "    return model\n",
    "\n",
    "model = baseline_model()"
   ]
  },
  {
   "cell_type": "code",
   "execution_count": null,
   "metadata": {},
   "outputs": [],
   "source": [
    "estimator=model.fit(train_set, encoded_y, validation_split=0.2, epochs=10, batch_size=64)"
   ]
  },
  {
   "cell_type": "code",
   "execution_count": null,
   "metadata": {},
   "outputs": [],
   "source": [
    "print(\"Training accuracy: %.2f%% / Validation accuracy: %.2f%%\" % \\\n",
    "      (100*estimator.history['acc'][-1], 100*estimator.history['val_acc'][-1]))"
   ]
  },
  {
   "cell_type": "code",
   "execution_count": 65,
   "metadata": {},
   "outputs": [
    {
     "name": "stdout",
     "output_type": "stream",
     "text": [
      "5216/5668 [==========================>...] - ETA: 0s"
     ]
    }
   ],
   "source": [
    "y_pred = model.predict_proba(text_test_arrays)"
   ]
  },
  {
   "cell_type": "code",
   "execution_count": 66,
   "metadata": {
    "collapsed": true
   },
   "outputs": [],
   "source": [
    "test_index = test_x['ID'].values\n",
    "\n",
    "submission = pd.DataFrame(y_pred)\n",
    "submission['id'] = test_index\n",
    "submission.columns = ['class1', 'class2', 'class3', 'class4', 'class5', 'class6', 'class7', 'class8', 'class9', 'id']\n",
    "submission.to_csv(\"submission_all.csv\",index=False)"
   ]
  },
  {
   "cell_type": "code",
   "execution_count": null,
   "metadata": {
    "collapsed": true
   },
   "outputs": [],
   "source": []
  }
 ],
 "metadata": {
  "kernelspec": {
   "display_name": "Python 3",
   "language": "python",
   "name": "python3"
  },
  "language_info": {
   "codemirror_mode": {
    "name": "ipython",
    "version": 3
   },
   "file_extension": ".py",
   "mimetype": "text/x-python",
   "name": "python",
   "nbconvert_exporter": "python",
   "pygments_lexer": "ipython3",
   "version": "3.6.2"
  }
 },
 "nbformat": 4,
 "nbformat_minor": 2
}
