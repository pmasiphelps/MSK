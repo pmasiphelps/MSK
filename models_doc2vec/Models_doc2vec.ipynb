{
 "cells": [
  {
   "cell_type": "code",
   "execution_count": 2,
   "metadata": {
    "collapsed": true
   },
   "outputs": [],
   "source": [
    "import pandas as pd\n",
    "import numpy as np\n",
    "%matplotlib inline"
   ]
  },
  {
   "cell_type": "code",
   "execution_count": 3,
   "metadata": {
    "collapsed": false
   },
   "outputs": [
    {
     "name": "stderr",
     "output_type": "stream",
     "text": [
      "/Users/Patrick/anaconda/lib/python3.5/site-packages/sklearn/cross_validation.py:41: DeprecationWarning: This module was deprecated in version 0.18 in favor of the model_selection module into which all the refactored classes and functions are moved. Also note that the interface of the new CV iterators are different from that of this module. This module will be removed in 0.20.\n",
      "  \"This module will be removed in 0.20.\", DeprecationWarning)\n"
     ]
    }
   ],
   "source": [
    "from sklearn.cross_validation import train_test_split"
   ]
  },
  {
   "cell_type": "code",
   "execution_count": 13,
   "metadata": {
    "collapsed": false
   },
   "outputs": [
    {
     "name": "stderr",
     "output_type": "stream",
     "text": [
      "/Users/Patrick/anaconda/lib/python3.5/site-packages/ipykernel/__main__.py:3: ParserWarning: Falling back to the 'python' engine because the 'c' engine does not support regex separators (separators > 1 char and different from '\\s+' are interpreted as regex); you can avoid this warning by specifying engine='python'.\n",
      "  app.launch_new_instance()\n",
      "/Users/Patrick/anaconda/lib/python3.5/site-packages/ipykernel/__main__.py:4: ParserWarning: Falling back to the 'python' engine because the 'c' engine does not support regex separators (separators > 1 char and different from '\\s+' are interpreted as regex); you can avoid this warning by specifying engine='python'.\n"
     ]
    }
   ],
   "source": [
    "df_train_var = pd.read_csv(\"Original_Data/training_variants\")\n",
    "df_test_var = pd.read_csv(\"Original_Data/test_variants\")\n",
    "df_train_txt = pd.read_csv('Original_Data/training_text', sep='\\|\\|', header=None, skiprows=1,names=[\"ID\",\"Text\"])\n",
    "df_test_txt = pd.read_csv('Original_Data/test_text', sep='\\|\\|', header=None, skiprows=1,names=[\"ID\",\"Text\"])"
   ]
  },
  {
   "cell_type": "code",
   "execution_count": 4,
   "metadata": {
    "collapsed": false
   },
   "outputs": [
    {
     "ename": "NameError",
     "evalue": "name 'df_test_txt' is not defined",
     "output_type": "error",
     "traceback": [
      "\u001b[0;31m---------------------------------------------------------------------------\u001b[0m",
      "\u001b[0;31mNameError\u001b[0m                                 Traceback (most recent call last)",
      "\u001b[0;32m<ipython-input-4-21e5eb39025d>\u001b[0m in \u001b[0;36m<module>\u001b[0;34m()\u001b[0m\n\u001b[0;32m----> 1\u001b[0;31m \u001b[0mdf_test_txt\u001b[0m\u001b[0;34m.\u001b[0m\u001b[0mto_pickle\u001b[0m\u001b[0;34m(\u001b[0m\u001b[0;34m'df_test_txt.pkl'\u001b[0m\u001b[0;34m)\u001b[0m\u001b[0;34m\u001b[0m\u001b[0m\n\u001b[0m\u001b[1;32m      2\u001b[0m \u001b[0mdf_train_txt\u001b[0m\u001b[0;34m.\u001b[0m\u001b[0mto_pickle\u001b[0m\u001b[0;34m(\u001b[0m\u001b[0;34m'df_train_txt.pkl'\u001b[0m\u001b[0;34m)\u001b[0m\u001b[0;34m\u001b[0m\u001b[0m\n\u001b[1;32m      3\u001b[0m \u001b[0mdf_test_var\u001b[0m\u001b[0;34m.\u001b[0m\u001b[0mto_pickle\u001b[0m\u001b[0;34m(\u001b[0m\u001b[0;34m'df_test_var.pkl'\u001b[0m\u001b[0;34m)\u001b[0m\u001b[0;34m\u001b[0m\u001b[0m\n\u001b[1;32m      4\u001b[0m \u001b[0mdf_train_var\u001b[0m\u001b[0;34m.\u001b[0m\u001b[0mto_pickle\u001b[0m\u001b[0;34m(\u001b[0m\u001b[0;34m'df_train_var.pkl'\u001b[0m\u001b[0;34m)\u001b[0m\u001b[0;34m\u001b[0m\u001b[0m\n",
      "\u001b[0;31mNameError\u001b[0m: name 'df_test_txt' is not defined"
     ]
    }
   ],
   "source": [
    "df_test_txt.to_pickle('df_test_txt.pkl')\n",
    "df_train_txt.to_pickle('df_train_txt.pkl')\n",
    "df_test_var.to_pickle('df_test_var.pkl')\n",
    "df_train_var.to_pickle('df_train_var.pkl')"
   ]
  },
  {
   "cell_type": "code",
   "execution_count": 5,
   "metadata": {
    "collapsed": true
   },
   "outputs": [],
   "source": [
    "df_test_txt = pd.read_pickle('df_test_txt.pkl')\n",
    "df_train_txt = pd.read_pickle('df_train_txt.pkl')\n",
    "df_test_var = pd.read_pickle('df_test_var.pkl')\n",
    "df_train_var = pd.read_pickle('df_train_var.pkl')"
   ]
  },
  {
   "cell_type": "code",
   "execution_count": 6,
   "metadata": {
    "collapsed": false
   },
   "outputs": [
    {
     "data": {
      "text/plain": [
       "(5668, 3)"
      ]
     },
     "execution_count": 6,
     "metadata": {},
     "output_type": "execute_result"
    }
   ],
   "source": [
    "df_test_var.shape"
   ]
  },
  {
   "cell_type": "code",
   "execution_count": 7,
   "metadata": {
    "collapsed": false
   },
   "outputs": [
    {
     "data": {
      "text/plain": [
       "(3321, 4)"
      ]
     },
     "execution_count": 7,
     "metadata": {},
     "output_type": "execute_result"
    }
   ],
   "source": [
    "df_train_var.shape"
   ]
  },
  {
   "cell_type": "code",
   "execution_count": 4,
   "metadata": {
    "collapsed": false
   },
   "outputs": [
    {
     "data": {
      "text/plain": [
       "'string sd ml ad P145A Punctuation'"
      ]
     },
     "execution_count": 4,
     "metadata": {},
     "output_type": "execute_result"
    }
   ],
   "source": [
    "import re\n",
    "from stop_words import get_stop_words\n",
    "\n",
    "stop_words = get_stop_words('english')\n",
    "\n",
    "def remove_pun(text):\n",
    "    s = re.sub(r'[^\\w\\s\\d]','',text)\n",
    "    s = re.sub(r'[\\s][\\d]+[\\s]', ' ', s)   \n",
    "    s = ' '.join([w for w in s.split() if not w.lower() in stop_words])\n",
    "    return s\n",
    "\n",
    "sent = \"string$%. sd 0.5 m*l With. 0.5 ad P145A Punctuation?\"\n",
    "sent = remove_pun(sent)\n",
    "sent"
   ]
  },
  {
   "cell_type": "code",
   "execution_count": 5,
   "metadata": {
    "collapsed": true
   },
   "outputs": [],
   "source": [
    "# WARNING: TAKES A FEW MINUTES\n",
    "\n",
    "df_train_txt['Text_cleaned'] = df_train_txt.Text.apply(remove_pun)\n",
    "df_test_txt['Text_cleaned'] =  df_test_txt.Text.apply(remove_pun)"
   ]
  },
  {
   "cell_type": "code",
   "execution_count": 6,
   "metadata": {
    "collapsed": true
   },
   "outputs": [],
   "source": [
    "# merge text and var datasets\n",
    "# training datasets \n",
    "train_master = pd.merge(df_train_var, df_train_txt, how='left', on='ID').fillna('')\n",
    "\n",
    "# test datasets \n",
    "test_master = pd.merge(df_test_var, df_test_txt, how='left', on='ID').fillna('')"
   ]
  },
  {
   "cell_type": "code",
   "execution_count": 7,
   "metadata": {
    "collapsed": false
   },
   "outputs": [],
   "source": [
    "all_master = train_master.drop('Class', axis=1).append(test_master)"
   ]
  },
  {
   "cell_type": "code",
   "execution_count": 8,
   "metadata": {
    "collapsed": true
   },
   "outputs": [],
   "source": [
    "train_master.to_pickle('train_master.pkl')\n",
    "test_master.to_pickle('test_master.pkl')\n",
    "all_master.to_pickle('all_master.pkl')"
   ]
  },
  {
   "cell_type": "code",
   "execution_count": null,
   "metadata": {
    "collapsed": true
   },
   "outputs": [],
   "source": [
    "train_master = pd.read_pickle('train_master.pkl')\n",
    "test_master = pd.read_pickle('test_master.pkl')\n",
    "all_master = pd.read_pickle('all_master.pkl')"
   ]
  },
  {
   "cell_type": "markdown",
   "metadata": {},
   "source": [
    "### SVD"
   ]
  },
  {
   "cell_type": "code",
   "execution_count": 16,
   "metadata": {
    "collapsed": true
   },
   "outputs": [],
   "source": [
    "from sklearn.decomposition import TruncatedSVD\n",
    "\n",
    "Gene_INPUT_DIM=25\n",
    "Variation_INPUT_DIM=25\n",
    "\n",
    "\n",
    "svd_gene = TruncatedSVD(n_components=Gene_INPUT_DIM, n_iter=25, random_state=56)\n",
    "svd_variation = TruncatedSVD(n_components=Variation_INPUT_DIM, n_iter=25, random_state=56)\n",
    "\n",
    "one_hot_gene = pd.get_dummies(all_master['Gene'])\n",
    "truncated_one_hot_gene = svd_gene.fit_transform(one_hot_gene.values)\n",
    "\n",
    "one_hot_variation = pd.get_dummies(all_master['Variation'])\n",
    "truncated_one_hot_variation = svd_variation.fit_transform(one_hot_variation.values)\n"
   ]
  },
  {
   "cell_type": "code",
   "execution_count": 98,
   "metadata": {
    "collapsed": false
   },
   "outputs": [],
   "source": [
    "#Combine the SVD columns into a df and \n",
    "\n",
    "gene_svd = pd.DataFrame(truncated_one_hot_gene)\n",
    "gene_svd.columns = ['gene_'+ str(col) for col in gene_svd.columns]\n",
    "var_svd = pd.DataFrame(truncated_one_hot_variation)\n",
    "var_svd.columns = ['variation_'+ str(col) for col in var_svd.columns]\n",
    "\n",
    "train_size=len(train_master)\n",
    "\n",
    "all_svd = gene_svd.join(var_svd)\n",
    "train_svd = all_svd[:train_size].join(train_master['Class'])\n",
    "test_svd = all_svd[train_size:]"
   ]
  },
  {
   "cell_type": "code",
   "execution_count": 64,
   "metadata": {
    "collapsed": true
   },
   "outputs": [],
   "source": [
    "### JUST THE VARIATION SVD FEATURES\n",
    "\n",
    "all_svd_var = var_svd\n",
    "train_svd_var = all_svd_var[:train_size].join(train_master['Class'])\n",
    "test_svd_var = all_svd_var[train_size:]"
   ]
  },
  {
   "cell_type": "markdown",
   "metadata": {},
   "source": [
    "### Amino Acid Feature Engineering"
   ]
  },
  {
   "cell_type": "code",
   "execution_count": 11,
   "metadata": {
    "collapsed": true
   },
   "outputs": [],
   "source": [
    "## AMINO ACID FEATURE ENGINEERING\n",
    "\n",
    "def orig_amino(text):\n",
    "    if text.upper() == text:\n",
    "        return text[0]\n",
    "    else:\n",
    "        return 0\n",
    "\n",
    "def mutated_amino(text):\n",
    "    if text.upper() == text:\n",
    "        return text[-1]\n",
    "    else:\n",
    "        return 0"
   ]
  },
  {
   "cell_type": "code",
   "execution_count": 12,
   "metadata": {
    "collapsed": true
   },
   "outputs": [],
   "source": [
    "amino = pd.read_csv('Amino_Acids.csv')"
   ]
  },
  {
   "cell_type": "code",
   "execution_count": 23,
   "metadata": {
    "collapsed": true
   },
   "outputs": [],
   "source": [
    "all_master['Original_Amino'] = all_master['Variation'].apply(orig_amino)\n",
    "all_master['Mutated_Amino'] = all_master['Variation'].apply(mutated_amino)\n",
    "\n",
    "aminoFeatures = pd.merge(all_master[['ID', 'Original_Amino', 'Mutated_Amino']],\n",
    "         amino[['Letter', 'Isoelectric_P', 'Hydrophobicity']],\n",
    "         how = 'left', left_on= 'Original_Amino', right_on = 'Letter')\n",
    "\n",
    "aminoFeatures = aminoFeatures.rename(columns = {'Isoelectric_P': 'orig_elec', 'Hydrophobicity': 'orig_hydro'})\n",
    "\n",
    "aminoFeatures = pd.merge(aminoFeatures,amino[['Letter', 'Isoelectric_P', 'Hydrophobicity']],\n",
    "         how = 'left', left_on= 'Mutated_Amino', right_on = 'Letter')\n",
    "\n",
    "aminoFeatures['Elec_Diff'] = abs(aminoFeatures['orig_elec'].subtract(aminoFeatures['Isoelectric_P']))\n",
    "aminoFeatures['Hydro_Diff'] = abs(aminoFeatures['orig_hydro'].subtract(aminoFeatures['Hydrophobicity']))\n",
    "aminoFeatures = aminoFeatures.drop(['Original_Amino', 'Mutated_Amino', 'orig_elec', 'orig_hydro', \n",
    "                                    'Isoelectric_P','Hydrophobicity'], axis=1).fillna(0)\\\n",
    "            .rename(columns = {'Letter_x': 'Orig_Amino', 'Letter_y': 'Mut_Amino'})\n",
    "\n",
    "aminoFeatures_all = pd.get_dummies(aminoFeatures)"
   ]
  },
  {
   "cell_type": "code",
   "execution_count": 24,
   "metadata": {
    "collapsed": true
   },
   "outputs": [],
   "source": [
    "train_master['Original_Amino'] = train_master['Variation'].apply(orig_amino)\n",
    "train_master['Mutated_Amino'] = train_master['Variation'].apply(mutated_amino)\n",
    "\n",
    "aminoFeatures = pd.merge(train_master[['ID', 'Original_Amino', 'Mutated_Amino']],\n",
    "         amino[['Letter', 'Isoelectric_P', 'Hydrophobicity']],\n",
    "         how = 'left', left_on= 'Original_Amino', right_on = 'Letter')\n",
    "\n",
    "aminoFeatures = aminoFeatures.rename(columns = {'Isoelectric_P': 'orig_elec', 'Hydrophobicity': 'orig_hydro'})\n",
    "\n",
    "aminoFeatures = pd.merge(aminoFeatures,amino[['Letter', 'Isoelectric_P', 'Hydrophobicity']],\n",
    "         how = 'left', left_on= 'Mutated_Amino', right_on = 'Letter')\n",
    "\n",
    "aminoFeatures['Elec_Diff'] = abs(aminoFeatures['orig_elec'].subtract(aminoFeatures['Isoelectric_P']))\n",
    "aminoFeatures['Hydro_Diff'] = abs(aminoFeatures['orig_hydro'].subtract(aminoFeatures['Hydrophobicity']))\n",
    "aminoFeatures = aminoFeatures.drop(['Original_Amino', 'Mutated_Amino', 'orig_elec', 'orig_hydro', \n",
    "                                    'Isoelectric_P','Hydrophobicity'], axis=1).fillna(0)\\\n",
    "            .rename(columns = {'Letter_x': 'Orig_Amino', 'Letter_y': 'Mut_Amino'})\n",
    "    \n",
    "aminoFeatures_train = pd.get_dummies(aminoFeatures)"
   ]
  },
  {
   "cell_type": "code",
   "execution_count": 25,
   "metadata": {
    "collapsed": true
   },
   "outputs": [],
   "source": [
    "test_master['Original_Amino'] = test_master['Variation'].apply(orig_amino)\n",
    "test_master['Mutated_Amino'] = test_master['Variation'].apply(mutated_amino)\n",
    "\n",
    "aminoFeatures = pd.merge(test_master[['ID', 'Original_Amino', 'Mutated_Amino']],\n",
    "         amino[['Letter', 'Isoelectric_P', 'Hydrophobicity']],\n",
    "         how = 'left', left_on= 'Original_Amino', right_on = 'Letter')\n",
    "\n",
    "aminoFeatures = aminoFeatures.rename(columns = {'Isoelectric_P': 'orig_elec', 'Hydrophobicity': 'orig_hydro'})\n",
    "\n",
    "aminoFeatures = pd.merge(aminoFeatures,amino[['Letter', 'Isoelectric_P', 'Hydrophobicity']],\n",
    "         how = 'left', left_on= 'Mutated_Amino', right_on = 'Letter')\n",
    "\n",
    "aminoFeatures['Elec_Diff'] = abs(aminoFeatures['orig_elec'].subtract(aminoFeatures['Isoelectric_P']))\n",
    "aminoFeatures['Hydro_Diff'] = abs(aminoFeatures['orig_hydro'].subtract(aminoFeatures['Hydrophobicity']))\n",
    "aminoFeatures = aminoFeatures.drop(['Original_Amino', 'Mutated_Amino', 'orig_elec', 'orig_hydro', \n",
    "                                    'Isoelectric_P','Hydrophobicity'], axis=1).fillna(0)\\\n",
    "            .rename(columns = {'Letter_x': 'Orig_Amino', 'Letter_y': 'Mut_Amino'})\n",
    "    \n",
    "aminoFeatures_test = pd.get_dummies(aminoFeatures)"
   ]
  },
  {
   "cell_type": "code",
   "execution_count": 96,
   "metadata": {
    "collapsed": false
   },
   "outputs": [
    {
     "data": {
      "text/plain": [
       "array(['ID', 'Elec_Diff', 'Hydro_Diff', 'Orig_Amino_0', 'Orig_Amino_A',\n",
       "       'Orig_Amino_C', 'Orig_Amino_D', 'Orig_Amino_E', 'Orig_Amino_F',\n",
       "       'Orig_Amino_G', 'Orig_Amino_H', 'Orig_Amino_I', 'Orig_Amino_K',\n",
       "       'Orig_Amino_L', 'Orig_Amino_M', 'Orig_Amino_N', 'Orig_Amino_P',\n",
       "       'Orig_Amino_Q', 'Orig_Amino_R', 'Orig_Amino_S', 'Orig_Amino_T',\n",
       "       'Orig_Amino_V', 'Orig_Amino_W', 'Orig_Amino_Y', 'Mut_Amino_0',\n",
       "       'Mut_Amino_A', 'Mut_Amino_C', 'Mut_Amino_D', 'Mut_Amino_E',\n",
       "       'Mut_Amino_F', 'Mut_Amino_G', 'Mut_Amino_H', 'Mut_Amino_I',\n",
       "       'Mut_Amino_K', 'Mut_Amino_L', 'Mut_Amino_M', 'Mut_Amino_N',\n",
       "       'Mut_Amino_P', 'Mut_Amino_Q', 'Mut_Amino_R', 'Mut_Amino_S',\n",
       "       'Mut_Amino_T', 'Mut_Amino_V', 'Mut_Amino_W', 'Mut_Amino_Y'], dtype=object)"
      ]
     },
     "execution_count": 96,
     "metadata": {},
     "output_type": "execute_result"
    }
   ],
   "source": [
    "aminoFeatures_train.columns.values"
   ]
  },
  {
   "cell_type": "code",
   "execution_count": 43,
   "metadata": {
    "collapsed": true
   },
   "outputs": [],
   "source": [
    "train_svd['ID'] = train_svd.index"
   ]
  },
  {
   "cell_type": "code",
   "execution_count": null,
   "metadata": {
    "collapsed": true
   },
   "outputs": [],
   "source": [
    "all_svd = all_svd.join(aminoFeatures_all)\n",
    "train_svd = train_svd.join(aminoFeatures_train)\n",
    "test_svd = test_svd.join(aminoFeatures_test)"
   ]
  },
  {
   "cell_type": "code",
   "execution_count": 44,
   "metadata": {
    "collapsed": false
   },
   "outputs": [
    {
     "name": "stdout",
     "output_type": "stream",
     "text": [
      "(8989, 94)\n",
      "(3321, 96)\n",
      "(5668, 95)\n"
     ]
    }
   ],
   "source": [
    "print(all_svd.shape)\n",
    "print(train_svd.shape)\n",
    "print(test_svd.shape)"
   ]
  },
  {
   "cell_type": "markdown",
   "metadata": {},
   "source": [
    "### Models with SVD"
   ]
  },
  {
   "cell_type": "code",
   "execution_count": 100,
   "metadata": {
    "collapsed": true
   },
   "outputs": [],
   "source": [
    "X_train, X_test, y_train, y_test = train_test_split(train_svd.drop('Class', axis=1), train_svd['Class'], test_size=0.2, random_state=42)"
   ]
  },
  {
   "cell_type": "code",
   "execution_count": 47,
   "metadata": {
    "collapsed": false
   },
   "outputs": [
    {
     "name": "stdout",
     "output_type": "stream",
     "text": [
      "Accuracy score: 0.359398496241\n",
      "confusion_matrix:\n",
      " [[49  0  0  7  7  3 22  6 20]\n",
      " [ 1 22  3  3  0  0 35  8 24]\n",
      " [ 0  0  7  2  3  0  2  1  4]\n",
      " [17  0  0 25  9  1 51  7 29]\n",
      " [ 1  0  1  0 21  5 12  2  8]\n",
      " [ 2  1  0  3  6 15 13  3  2]\n",
      " [ 0 36 21  6  0  0 98 11 22]\n",
      " [ 0  0  0  0  0  0  1  0  0]\n",
      " [ 0  0  0  0  0  0  5  0  2]]\n"
     ]
    }
   ],
   "source": [
    "#Multiclass Logistic Regression\n",
    "import sklearn\n",
    "from sklearn.linear_model import LogisticRegression\n",
    "\n",
    "multinomial = LogisticRegression(multi_class='ovr', ### one-vs-rest\n",
    "                                 class_weight='balanced',\n",
    "                                 solver='liblinear',\n",
    "                                 penalty='l1',\n",
    "                                 C=.1)\n",
    "\n",
    "multinomial.fit(X_train, y_train)\n",
    "print('Accuracy score: ' + str(multinomial.score(X_test, y_test)))\n",
    "multinomial_pred = multinomial.predict(X_test)\n",
    "\n",
    "print('confusion_matrix:\\n', sklearn.metrics.confusion_matrix(y_test,multinomial_pred))"
   ]
  },
  {
   "cell_type": "markdown",
   "metadata": {},
   "source": [
    "### Doc2Vec"
   ]
  },
  {
   "cell_type": "code",
   "execution_count": 6,
   "metadata": {
    "collapsed": false
   },
   "outputs": [
    {
     "name": "stderr",
     "output_type": "stream",
     "text": [
      "Using TensorFlow backend.\n"
     ]
    }
   ],
   "source": [
    "#import packages\n",
    "\n",
    "import gensim\n",
    "from gensim.models.doc2vec import Doc2Vec, TaggedDocument\n",
    "import multiprocessing\n",
    "import os"
   ]
  },
  {
   "cell_type": "code",
   "execution_count": 10,
   "metadata": {
    "collapsed": true
   },
   "outputs": [],
   "source": [
    "LabeledSentence = gensim.models.doc2vec.LabeledSentence"
   ]
  },
  {
   "cell_type": "code",
   "execution_count": 11,
   "metadata": {
    "collapsed": true
   },
   "outputs": [],
   "source": [
    "# train/test splits\n",
    "\n",
    "X_train, X_test, y_train, y_test = train_test_split(train_master['Text_cleaned'], train_master['Class'], test_size=0.2, random_state=42)"
   ]
  },
  {
   "cell_type": "code",
   "execution_count": 12,
   "metadata": {
    "collapsed": true
   },
   "outputs": [],
   "source": [
    "X_new = test_master['Text_cleaned']"
   ]
  },
  {
   "cell_type": "code",
   "execution_count": 13,
   "metadata": {
    "collapsed": true
   },
   "outputs": [],
   "source": [
    "#Do some very minor text preprocessing\n",
    "def preprocessText(corpus):\n",
    "    corpus = [z.split() for z in corpus]\n",
    "    return corpus"
   ]
  },
  {
   "cell_type": "code",
   "execution_count": 14,
   "metadata": {
    "collapsed": true
   },
   "outputs": [],
   "source": [
    "X_train = preprocessText(X_train)\n",
    "X_test = preprocessText(X_test)\n",
    "X_new = preprocessText(X_new)"
   ]
  },
  {
   "cell_type": "code",
   "execution_count": 15,
   "metadata": {
    "collapsed": true
   },
   "outputs": [],
   "source": [
    "assert gensim.models.doc2vec.FAST_VERSION > -1, \"this will be painfully slow otherwise\""
   ]
  },
  {
   "cell_type": "code",
   "execution_count": 16,
   "metadata": {
    "collapsed": true
   },
   "outputs": [],
   "source": [
    "#Gensim's Doc2Vec implementation requires each document/paragraph to have a label associated with it.\n",
    "\n",
    "#We do this by using the LabeledSentence method. The format will be \"TRAIN_i\" or \"TEST_i\" where \"i\" is\n",
    "#a dummy index of the paper text.\n",
    "\n",
    "def labelizePapers(papers, label_type):\n",
    "    labelized = []\n",
    "    for i,v in enumerate(papers):\n",
    "        label = '%s_%s'%(label_type,i)\n",
    "        labelized.append(LabeledSentence(v, [label]))\n",
    "    return labelized"
   ]
  },
  {
   "cell_type": "code",
   "execution_count": 17,
   "metadata": {
    "collapsed": true
   },
   "outputs": [],
   "source": [
    "X_train = labelizePapers(X_train, 'TRAIN')\n",
    "X_test = labelizePapers(X_test, 'TEST')\n",
    "X_new = labelizePapers(X_new, 'UNSUP')"
   ]
  },
  {
   "cell_type": "code",
   "execution_count": 18,
   "metadata": {
    "collapsed": true
   },
   "outputs": [],
   "source": [
    "import itertools"
   ]
  },
  {
   "cell_type": "code",
   "execution_count": 19,
   "metadata": {
    "collapsed": true
   },
   "outputs": [],
   "source": [
    "#build vocab over all reviews\n",
    "X_all = X_train + X_test + X_new"
   ]
  },
  {
   "cell_type": "code",
   "execution_count": null,
   "metadata": {
    "collapsed": false
   },
   "outputs": [],
   "source": [
    "d2v_model_dm = Doc2Vec.load('models/doc2vec_dm')"
   ]
  },
  {
   "cell_type": "code",
   "execution_count": 70,
   "metadata": {
    "collapsed": true
   },
   "outputs": [],
   "source": [
    "d2v_model_dbow = Doc2Vec.load('models/doc2vec_dbow')"
   ]
  },
  {
   "cell_type": "code",
   "execution_count": 21,
   "metadata": {
    "collapsed": true
   },
   "outputs": [],
   "source": [
    "d2v_model_dbow_sg = Doc2Vec.load('models/doc2vec_dbow_sg')"
   ]
  },
  {
   "cell_type": "code",
   "execution_count": 18,
   "metadata": {
    "collapsed": false
   },
   "outputs": [],
   "source": [
    "#instantiate our DM and DBOW models\n",
    "d2v_model_dm = gensim.models.Doc2Vec(min_count=3, window=7, size=400, sample=1e-3, negative=5, workers=2)\n",
    "d2v_model_dbow = gensim.models.Doc2Vec(min_count=3, window=7, size=400, sample=1e-3, negative=5, dm=0, workers=2)\n",
    "d2v_model_dbow_sg = gensim.models.Doc2Vec(min_count=3, window=7, size=400, sample=1e-3, negative=5, dm=0, dbow_words=1, workers=2)\n"
   ]
  },
  {
   "cell_type": "code",
   "execution_count": 20,
   "metadata": {
    "collapsed": true
   },
   "outputs": [],
   "source": [
    "d2v_model_dbow.build_vocab(X_all)\n",
    "d2v_model_dbow_sg.build_vocab(X_all)"
   ]
  },
  {
   "cell_type": "code",
   "execution_count": 22,
   "metadata": {
    "collapsed": false
   },
   "outputs": [
    {
     "data": {
      "text/plain": [
       "228822356"
      ]
     },
     "execution_count": 22,
     "metadata": {},
     "output_type": "execute_result"
    }
   ],
   "source": [
    "# train the DM model on the training set\n",
    "# replace X_train with X_all\n",
    "# WARNING: TAKES 2.25 HOURS TO RUN ON PMP'S COMPUTER\n",
    "\n",
    "d2v_model_dm.train(X_all,\n",
    "                   total_examples=d2v_model_dm.corpus_count,\n",
    "                   epochs=d2v_model_dm.iter)\n"
   ]
  },
  {
   "cell_type": "code",
   "execution_count": 21,
   "metadata": {
    "collapsed": false
   },
   "outputs": [
    {
     "data": {
      "text/plain": [
       "228825306"
      ]
     },
     "execution_count": 21,
     "metadata": {},
     "output_type": "execute_result"
    }
   ],
   "source": [
    "# train the DBOW model on training set\n",
    "# WARNING: TAKES 15 MINUTES\n",
    "\n",
    "d2v_model_dbow.train(X_all,\n",
    "                     total_examples=d2v_model_dbow.corpus_count,\n",
    "                     epochs=d2v_model_dbow.iter)\n"
   ]
  },
  {
   "cell_type": "code",
   "execution_count": 22,
   "metadata": {
    "collapsed": false
   },
   "outputs": [
    {
     "data": {
      "text/plain": [
       "228821351"
      ]
     },
     "execution_count": 22,
     "metadata": {},
     "output_type": "execute_result"
    }
   ],
   "source": [
    "# train the DBOW Skip Gram model on training set\n",
    "\n",
    "d2v_model_dbow_sg.train(X_all,\n",
    "                        total_examples=d2v_model_dbow_sg.corpus_count,\n",
    "                        epochs=d2v_model_dbow_sg.iter)"
   ]
  },
  {
   "cell_type": "code",
   "execution_count": 23,
   "metadata": {
    "collapsed": true
   },
   "outputs": [],
   "source": [
    "d2v_model_dm.save('models/doc2vec_dm')"
   ]
  },
  {
   "cell_type": "code",
   "execution_count": 101,
   "metadata": {
    "collapsed": true
   },
   "outputs": [],
   "source": [
    "# save the two models\n",
    "os.makedirs('models')\n",
    "d2v_model_dm.save('models/doc2vec_dm')\n",
    "\n",
    "d2v_model_dbow.save('models/doc2vec_dbow')"
   ]
  },
  {
   "cell_type": "code",
   "execution_count": 24,
   "metadata": {
    "collapsed": true
   },
   "outputs": [],
   "source": [
    "d2v_model_dbow.save('models/doc2vec_dbow')"
   ]
  },
  {
   "cell_type": "code",
   "execution_count": 25,
   "metadata": {
    "collapsed": true
   },
   "outputs": [],
   "source": [
    "d2v_model_dbow_sg.save('models/doc2vec_dbow_sg')"
   ]
  },
  {
   "cell_type": "code",
   "execution_count": null,
   "metadata": {
    "collapsed": true
   },
   "outputs": [],
   "source": [
    "import pickle\n",
    "\n",
    "pickle.dump(d2v_model_dbow, open('models/d2v_model_dbow.sav', 'wb'))"
   ]
  },
  {
   "cell_type": "code",
   "execution_count": null,
   "metadata": {
    "collapsed": true
   },
   "outputs": [],
   "source": [
    "pickle.dump(d2v_model_dbow_sg, open('models/d2v_model_dbow_sg.sav', 'wb'))"
   ]
  },
  {
   "cell_type": "code",
   "execution_count": 24,
   "metadata": {
    "collapsed": true
   },
   "outputs": [],
   "source": [
    "# infer DM vectors for training set and save to a list\n",
    "# WARNING: TAKES 15 MINUTES ON PMP'S COMPUTER\n",
    "\n",
    "train_vecs_dm = []\n",
    "\n",
    "for doc in X_train:\n",
    "    vec = d2v_model_dm.infer_vector(doc.words)\n",
    "    train_vecs_dm.append(vec)\n"
   ]
  },
  {
   "cell_type": "code",
   "execution_count": 71,
   "metadata": {
    "collapsed": false
   },
   "outputs": [
    {
     "ename": "AttributeError",
     "evalue": "'KeyedVectors' object has no attribute 'syn0'",
     "output_type": "error",
     "traceback": [
      "\u001b[0;31m---------------------------------------------------------------------------\u001b[0m",
      "\u001b[0;31mAttributeError\u001b[0m                            Traceback (most recent call last)",
      "\u001b[0;32m<ipython-input-71-415056dcd7a7>\u001b[0m in \u001b[0;36m<module>\u001b[0;34m()\u001b[0m\n\u001b[1;32m      3\u001b[0m \u001b[0;34m\u001b[0m\u001b[0m\n\u001b[1;32m      4\u001b[0m \u001b[0;32mfor\u001b[0m \u001b[0mdoc\u001b[0m \u001b[0;32min\u001b[0m \u001b[0mX_train\u001b[0m\u001b[0;34m:\u001b[0m\u001b[0;34m\u001b[0m\u001b[0m\n\u001b[0;32m----> 5\u001b[0;31m     \u001b[0mvec\u001b[0m \u001b[0;34m=\u001b[0m \u001b[0md2v_model_dbow\u001b[0m\u001b[0;34m.\u001b[0m\u001b[0minfer_vector\u001b[0m\u001b[0;34m(\u001b[0m\u001b[0mdoc\u001b[0m\u001b[0;34m.\u001b[0m\u001b[0mwords\u001b[0m\u001b[0;34m)\u001b[0m\u001b[0;34m\u001b[0m\u001b[0m\n\u001b[0m\u001b[1;32m      6\u001b[0m     \u001b[0mtrain_vecs_dbow\u001b[0m\u001b[0;34m.\u001b[0m\u001b[0mappend\u001b[0m\u001b[0;34m(\u001b[0m\u001b[0mvec\u001b[0m\u001b[0;34m)\u001b[0m\u001b[0;34m\u001b[0m\u001b[0m\n",
      "\u001b[0;32m~/anaconda/lib/python3.5/site-packages/gensim/models/doc2vec.py\u001b[0m in \u001b[0;36minfer_vector\u001b[0;34m(self, doc_words, alpha, min_alpha, steps)\u001b[0m\n\u001b[1;32m    750\u001b[0m                 train_document_dbow(self, doc_words, doctag_indexes, alpha, work,\n\u001b[1;32m    751\u001b[0m                                     \u001b[0mlearn_words\u001b[0m\u001b[0;34m=\u001b[0m\u001b[0;32mFalse\u001b[0m\u001b[0;34m,\u001b[0m \u001b[0mlearn_hidden\u001b[0m\u001b[0;34m=\u001b[0m\u001b[0;32mFalse\u001b[0m\u001b[0;34m,\u001b[0m\u001b[0;34m\u001b[0m\u001b[0m\n\u001b[0;32m--> 752\u001b[0;31m                                     doctag_vectors=doctag_vectors, doctag_locks=doctag_locks)\n\u001b[0m\u001b[1;32m    753\u001b[0m             \u001b[0;32melif\u001b[0m \u001b[0mself\u001b[0m\u001b[0;34m.\u001b[0m\u001b[0mdm_concat\u001b[0m\u001b[0;34m:\u001b[0m\u001b[0;34m\u001b[0m\u001b[0m\n\u001b[1;32m    754\u001b[0m                 train_document_dm_concat(self, doc_words, doctag_indexes, alpha, work, neu1,\n",
      "\u001b[0;32m~/anaconda/lib/python3.5/site-packages/gensim/models/doc2vec_inner.pyx\u001b[0m in \u001b[0;36mgensim.models.doc2vec_inner.train_document_dbow (./gensim/models/doc2vec_inner.c:3513)\u001b[0;34m()\u001b[0m\n",
      "\u001b[0;31mAttributeError\u001b[0m: 'KeyedVectors' object has no attribute 'syn0'"
     ]
    }
   ],
   "source": [
    "# infer DBOW vectors for training set and save to a list\n",
    "train_vecs_dbow = []\n",
    "\n",
    "for doc in X_train:\n",
    "    vec = d2v_model_dbow.infer_vector(doc.words)\n",
    "    train_vecs_dbow.append(vec)"
   ]
  },
  {
   "cell_type": "code",
   "execution_count": 23,
   "metadata": {
    "collapsed": true
   },
   "outputs": [],
   "source": [
    "# infer DBOW SG vectors for training set and save to a list\n",
    "train_vecs_dbow_sg = []\n",
    "\n",
    "for doc in X_train:\n",
    "    vec = d2v_model_dbow_sg.infer_vector(doc.words)\n",
    "    train_vecs_dbow_sg.append(vec)"
   ]
  },
  {
   "cell_type": "code",
   "execution_count": 25,
   "metadata": {
    "collapsed": true
   },
   "outputs": [],
   "source": [
    "# infer DM vectors for test set and save to a list\n",
    "# WARNING: TAKES 5 MINS ON PMP'S COMPUTER\n",
    "\n",
    "test_vecs_dm = []\n",
    "\n",
    "for doc in X_test:\n",
    "    vec = d2v_model_dm.infer_vector(doc.words)\n",
    "    test_vecs_dm.append(vec)"
   ]
  },
  {
   "cell_type": "code",
   "execution_count": 110,
   "metadata": {
    "collapsed": true
   },
   "outputs": [],
   "source": [
    "# infer DBOW vectors for test set and save to a list\n",
    "\n",
    "test_vecs_dbow = []\n",
    "\n",
    "for doc in X_test:\n",
    "    vec = d2v_model_dbow.infer_vector(doc.words)\n",
    "    test_vecs_dbow.append(vec)"
   ]
  },
  {
   "cell_type": "code",
   "execution_count": 24,
   "metadata": {
    "collapsed": true
   },
   "outputs": [],
   "source": [
    "# infer DBOW SG vectors for test set and save to a list\n",
    "\n",
    "test_vecs_dbow_sg = []\n",
    "\n",
    "for doc in X_test:\n",
    "    vec = d2v_model_dbow_sg.infer_vector(doc.words)\n",
    "    test_vecs_dbow_sg.append(vec)"
   ]
  },
  {
   "cell_type": "code",
   "execution_count": 25,
   "metadata": {
    "collapsed": true
   },
   "outputs": [],
   "source": [
    "# infer DBOW SG vectors for new test set (for kaggle submission) and save to a list\n",
    "\n",
    "new_vecs_dbow_sg = []\n",
    "\n",
    "for doc in X_new:\n",
    "    vec = d2v_model_dbow_sg.infer_vector(doc.words)\n",
    "    new_vecs_dbow_sg.append(vec)"
   ]
  },
  {
   "cell_type": "markdown",
   "metadata": {},
   "source": [
    "### SGD Classifier"
   ]
  },
  {
   "cell_type": "code",
   "execution_count": 34,
   "metadata": {
    "collapsed": false
   },
   "outputs": [
    {
     "name": "stderr",
     "output_type": "stream",
     "text": [
      "/Users/Patrick/anaconda/lib/python3.5/site-packages/sklearn/linear_model/stochastic_gradient.py:84: FutureWarning: max_iter and tol parameters have been added in <class 'sklearn.linear_model.stochastic_gradient.SGDClassifier'> in 0.19. If both are left unset, they default to max_iter=5 and tol=None. If tol is not None, max_iter defaults to max_iter=1000. From 0.21, default max_iter will be 1000, and default tol will be 1e-3.\n",
      "  \"and default tol will be 1e-3.\" % type(self), FutureWarning)\n"
     ]
    },
    {
     "name": "stdout",
     "output_type": "stream",
     "text": [
      "DM Test Accuracy: 0.55\n"
     ]
    }
   ],
   "source": [
    "from sklearn.linear_model import SGDClassifier\n",
    "\n",
    "# train \n",
    "\n",
    "lr_dm = SGDClassifier(loss='log', penalty='l1', class_weight='balanced')\n",
    "lr_dm.fit(train_vecs_dm, y_train)\n",
    "\n",
    "print('DM Test Accuracy: %.2f'%lr_dm.score(test_vecs_dm, y_test))"
   ]
  },
  {
   "cell_type": "code",
   "execution_count": 128,
   "metadata": {
    "collapsed": true
   },
   "outputs": [],
   "source": [
    "# save SGD model\n",
    "import pickle\n",
    "\n",
    "pickle.dump(lr_dm, open('models/sgd_dm_model.sav', 'wb'))"
   ]
  },
  {
   "cell_type": "code",
   "execution_count": 129,
   "metadata": {
    "collapsed": true
   },
   "outputs": [],
   "source": [
    "# read in the saved model\n",
    "sgd_lm_model = pickle.load(open('models/sgd_dm_model.sav', 'rb'))"
   ]
  },
  {
   "cell_type": "code",
   "execution_count": 130,
   "metadata": {
    "collapsed": false
   },
   "outputs": [
    {
     "data": {
      "text/plain": [
       "0.55338345864661653"
      ]
     },
     "execution_count": 130,
     "metadata": {},
     "output_type": "execute_result"
    }
   ],
   "source": [
    "sgd_lm_model.score(test_vecs_dm, y_test)"
   ]
  },
  {
   "cell_type": "code",
   "execution_count": 114,
   "metadata": {
    "collapsed": false
   },
   "outputs": [
    {
     "name": "stderr",
     "output_type": "stream",
     "text": [
      "/Users/Patrick/anaconda/lib/python3.5/site-packages/sklearn/linear_model/stochastic_gradient.py:84: FutureWarning: max_iter and tol parameters have been added in <class 'sklearn.linear_model.stochastic_gradient.SGDClassifier'> in 0.19. If both are left unset, they default to max_iter=5 and tol=None. If tol is not None, max_iter defaults to max_iter=1000. From 0.21, default max_iter will be 1000, and default tol will be 1e-3.\n",
      "  \"and default tol will be 1e-3.\" % type(self), FutureWarning)\n"
     ]
    },
    {
     "name": "stdout",
     "output_type": "stream",
     "text": [
      "DBOW Test Accuracy: 0.47\n"
     ]
    }
   ],
   "source": [
    "lr_dbow = SGDClassifier(loss='log', penalty='l1',class_weight='balanced')\n",
    "lr_dbow.fit(train_vecs_dbow, y_train)\n",
    "\n",
    "print('DBOW Test Accuracy: %.2f'%lr_dbow.score(test_vecs_dbow, y_test))"
   ]
  },
  {
   "cell_type": "code",
   "execution_count": 35,
   "metadata": {
    "collapsed": false
   },
   "outputs": [],
   "source": [
    "# save the predicted classes\n",
    "test_predict_dm = lr_dm.predict(test_vecs_dm)"
   ]
  },
  {
   "cell_type": "code",
   "execution_count": 30,
   "metadata": {
    "collapsed": true
   },
   "outputs": [],
   "source": [
    "import sklearn"
   ]
  },
  {
   "cell_type": "code",
   "execution_count": 36,
   "metadata": {
    "collapsed": false
   },
   "outputs": [
    {
     "name": "stdout",
     "output_type": "stream",
     "text": [
      "confusion_matrix:\n",
      " [[ 73   5   1  19   7   4   5   0   0]\n",
      " [  8  43   1   2   5   6  31   0   0]\n",
      " [  2   1  11   3   1   0   1   0   0]\n",
      " [ 34   7   5  78   5   5   5   0   0]\n",
      " [ 17   7   1   8  11   3   3   0   0]\n",
      " [  4   2   0   3   4  31   1   0   0]\n",
      " [  6  33   3  11  10  11 117   1   2]\n",
      " [  0   0   0   0   0   0   1   0   0]\n",
      " [  1   0   0   1   0   0   0   1   4]]\n"
     ]
    }
   ],
   "source": [
    "print('confusion_matrix:\\n', sklearn.metrics.confusion_matrix(y_test,test_predict_dm))"
   ]
  },
  {
   "cell_type": "markdown",
   "metadata": {},
   "source": [
    "### Support Vector Classifier"
   ]
  },
  {
   "cell_type": "code",
   "execution_count": 274,
   "metadata": {
    "collapsed": false
   },
   "outputs": [
    {
     "name": "stdout",
     "output_type": "stream",
     "text": [
      "Accuracy score: 0.563909774436\n",
      "confusion_matrix:\n",
      " [[ 84   5   1   6  12   0   4   2   0]\n",
      " [  5  50   0   0   4   2  34   1   0]\n",
      " [  2   0  13   2   0   0   2   0   0]\n",
      " [ 59   3   2  45  13   3  13   1   0]\n",
      " [ 12   0   0   3  22   3  10   0   0]\n",
      " [  5   2   0   1   2  30   5   0   0]\n",
      " [  4  43  10   1   7   0 126   3   0]\n",
      " [  0   0   0   0   0   0   0   0   1]\n",
      " [  0   1   0   0   1   0   0   0   5]]\n"
     ]
    }
   ],
   "source": [
    "from sklearn.svm import SVC\n",
    "\n",
    "svm = SVC(class_weight='balanced', probability=True) ### NOTE: balanced has worse score than 'None', but balanced better in theory\n",
    "svm.fit(train_nn_svd_dbow_sg, y_train)\n",
    "\n",
    "print('Accuracy score: ' + str(svm.score(test_nn_svd_dbow_sg, y_test)))\n",
    "svm_pred = svm.predict(test_nn_svd_dbow_sg)\n",
    "\n",
    "print('confusion_matrix:\\n', sklearn.metrics.confusion_matrix(y_test,svm_pred))"
   ]
  },
  {
   "cell_type": "code",
   "execution_count": 275,
   "metadata": {
    "collapsed": false
   },
   "outputs": [],
   "source": [
    "#export predictions to csv\n",
    "\n",
    "svm_new_predict_proba = svm.predict_proba(new_nn_svd_dbow_sg)\n",
    "\n",
    "new_index = test_master['ID'].values\n",
    "\n",
    "submission = pd.DataFrame(svm_new_predict_proba)\n",
    "submission['id'] = new_index\n",
    "submission.columns = ['class1', 'class2', 'class3', 'class4', 'class5', 'class6', 'class7', 'class8', 'class9', 'id']\n",
    "submission.to_csv(\"svm_svd_d2v_pmp.csv\",index=False)"
   ]
  },
  {
   "cell_type": "code",
   "execution_count": 131,
   "metadata": {
    "collapsed": true
   },
   "outputs": [],
   "source": [
    "# save SVM model\n",
    "\n",
    "pickle.dump(svm, open('models/svm_dm_model.sav', 'wb'))"
   ]
  },
  {
   "cell_type": "code",
   "execution_count": 132,
   "metadata": {
    "collapsed": true
   },
   "outputs": [],
   "source": [
    "# read in the saved model\n",
    "svm_lm_model = pickle.load(open('models/svm_dm_model.sav', 'rb'))"
   ]
  },
  {
   "cell_type": "markdown",
   "metadata": {},
   "source": [
    "### Multinomial Logistic Classifier"
   ]
  },
  {
   "cell_type": "code",
   "execution_count": 268,
   "metadata": {
    "collapsed": false
   },
   "outputs": [
    {
     "name": "stdout",
     "output_type": "stream",
     "text": [
      "Accuracy score: 0.577443609023\n",
      "confusion_matrix:\n",
      " [[ 63   1   1  21  10   8   5   4   1]\n",
      " [  1  45   0   3   5   2  37   3   0]\n",
      " [  1   0  12   2   0   1   3   0   0]\n",
      " [ 24   3   9  75  10   4   9   1   4]\n",
      " [  7   2   1   7  19   5   8   0   1]\n",
      " [  4   1   0   3   2  31   3   1   0]\n",
      " [  0  33   9   6   9   0 134   2   1]\n",
      " [  0   0   0   0   0   0   0   0   1]\n",
      " [  0   0   0   0   1   0   0   1   5]]\n"
     ]
    }
   ],
   "source": [
    "## NOTE - next , do grid search on C (from 1e-4 to 1e5), multi-class\n",
    "\n",
    "from sklearn.linear_model import LogisticRegression\n",
    "\n",
    "multinomial = LogisticRegression(multi_class='ovr', ### one-vs-rest\n",
    "                                 class_weight='balanced',\n",
    "                                 solver='liblinear',\n",
    "                                 penalty='l1',\n",
    "                                 C=.1)\n",
    "\n",
    "multinomial.fit(train_nn_svd_dbow_sg, y_train)\n",
    "print('Accuracy score: ' + str(multinomial.score(test_nn_svd_dbow_sg, y_test)))\n",
    "multinomial_pred = multinomial.predict(test_nn_svd_dbow_sg)\n",
    "\n",
    "print('confusion_matrix:\\n', sklearn.metrics.confusion_matrix(y_test,multinomial_pred))"
   ]
  },
  {
   "cell_type": "code",
   "execution_count": null,
   "metadata": {
    "collapsed": true
   },
   "outputs": [],
   "source": [
    "multinom_predict_proba = multinomial.predict_proba()"
   ]
  },
  {
   "cell_type": "code",
   "execution_count": 270,
   "metadata": {
    "collapsed": true
   },
   "outputs": [],
   "source": [
    "#export predictions to csv\n",
    "\n",
    "multinom_new_predict_proba = multinomial.predict_proba(new_nn_svd_dbow_sg)\n",
    "\n",
    "new_index = test_master['ID'].values\n",
    "\n",
    "submission = pd.DataFrame(multinom_new_predict_proba)\n",
    "submission['id'] = new_index\n",
    "submission.columns = ['class1', 'class2', 'class3', 'class4', 'class5', 'class6', 'class7', 'class8', 'class9', 'id']\n",
    "submission.to_csv(\"multinomlog_svd_d2v_pmp.csv\",index=False)"
   ]
  },
  {
   "cell_type": "code",
   "execution_count": 133,
   "metadata": {
    "collapsed": true
   },
   "outputs": [],
   "source": [
    "# save Multinomial Logistic Classification model\n",
    "\n",
    "pickle.dump(multinomial, open('models/multinomiallog_dm_model.sav', 'wb'))"
   ]
  },
  {
   "cell_type": "code",
   "execution_count": 134,
   "metadata": {
    "collapsed": true
   },
   "outputs": [],
   "source": [
    "# read in the saved model\n",
    "multinomiallog_lm_model = pickle.load(open('models/multinomiallog_dm_model.sav', 'rb'))"
   ]
  },
  {
   "cell_type": "code",
   "execution_count": 45,
   "metadata": {
    "collapsed": true
   },
   "outputs": [],
   "source": [
    "# Multinomial Logistic CLassifier with 10 fold CV on C\n",
    "from sklearn.model_selection import GridSearchCV, KFold, cross_val_score\n",
    "\n",
    "#CV\n",
    "C_range = [.0001,.001,.01,.1,1,10,100,1000,10000]\n",
    "\n",
    "# empty list that will hold cv scores\n",
    "cv_scores = []\n",
    "\n",
    "# perform 10-fold cross validation\n",
    "for c in C_range:\n",
    "    multinomial = LogisticRegression(multi_class='ovr', \n",
    "                                 class_weight='balanced',\n",
    "                                 solver='liblinear',\n",
    "                                 penalty='l1',\n",
    "                                 C=c)\n",
    "    scores = cross_val_score(multinomial, train_vecs_dm, y_train, cv=10)\n",
    "    cv_scores.append(scores.mean())"
   ]
  },
  {
   "cell_type": "code",
   "execution_count": 46,
   "metadata": {
    "collapsed": false
   },
   "outputs": [
    {
     "data": {
      "text/plain": [
       "0.1"
      ]
     },
     "execution_count": 46,
     "metadata": {},
     "output_type": "execute_result"
    }
   ],
   "source": [
    "optimal_C = C_range[cv_scores.index(max(cv_scores))]\n",
    "optimal_C"
   ]
  },
  {
   "cell_type": "code",
   "execution_count": 55,
   "metadata": {
    "collapsed": false
   },
   "outputs": [
    {
     "data": {
      "text/plain": [
       "[0.17093229881377797,\n",
       " 0.28687536391160434,\n",
       " 0.40138085735626594,\n",
       " 0.5530753109253852,\n",
       " 0.52669123513238547,\n",
       " 0.480764825222881,\n",
       " 0.47471393406455975,\n",
       " 0.47470830383856877,\n",
       " 0.47281854403305906]"
      ]
     },
     "execution_count": 55,
     "metadata": {},
     "output_type": "execute_result"
    }
   ],
   "source": [
    "cv_scores"
   ]
  },
  {
   "cell_type": "code",
   "execution_count": 51,
   "metadata": {
    "collapsed": false
   },
   "outputs": [
    {
     "data": {
      "image/png": "[encoded data removed]",
      "text/plain": [
       "<matplotlib.figure.Figure at 0x2c50c60b8>"
      ]
     },
     "metadata": {},
     "output_type": "display_data"
    }
   ],
   "source": [
    "import matplotlib.pyplot as plt\n",
    "\n",
    "plt.figure(figsize=(15,10))\n",
    "plt.plot(C_range, cv_scores)\n",
    "plt.xlabel('C Value', fontsize = 20)\n",
    "plt.ylabel('Accuracy Score', fontsize = 20)\n",
    "plt.xticks(fontsize = 16)\n",
    "plt.yticks(fontsize = 16)\n",
    "\n",
    "plt.show()\n",
    "#plt.savefig('knn_cross_valid.png')"
   ]
  },
  {
   "cell_type": "markdown",
   "metadata": {},
   "source": [
    "### Random Forest"
   ]
  },
  {
   "cell_type": "code",
   "execution_count": 48,
   "metadata": {
    "collapsed": true
   },
   "outputs": [],
   "source": [
    "from sklearn.ensemble import RandomForestClassifier"
   ]
  },
  {
   "cell_type": "code",
   "execution_count": 49,
   "metadata": {
    "collapsed": false
   },
   "outputs": [
    {
     "name": "stdout",
     "output_type": "stream",
     "text": [
      "Accuracy score: 0.396992481203\n",
      "confusion_matrix:\n",
      " [[52  4  4 14  7  3 16  6  8]\n",
      " [ 1 47  3  2  0  1 32  4  6]\n",
      " [ 0  0 10  2  3  0  2  0  2]\n",
      " [25  4  1 42  9  5 24  8 21]\n",
      " [ 1  6  2  2 21  7  6  3  2]\n",
      " [ 2  5  2  1  6 19  8  1  1]\n",
      " [ 0 61 25  4  0  2 71 14 17]\n",
      " [ 0  0  1  0  0  0  0  0  0]\n",
      " [ 0  0  0  0  0  0  5  0  2]]\n"
     ]
    }
   ],
   "source": [
    "# RF with AA FEATURES\n",
    "\n",
    "rf = RandomForestClassifier(n_jobs=-1,\n",
    "                            random_state=51,\n",
    "                            n_estimators=800,  ### do gridsearch >100\n",
    "                            max_depth=12,\n",
    "                            min_samples_leaf=5,  \n",
    "                            oob_score=True,\n",
    "                            class_weight='balanced'\n",
    "                           )\n",
    "\n",
    "rf.fit(X_train, y_train)\n",
    "print('Accuracy score: ' + str(rf.score(X_test, y_test)))\n",
    "rf_pred = rf.predict(X_test)\n",
    "\n",
    "print('confusion_matrix:\\n', sklearn.metrics.confusion_matrix(y_test,rf_pred))\n"
   ]
  },
  {
   "cell_type": "code",
   "execution_count": 68,
   "metadata": {
    "collapsed": false
   },
   "outputs": [
    {
     "name": "stdout",
     "output_type": "stream",
     "text": [
      "Accuracy score: 0.639097744361\n",
      "confusion_matrix:\n",
      " [[ 73   2   0  16   9   1  13   0   0]\n",
      " [  4  32   0   0   4   1  55   0   0]\n",
      " [  2   0   9   2   0   0   6   0   0]\n",
      " [ 35   1   1  81   5   1  15   0   0]\n",
      " [ 11   1   0   8  18   3   9   0   0]\n",
      " [  6   0   0   1   1  31   6   0   0]\n",
      " [  1   8   3   3   3   0 176   0   0]\n",
      " [  0   0   0   0   0   0   1   0   0]\n",
      " [  0   0   0   0   1   0   1   0   5]]\n"
     ]
    }
   ],
   "source": [
    "# RF single shot\n",
    "\n",
    "from sklearn.ensemble import RandomForestClassifier\n",
    "rf = RandomForestClassifier(n_jobs=-1,\n",
    "                            random_state=51,\n",
    "                            n_estimators=900,  ### do gridsearch >100\n",
    "                            max_depth=40,\n",
    "                            min_samples_leaf=5,  \n",
    "                            oob_score=True,\n",
    "                            class_weight='balanced'\n",
    "                           )\n",
    "\n",
    "rf.fit(train_vecs_dm, y_train)\n",
    "print('Accuracy score: ' + str(rf.score(test_vecs_dm, y_test)))\n",
    "rf_pred = rf.predict(test_vecs_dm)\n",
    "\n",
    "print('confusion_matrix:\\n', sklearn.metrics.confusion_matrix(y_test,rf_pred))"
   ]
  },
  {
   "cell_type": "code",
   "execution_count": 263,
   "metadata": {
    "collapsed": false
   },
   "outputs": [
    {
     "data": {
      "text/plain": [
       "GridSearchCV(cv=5, error_score='raise',\n",
       "       estimator=RandomForestClassifier(bootstrap=True, class_weight='balanced',\n",
       "            criterion='gini', max_depth=None, max_features='auto',\n",
       "            max_leaf_nodes=None, min_impurity_decrease=0.0,\n",
       "            min_impurity_split=None, min_samples_leaf=1,\n",
       "            min_samples_split=2, min_weight_fraction_leaf=0.0,\n",
       "            n_estimators=900, n_jobs=-1, oob_score=True, random_state=51,\n",
       "            verbose=0, warm_start=False),\n",
       "       fit_params=None, iid=True, n_jobs=1,\n",
       "       param_grid={'max_features': [12, 15, 20], 'min_samples_leaf': [5, 10, 15], 'max_depth': [15, 20, 30]},\n",
       "       pre_dispatch='2*n_jobs', refit=True, return_train_score=True,\n",
       "       scoring=None, verbose=0)"
      ]
     },
     "execution_count": 263,
     "metadata": {},
     "output_type": "execute_result"
    }
   ],
   "source": [
    "# RF Grid Search CV\n",
    "from sklearn.ensemble import RandomForestClassifier\n",
    "\n",
    "rf_params = {'max_depth':[15,20,30],\n",
    "             'max_features':[12,15,20],\n",
    "             'min_samples_leaf':[5,10,15]\n",
    "            }\n",
    "\n",
    "rf = RandomForestClassifier(n_jobs=-1,\n",
    "                            n_estimators=900,\n",
    "                            random_state=51,\n",
    "                            oob_score=True,\n",
    "                            class_weight='balanced'\n",
    "                           )\n",
    "\n",
    "rf_cv = GridSearchCV(rf,\n",
    "                     param_grid=rf_params,\n",
    "                     cv=5)\n",
    "\n",
    "rf_cv.fit(train_nn_svd_dbow_sg, y_train)"
   ]
  },
  {
   "cell_type": "code",
   "execution_count": 264,
   "metadata": {
    "collapsed": false
   },
   "outputs": [
    {
     "name": "stdout",
     "output_type": "stream",
     "text": [
      "{'max_features': 15, 'min_samples_leaf': 5, 'max_depth': 15}\n"
     ]
    }
   ],
   "source": [
    "print(rf_cv.best_params_)"
   ]
  },
  {
   "cell_type": "code",
   "execution_count": 265,
   "metadata": {
    "collapsed": false
   },
   "outputs": [
    {
     "name": "stdout",
     "output_type": "stream",
     "text": [
      "{'max_features': 15, 'min_samples_leaf': 5, 'max_depth': 15}\n"
     ]
    }
   ],
   "source": [
    "print(rf_cv.best_params_)\n",
    "y_rf_pred = rf_cv.best_estimator_.predict(test_nn_svd_dbow_sg)"
   ]
  },
  {
   "cell_type": "code",
   "execution_count": 266,
   "metadata": {
    "collapsed": false
   },
   "outputs": [
    {
     "name": "stdout",
     "output_type": "stream",
     "text": [
      "Accuracy score: 0.634586466165\n",
      "confusion_matrix:\n",
      " [[ 77   1   1  13   9   2  11   0   0]\n",
      " [  3  41   0   0   4   1  47   0   0]\n",
      " [  1   0  12   2   0   0   4   0   0]\n",
      " [ 26   1   3  79   7   1  22   0   0]\n",
      " [ 16   0   0   5  17   2  10   0   0]\n",
      " [  6   0   0   1   2  32   4   0   0]\n",
      " [  2  18   5   3   6   0 160   0   0]\n",
      " [  0   0   0   0   0   0   1   0   0]\n",
      " [  0   0   0   0   1   0   2   0   4]]\n"
     ]
    }
   ],
   "source": [
    "print('Accuracy score: ' + str(rf_cv.best_estimator_.score(test_nn_svd_dbow_sg, y_test)))\n",
    "\n",
    "print('confusion_matrix:\\n', sklearn.metrics.confusion_matrix(y_test,y_rf_pred))"
   ]
  },
  {
   "cell_type": "code",
   "execution_count": 135,
   "metadata": {
    "collapsed": true
   },
   "outputs": [],
   "source": [
    "# save RF model\n",
    "\n",
    "pickle.dump(rf_cv.best_estimator_, open('models/rf_dm_model.sav', 'wb'))"
   ]
  },
  {
   "cell_type": "code",
   "execution_count": 136,
   "metadata": {
    "collapsed": true
   },
   "outputs": [],
   "source": [
    "# read in the saved model\n",
    "rf_lm_model = pickle.load(open('models/rf_dm_model.sav', 'rb'))"
   ]
  },
  {
   "cell_type": "code",
   "execution_count": 271,
   "metadata": {
    "collapsed": true
   },
   "outputs": [],
   "source": [
    "#export predictions to csv\n",
    "rf_new_predict_proba = rf_cv.best_estimator_.predict_proba(new_nn_svd_dbow_sg)\n",
    "\n",
    "new_index = test_master['ID'].values\n",
    "\n",
    "submission = pd.DataFrame(rf_new_predict_proba)\n",
    "submission['id'] = new_index\n",
    "submission.columns = ['class1', 'class2', 'class3', 'class4', 'class5', 'class6', 'class7', 'class8', 'class9', 'id']\n",
    "submission.to_csv(\"rf_svd_d2v_pmp.csv\",index=False)"
   ]
  },
  {
   "cell_type": "markdown",
   "metadata": {},
   "source": [
    "### Gradient Boosting Model"
   ]
  },
  {
   "cell_type": "code",
   "execution_count": 258,
   "metadata": {
    "collapsed": false
   },
   "outputs": [
    {
     "name": "stdout",
     "output_type": "stream",
     "text": [
      "Accuracy score: 0.678195488722\n",
      "confusion_matrix:\n",
      " [[ 85   1   0  16   5   2   5   0   0]\n",
      " [  3  38   0   0   4   1  50   0   0]\n",
      " [  2   0   7   3   1   0   6   0   0]\n",
      " [ 18   0   1  95   4   1  20   0   0]\n",
      " [ 17   1   0  10  14   2   6   0   0]\n",
      " [  7   1   0   1   2  31   3   0   0]\n",
      " [  2   6   1   4   3   0 178   0   0]\n",
      " [  0   0   0   0   0   0   1   0   0]\n",
      " [  0   0   0   0   1   0   3   0   3]]\n"
     ]
    }
   ],
   "source": [
    "# GBM single shot\n",
    "\n",
    "from sklearn.ensemble import GradientBoostingClassifier\n",
    "\n",
    "gb = GradientBoostingClassifier(learning_rate=.01,\n",
    "                                random_state=13,\n",
    "                                n_estimators=600,\n",
    "                                max_features=20,\n",
    "                                max_depth=15,\n",
    "                                min_samples_leaf=5\n",
    "                               )\n",
    "\n",
    "gb.fit(train_nn_svd_dbow_sg, y_train)\n",
    "print('Accuracy score: ' + str(gb.score(test_nn_svd_dbow_sg, y_test)))\n",
    "gb_pred = gb.predict(test_nn_svd_dbow_sg)\n",
    "\n",
    "print('confusion_matrix:\\n', sklearn.metrics.confusion_matrix(y_test,gb_pred))"
   ]
  },
  {
   "cell_type": "code",
   "execution_count": 260,
   "metadata": {
    "collapsed": true
   },
   "outputs": [],
   "source": [
    "gb_new_predict_proba = gb.predict_proba(new_nn_svd_dbow_sg)"
   ]
  },
  {
   "cell_type": "code",
   "execution_count": 138,
   "metadata": {
    "collapsed": false
   },
   "outputs": [],
   "source": [
    "# save GBM model\n",
    "\n",
    "pickle.dump(gb, open('models/gbm_dm_model.sav', 'wb'))"
   ]
  },
  {
   "cell_type": "code",
   "execution_count": 139,
   "metadata": {
    "collapsed": true
   },
   "outputs": [],
   "source": [
    "# read in the saved model\n",
    "gbm_lm_model = pickle.load(open('models/gbm_dm_model.sav', 'rb'))"
   ]
  },
  {
   "cell_type": "code",
   "execution_count": null,
   "metadata": {
    "collapsed": true
   },
   "outputs": [],
   "source": [
    "# GBM grid search CV\n",
    "\n",
    "parameters = {'n_estimators':[600,700,800],\n",
    "              'learning_rate':[0.01,0.03,0.05]\n",
    "             }\n",
    "\n",
    "\n",
    "gb_reg = GradientBoostingClassifier(random_state=13,\n",
    "                                    n_jobs=-1,\n",
    "                                    max_depth=30,\n",
    "                                    min_samples_leaf=5\n",
    "                                   )\n",
    "\n",
    "gb_cv = GridSearchCV(gb_reg,\n",
    "                     param_grid=parameters,\n",
    "                     cv=5)\n",
    "\n",
    "gb_cv.fit(train_vecs_dm, y_train)"
   ]
  },
  {
   "cell_type": "code",
   "execution_count": 262,
   "metadata": {
    "collapsed": false
   },
   "outputs": [],
   "source": [
    "gb_new_predict_proba = gb.predict_proba(new_nn_svd_dbow_sg)\n",
    "\n",
    "new_index = test_master['ID'].values\n",
    "\n",
    "submission = pd.DataFrame(gb_new_predict_proba)\n",
    "submission['id'] = new_index\n",
    "submission.columns = ['class1', 'class2', 'class3', 'class4', 'class5', 'class6', 'class7', 'class8', 'class9', 'id']\n",
    "submission.to_csv(\"gb_svd_d2v_pmp.csv\",index=False)"
   ]
  },
  {
   "cell_type": "markdown",
   "metadata": {},
   "source": [
    "### Multinomial Naive Bayes\n",
    "#### Note: this is tough for Doc2Vec because some of the features (doc similarity vectors) are negative,\n",
    "#### and MNB doesn't take negative inputs, so we have to scale them"
   ]
  },
  {
   "cell_type": "code",
   "execution_count": 89,
   "metadata": {
    "collapsed": false
   },
   "outputs": [],
   "source": [
    "from sklearn.preprocessing import MinMaxScaler\n",
    "\n",
    "scaler = MinMaxScaler()\n",
    "\n",
    "scaler.fit(train_vecs_dm)\n",
    "train_vecs_dm_scaled = scaler.transform(train_vecs_dm)\n",
    "\n",
    "scaler.fit(test_vecs_dm)\n",
    "test_vecs_dm_scaled = scaler.transform(test_vecs_dm)\n"
   ]
  },
  {
   "cell_type": "code",
   "execution_count": 91,
   "metadata": {
    "collapsed": false
   },
   "outputs": [
    {
     "name": "stdout",
     "output_type": "stream",
     "text": [
      "Accuracy score: 0.485714285714\n",
      "confusion_matrix:\n",
      " [[ 40   0   0  24   4   1  45   0   0]\n",
      " [  0   0   0   0   0   0  96   0   0]\n",
      " [  2   0   0   4   2   0  11   0   0]\n",
      " [ 27   0   0  57   5   0  50   0   0]\n",
      " [  6   0   0  11  14   5  14   0   0]\n",
      " [  0   0   0   6   0  21  18   0   0]\n",
      " [  3   0   0   3   0   0 188   0   0]\n",
      " [  0   0   0   0   0   0   1   0   0]\n",
      " [  0   0   0   0   0   0   4   0   3]]\n"
     ]
    }
   ],
   "source": [
    "# MNB single shot\n",
    "\n",
    "from sklearn.naive_bayes import MultinomialNB\n",
    "\n",
    "mnb = MultinomialNB()\n",
    "\n",
    "mnb.fit(train_vecs_dm_scaled, y_train)\n",
    "print('Accuracy score: ' + str(mnb.score(test_vecs_dm_scaled, y_test)))\n",
    "mnb_pred = mnb.predict(test_vecs_dm_scaled)\n",
    "\n",
    "print('confusion_matrix:\\n', sklearn.metrics.confusion_matrix(y_test,mnb_pred))"
   ]
  },
  {
   "cell_type": "code",
   "execution_count": 140,
   "metadata": {
    "collapsed": true
   },
   "outputs": [],
   "source": [
    "# save Multinomial Naive Bayes model\n",
    "\n",
    "pickle.dump(mnb, open('models/mnb_dm_model.sav', 'wb'))"
   ]
  },
  {
   "cell_type": "code",
   "execution_count": 141,
   "metadata": {
    "collapsed": true
   },
   "outputs": [],
   "source": [
    "# read in the saved model\n",
    "mnb_lm_model = pickle.load(open('models/mnb_dm_model.sav', 'rb'))"
   ]
  },
  {
   "cell_type": "markdown",
   "metadata": {},
   "source": [
    "### Gaussian Naive Bayes\n",
    "#### Can take negative inputs"
   ]
  },
  {
   "cell_type": "code",
   "execution_count": 92,
   "metadata": {
    "collapsed": false
   },
   "outputs": [
    {
     "name": "stdout",
     "output_type": "stream",
     "text": [
      "Accuracy score: 0.494736842105\n",
      "confusion_matrix:\n",
      " [[ 57   9   5  19  18   2   3   1   0]\n",
      " [  2  43   8   8   4   1  30   0   0]\n",
      " [  2   0  15   1   0   0   1   0   0]\n",
      " [ 55   5  14  41  11   1  11   1   0]\n",
      " [ 10   3   1   4  24   3   5   0   0]\n",
      " [  4   2   2   3   0  29   5   0   0]\n",
      " [  6  39  19   6   4   2 116   2   0]\n",
      " [  0   0   0   0   0   0   1   0   0]\n",
      " [  0   1   0   0   1   0   0   1   4]]\n"
     ]
    }
   ],
   "source": [
    "from sklearn.naive_bayes import GaussianNB\n",
    "\n",
    "gnb = GaussianNB()\n",
    "\n",
    "gnb.fit(train_vecs_dm, y_train)\n",
    "print('Accuracy score: ' + str(gnb.score(test_vecs_dm, y_test)))\n",
    "gnb_pred = gnb.predict(test_vecs_dm)\n",
    "\n",
    "print('confusion_matrix:\\n', sklearn.metrics.confusion_matrix(y_test,gnb_pred))\n"
   ]
  },
  {
   "cell_type": "code",
   "execution_count": 142,
   "metadata": {
    "collapsed": true
   },
   "outputs": [],
   "source": [
    "# save Gaussian Naive Bayes model\n",
    "\n",
    "pickle.dump(gnb, open('models/gnb_dm_model.sav', 'wb'))"
   ]
  },
  {
   "cell_type": "code",
   "execution_count": 143,
   "metadata": {
    "collapsed": true
   },
   "outputs": [],
   "source": [
    "# read in the saved model\n",
    "gnb_lm_model = pickle.load(open('models/gnb_dm_model.sav', 'rb'))"
   ]
  },
  {
   "cell_type": "markdown",
   "metadata": {},
   "source": [
    "### XGBoost"
   ]
  },
  {
   "cell_type": "code",
   "execution_count": 118,
   "metadata": {
    "collapsed": false
   },
   "outputs": [],
   "source": [
    "# Convert the train_vecs_dm and test_vecs_dm lists of np arrays to pd dfs for XGBoost\n",
    "\n",
    "nrow_train = list(range(len(train_vecs_dm)))\n",
    "nrow_test = list(range(len(test_vecs_dm)))\n",
    "\n",
    "df_4 = pd.DataFrame.from_items(zip(nrow_train, train_vecs_dm))\n",
    "xgb_train_vecs_dm = pd.DataFrame.transpose(df_4)\n",
    "\n",
    "df_5 = pd.DataFrame.from_items(zip(nrow_test, test_vecs_dm))\n",
    "xgb_test_vecs_dm = pd.DataFrame.transpose(df_5)"
   ]
  },
  {
   "cell_type": "code",
   "execution_count": 71,
   "metadata": {
    "collapsed": false
   },
   "outputs": [
    {
     "data": {
      "text/plain": [
       "2656"
      ]
     },
     "execution_count": 71,
     "metadata": {},
     "output_type": "execute_result"
    }
   ],
   "source": [
    "len(train_nn_svd_dbow_sg"
   ]
  },
  {
   "cell_type": "code",
   "execution_count": 60,
   "metadata": {
    "collapsed": true
   },
   "outputs": [],
   "source": [
    "# prep the SVD and Doc2Vec features for XGB\n",
    "\n",
    "nrow_train = list(range(len(train_nn_svd_dbow_sg)))\n",
    "nrow_test = list(range(len(test_nn_svd_dbow_sg)))\n",
    "\n",
    "df_4 = pd.DataFrame.from_items(zip(nrow_train, train_nn_svd_dbow_sg))\n",
    "xgb_train_vecs_dbow_sg = pd.DataFrame.transpose(df_4)\n",
    "\n",
    "df_5 = pd.DataFrame.from_items(zip(nrow_test, test_nn_svd_dbow_sg))\n",
    "xgb_test_vecs_dbow_sg = pd.DataFrame.transpose(df_5)"
   ]
  },
  {
   "cell_type": "code",
   "execution_count": 61,
   "metadata": {
    "collapsed": true
   },
   "outputs": [],
   "source": [
    "nrow_new = list(range(len(new_nn_svd_dbow_sg)))\n",
    "\n",
    "df_4 = pd.DataFrame.from_items(zip(nrow_new, new_nn_svd_dbow_sg))\n",
    "xgb_new_vecs_dbow_sg = pd.DataFrame.transpose(df_4)\n"
   ]
  },
  {
   "cell_type": "code",
   "execution_count": 75,
   "metadata": {
    "collapsed": false
   },
   "outputs": [
    {
     "ename": "AttributeError",
     "evalue": "'numpy.ndarray' object has no attribute 'columns'",
     "output_type": "error",
     "traceback": [
      "\u001b[0;31m---------------------------------------------------------------------------\u001b[0m",
      "\u001b[0;31mAttributeError\u001b[0m                            Traceback (most recent call last)",
      "\u001b[0;32m<ipython-input-75-4ce2b156dbaf>\u001b[0m in \u001b[0;36m<module>\u001b[0;34m()\u001b[0m\n\u001b[0;32m----> 1\u001b[0;31m \u001b[0mtrain_nn_svd_dbow_sg\u001b[0m\u001b[0;34m.\u001b[0m\u001b[0mcolumns\u001b[0m\u001b[0;34m.\u001b[0m\u001b[0mnames\u001b[0m\u001b[0;34m\u001b[0m\u001b[0m\n\u001b[0m",
      "\u001b[0;31mAttributeError\u001b[0m: 'numpy.ndarray' object has no attribute 'columns'"
     ]
    }
   ],
   "source": [
    "train_nn_svd_dbow_sg.columns.names"
   ]
  },
  {
   "cell_type": "code",
   "execution_count": 62,
   "metadata": {
    "collapsed": false
   },
   "outputs": [
    {
     "data": {
      "text/plain": [
       "(2656, 495)"
      ]
     },
     "execution_count": 62,
     "metadata": {},
     "output_type": "execute_result"
    }
   ],
   "source": [
    "xgb_train_vecs_dbow_sg.shape"
   ]
  },
  {
   "cell_type": "raw",
   "metadata": {},
   "source": [
    "sample_indices"
   ]
  },
  {
   "cell_type": "code",
   "execution_count": 195,
   "metadata": {
    "collapsed": false
   },
   "outputs": [
    {
     "data": {
      "text/plain": [
       "GridSearchCV(cv=5, error_score='raise',\n",
       "       estimator=XGBClassifier(base_score=0.5, colsample_bylevel=1, colsample_bytree=0.7,\n",
       "       gamma=0, learning_rate=0.1, max_delta_step=0, max_depth=3,\n",
       "       min_child_weight=1, missing=None, n_estimators=1000, nthread=-1,\n",
       "       objective='binary:logistic', reg_alpha=0, reg_lambda=1,\n",
       "       scale_pos_weight=1, seed=25, silent=True, subsample=0.85),\n",
       "       fit_params=None, iid=True, n_jobs=1,\n",
       "       param_grid={'learning_rate': [0.01, 0.02, 0.03], 'max_depth': [10, 15, 20]},\n",
       "       pre_dispatch='2*n_jobs', refit=True, return_train_score=True,\n",
       "       scoring=None, verbose=0)"
      ]
     },
     "execution_count": 195,
     "metadata": {},
     "output_type": "execute_result"
    }
   ],
   "source": [
    "# XGB Grid Search CV\n",
    "from sklearn.model_selection import GridSearchCV, KFold, cross_val_score\n",
    "\n",
    "xgb_params = {\n",
    "              'learning_rate':[.01,.02,.03],\n",
    "              'max_depth':[10,15,20],\n",
    "             }\n",
    "\n",
    "xgb = XGBClassifier(seed=25,\n",
    "                    n_estimators=1000,\n",
    "                    subsample = .85,\n",
    "                    colsample_bytree = .7,\n",
    "                    reg_alpha = 0,\n",
    "                    reg_lambda = 1)\n",
    "\n",
    "xgb_cv = GridSearchCV(xgb,\n",
    "                     param_grid=xgb_params,\n",
    "                     cv=5)\n",
    "\n",
    "xgb_cv.fit(xgb_train_vecs_dbow_sg, y_train)"
   ]
  },
  {
   "cell_type": "code",
   "execution_count": 196,
   "metadata": {
    "collapsed": false
   },
   "outputs": [
    {
     "name": "stdout",
     "output_type": "stream",
     "text": [
      "{'learning_rate': 0.03, 'max_depth': 15}\n"
     ]
    }
   ],
   "source": [
    "print(xgb_cv.best_params_)\n",
    "y_xgb_pred = xgb_cv.best_estimator_.predict(xgb_test_vecs_dbow_sg)"
   ]
  },
  {
   "cell_type": "code",
   "execution_count": 197,
   "metadata": {
    "collapsed": false
   },
   "outputs": [
    {
     "name": "stdout",
     "output_type": "stream",
     "text": [
      "Accuracy score: 0.678195488722\n",
      "confusion_matrix:\n",
      " [[ 88   1   0  14   6   2   3   0   0]\n",
      " [  3  43   0   1   4   1  44   0   0]\n",
      " [  2   0   7   3   1   0   6   0   0]\n",
      " [ 19   1   1  97   6   1  14   0   0]\n",
      " [ 17   0   0   9  14   3   7   0   0]\n",
      " [  5   1   0   2   2  30   5   0   0]\n",
      " [  1  13   2   6   4   0 168   0   0]\n",
      " [  0   0   0   0   0   0   1   0   0]\n",
      " [  0   0   0   0   1   0   2   0   4]]\n"
     ]
    }
   ],
   "source": [
    "print('Accuracy score: ' + str(xgb_cv.best_estimator_.score(xgb_test_vecs_dbow_sg, y_test)))\n",
    "\n",
    "print('confusion_matrix:\\n', sklearn.metrics.confusion_matrix(y_test,y_xgb_pred))"
   ]
  },
  {
   "cell_type": "code",
   "execution_count": 198,
   "metadata": {
    "collapsed": false
   },
   "outputs": [
    {
     "name": "stdout",
     "output_type": "stream",
     "text": [
      "Accuracy score: 0.678195488722\n",
      "confusion_matrix:\n",
      " [[ 88   1   0  14   6   2   3   0   0]\n",
      " [  3  43   0   1   4   1  44   0   0]\n",
      " [  2   0   7   3   1   0   6   0   0]\n",
      " [ 19   1   1  97   6   1  14   0   0]\n",
      " [ 17   0   0   9  14   3   7   0   0]\n",
      " [  5   1   0   2   2  30   5   0   0]\n",
      " [  1  13   2   6   4   0 168   0   0]\n",
      " [  0   0   0   0   0   0   1   0   0]\n",
      " [  0   0   0   0   1   0   2   0   4]]\n"
     ]
    }
   ],
   "source": [
    "# this uses SVD and Doc2Vec features\n",
    "\n",
    "from xgboost import XGBClassifier\n",
    "\n",
    "xgb = XGBClassifier(seed=25,\n",
    "                    max_depth=15,\n",
    "                    learning_rate=.03,\n",
    "                    n_estimators=1000,\n",
    "                    subsample = .85,\n",
    "                    colsample_bytree = .7,\n",
    "                    reg_alpha = 0,\n",
    "                    reg_lambda = 1)\n",
    "\n",
    "xgb.fit(xgb_train_vecs_dbow_sg, y_train)\n",
    "print('Accuracy score: ' + str(xgb.score(xgb_test_vecs_dbow_sg, y_test)))\n",
    "xgb_pred = xgb.predict(xgb_test_vecs_dbow_sg)\n",
    "\n",
    "print('confusion_matrix:\\n', sklearn.metrics.confusion_matrix(y_test,xgb_pred))\n"
   ]
  },
  {
   "cell_type": "code",
   "execution_count": null,
   "metadata": {
    "collapsed": true
   },
   "outputs": [],
   "source": [
    "import seaborn as sns\n",
    "%matplotlib inline\n",
    "\n",
    "plt.rcParams['figure.figsize'] = (7.0, 7.0)\n",
    "xgb.plot_importance(booster=model); plt.show()"
   ]
  },
  {
   "cell_type": "code",
   "execution_count": 82,
   "metadata": {
    "collapsed": true
   },
   "outputs": [],
   "source": [
    "xgb_new_pred_proba = xgb.predict_proba(xgb_new_vecs_dbow_sg)"
   ]
  },
  {
   "cell_type": "code",
   "execution_count": 84,
   "metadata": {
    "collapsed": true
   },
   "outputs": [],
   "source": [
    "new_index = test_master['ID'].values\n",
    "\n",
    "submission = pd.DataFrame(xgb_new_pred_proba)\n",
    "submission['id'] = new_index\n",
    "submission.columns = ['class1', 'class2', 'class3', 'class4', 'class5', 'class6', 'class7', 'class8', 'class9', 'id']\n",
    "submission.to_csv(\"xgb_svd_d2v_pmp.csv\",index=False)"
   ]
  },
  {
   "cell_type": "code",
   "execution_count": 144,
   "metadata": {
    "collapsed": true
   },
   "outputs": [],
   "source": [
    "# save XGBoost model\n",
    "\n",
    "pickle.dump(xgb, open('models/xgb_dm_model.sav', 'wb'))"
   ]
  },
  {
   "cell_type": "code",
   "execution_count": 146,
   "metadata": {
    "collapsed": true
   },
   "outputs": [],
   "source": [
    "# read in the saved model\n",
    "xgb_lm_model = pickle.load(open('models/xgb_dm_model.sav', 'rb'))"
   ]
  },
  {
   "cell_type": "code",
   "execution_count": 147,
   "metadata": {
    "collapsed": false
   },
   "outputs": [
    {
     "name": "stdout",
     "output_type": "stream",
     "text": [
      "Accuracy score: 0.666165413534\n",
      "confusion_matrix:\n",
      " [[ 83   2   0  18   4   2   5   0   0]\n",
      " [  5  33   0   0   5   1  52   0   0]\n",
      " [  2   0   6   3   0   0   8   0   0]\n",
      " [ 29   2   0  97   1   1   9   0   0]\n",
      " [ 15   1   0  13  10   2   9   0   0]\n",
      " [  6   0   0   2   1  30   6   0   0]\n",
      " [  1   8   1   2   3   0 179   0   0]\n",
      " [  0   0   0   0   0   0   1   0   0]\n",
      " [  0   0   0   0   1   0   1   0   5]]\n"
     ]
    }
   ],
   "source": [
    "# testing model saved in file\n",
    "\n",
    "print('Accuracy score: ' + str(xgb_lm_model.score(xgb_test_vecs_dm, y_test)))\n",
    "xgb_pred = xgb_lm_model.predict(xgb_test_vecs_dm)\n",
    "\n",
    "print('confusion_matrix:\\n', sklearn.metrics.confusion_matrix(y_test,xgb_pred))"
   ]
  },
  {
   "cell_type": "code",
   "execution_count": null,
   "metadata": {
    "collapsed": true
   },
   "outputs": [],
   "source": [
    "train_vecs_dbow_sg"
   ]
  },
  {
   "cell_type": "code",
   "execution_count": 29,
   "metadata": {
    "collapsed": true
   },
   "outputs": [],
   "source": [
    "# Convert the train_vecs_dm and test_vecs_dm lists of np arrays to pd dfs for XGBoost\n",
    "\n",
    "nrow_train = list(range(len(train_vecs_dbow_sg)))\n",
    "nrow_test = list(range(len(test_vecs_dbow_sg)))\n",
    "\n",
    "df_4 = pd.DataFrame.from_items(zip(nrow_train, train_vecs_dbow_sg))\n",
    "xgb_train_vecs_dbow_sg = pd.DataFrame.transpose(df_4)\n",
    "\n",
    "df_5 = pd.DataFrame.from_items(zip(nrow_test, test_vecs_dbow_sg))\n",
    "xgb_test_vecs_dbow_sg = pd.DataFrame.transpose(df_5)"
   ]
  },
  {
   "cell_type": "code",
   "execution_count": 68,
   "metadata": {
    "collapsed": false
   },
   "outputs": [
    {
     "name": "stdout",
     "output_type": "stream",
     "text": [
      "Accuracy score: 0.636090225564\n",
      "confusion_matrix:\n",
      " [[ 69   1   0  23   6   2  13   0   0]\n",
      " [  2  37   0   1   4   1  51   0   0]\n",
      " [  2   0   7   3   1   0   6   0   0]\n",
      " [ 24   0   0  93   5   1  16   0   0]\n",
      " [ 20   0   0   8  14   2   6   0   0]\n",
      " [  5   2   0   2   3  30   3   0   0]\n",
      " [  2  11   1   7   4   0 169   0   0]\n",
      " [  0   0   0   0   0   0   1   0   0]\n",
      " [  0   0   0   0   1   0   2   0   4]]\n"
     ]
    }
   ],
   "source": [
    "from xgboost import XGBClassifier\n",
    "\n",
    "xgb = XGBClassifier(seed=25,\n",
    "                    max_depth=15,\n",
    "                    learning_rate=.01,\n",
    "                    n_estimators=1000,\n",
    "                    subsample = .85,\n",
    "                    colsample_bytree = .7,\n",
    "                    reg_alpha = 0,\n",
    "                    reg_lambda = 1)\n",
    "\n",
    "xgb.fit(xgb_train_vecs_dbow_sg, y_train)\n",
    "print('Accuracy score: ' + str(xgb.score(xgb_test_vecs_dbow_sg, y_test)))\n",
    "xgb_pred = xgb.predict(xgb_test_vecs_dbow_sg)\n",
    "\n",
    "print('confusion_matrix:\\n', sklearn.metrics.confusion_matrix(y_test,xgb_pred))"
   ]
  },
  {
   "cell_type": "code",
   "execution_count": 63,
   "metadata": {
    "collapsed": false
   },
   "outputs": [
    {
     "name": "stdout",
     "output_type": "stream",
     "text": [
      "Accuracy score: 0.697744360902\n",
      "confusion_matrix:\n",
      " [[ 85   1   0  17   6   2   3   0   0]\n",
      " [  3  47   0   0   4   1  41   0   0]\n",
      " [  0   0   7   4   1   0   7   0   0]\n",
      " [ 16   0   0 107   4   1  11   0   0]\n",
      " [ 15   1   0  11  14   3   6   0   0]\n",
      " [  5   2   0   1   1  30   6   0   0]\n",
      " [  2  12   0   7   3   0 170   0   0]\n",
      " [  0   0   0   0   0   0   1   0   0]\n",
      " [  0   0   0   0   1   0   2   0   4]]\n"
     ]
    }
   ],
   "source": [
    "### ALL FEATURES\n",
    "from xgboost import XGBClassifier\n",
    "\n",
    "xgb = XGBClassifier(seed=25,\n",
    "                    max_depth=15,\n",
    "                    learning_rate=.01,\n",
    "                    n_estimators=1000,\n",
    "                    subsample = .85,\n",
    "                    colsample_bytree = .7,\n",
    "                    reg_alpha = 0,\n",
    "                    reg_lambda = 1)\n",
    "\n",
    "xgb.fit(xgb_train_vecs_dbow_sg, y_train)\n",
    "print('Accuracy score: ' + str(xgb.score(xgb_test_vecs_dbow_sg, y_test)))\n",
    "xgb_pred = xgb.predict(xgb_test_vecs_dbow_sg)\n",
    "\n",
    "print('confusion_matrix:\\n', sklearn.metrics.confusion_matrix(y_test,xgb_pred))"
   ]
  },
  {
   "cell_type": "code",
   "execution_count": 92,
   "metadata": {
    "collapsed": false
   },
   "outputs": [
    {
     "data": {
      "image/png": "[encoded data removed]",
      "text/plain": [
       "<matplotlib.figure.Figure at 0x1aa49b940>"
      ]
     },
     "metadata": {},
     "output_type": "display_data"
    }
   ],
   "source": [
    "from matplotlib import pyplot\n",
    "from xgboost import plot_importance\n",
    "pyplot.figure(figsize=(20,10))\n",
    "pyplot.bar(range(len(xgb.feature_importances_)), xgb.feature_importances_)\n",
    "pyplot.suptitle('XGBoost Importance', fontsize=18)\n",
    "pyplot.xlabel('Features', fontsize=16)\n",
    "pyplot.ylabel('Importance', fontsize=16)\n",
    "pyplot.savefig('all_features_imporance.png')\n",
    "pyplot.show()"
   ]
  },
  {
   "cell_type": "code",
   "execution_count": 93,
   "metadata": {
    "collapsed": false
   },
   "outputs": [
    {
     "data": {
      "image/png": "[encoded data removed]",
      "text/plain": [
       "<matplotlib.figure.Figure at 0x1da3876d8>"
      ]
     },
     "metadata": {},
     "output_type": "display_data"
    },
    {
     "data": {
      "text/plain": [
       "<matplotlib.figure.Figure at 0x1d2c57b70>"
      ]
     },
     "metadata": {},
     "output_type": "display_data"
    }
   ],
   "source": [
    "from matplotlib import pyplot\n",
    "from xgboost import plot_importance\n",
    "pyplot.figure(figsize=(20,10))\n",
    "pyplot.bar(range(len(xgb.feature_importances_[:25])), xgb.feature_importances_[:25])\n",
    "pyplot.suptitle('Gene SVD - XGBoost Importance', fontsize=18)\n",
    "pyplot.xlabel('Gene SVD Features', fontsize=16)\n",
    "pyplot.ylabel('Importance', fontsize=16)\n",
    "pyplot.show()\n",
    "pyplot.savefig('gene_svd.png')"
   ]
  },
  {
   "cell_type": "code",
   "execution_count": 94,
   "metadata": {
    "collapsed": false
   },
   "outputs": [
    {
     "data": {
      "image/png": "[encoded data removed]",
      "text/plain": [
       "<matplotlib.figure.Figure at 0x1da27c2e8>"
      ]
     },
     "metadata": {},
     "output_type": "display_data"
    },
    {
     "data": {
      "text/plain": [
       "<matplotlib.figure.Figure at 0x1ba9080b8>"
      ]
     },
     "metadata": {},
     "output_type": "display_data"
    }
   ],
   "source": [
    "from matplotlib import pyplot\n",
    "from xgboost import plot_importance\n",
    "pyplot.figure(figsize=(20,10))\n",
    "pyplot.bar(range(len(xgb.feature_importances_[25:50])), xgb.feature_importances_[25:50])\n",
    "pyplot.suptitle('Variation SVD - XGBoost Importance', fontsize=18)\n",
    "pyplot.xlabel('Variation SVD Features', fontsize=16)\n",
    "pyplot.ylabel('Importance', fontsize=16)\n",
    "pyplot.show()\n",
    "pyplot.savefig('var_svd.png')"
   ]
  },
  {
   "cell_type": "code",
   "execution_count": 97,
   "metadata": {
    "collapsed": false
   },
   "outputs": [
    {
     "data": {
      "image/png": "[encoded data removed]",
      "text/plain": [
       "<matplotlib.figure.Figure at 0x1da668828>"
      ]
     },
     "metadata": {},
     "output_type": "display_data"
    }
   ],
   "source": [
    "pyplot.figure(figsize=(20,10))\n",
    "pyplot.bar(range(len(xgb.feature_importances_[49:98])), xgb.feature_importances_[49:98])\n",
    "pyplot.suptitle('Gene SVD - XGBoost Importance', fontsize=18)\n",
    "pyplot.xlabel('Gene SVD Features', fontsize=16)\n",
    "pyplot.ylabel('Importance', fontsize=16)\n",
    "pyplot.show()\n",
    "#pyplot.savefig('gene_svd.png')"
   ]
  },
  {
   "cell_type": "code",
   "execution_count": 86,
   "metadata": {
    "collapsed": false
   },
   "outputs": [
    {
     "data": {
      "text/plain": [
       "array(['gene_0', 'gene_1', 'gene_2', 'gene_3', 'gene_4', 'gene_5',\n",
       "       'gene_6', 'gene_7', 'gene_8', 'gene_9', 'gene_10', 'gene_11',\n",
       "       'gene_12', 'gene_13', 'gene_14', 'gene_15', 'gene_16', 'gene_17',\n",
       "       'gene_18', 'gene_19', 'gene_20', 'gene_21', 'gene_22', 'gene_23',\n",
       "       'gene_24', 'variation_0', 'variation_1', 'variation_2',\n",
       "       'variation_3', 'variation_4', 'variation_5', 'variation_6',\n",
       "       'variation_7', 'variation_8', 'variation_9', 'variation_10',\n",
       "       'variation_11', 'variation_12', 'variation_13', 'variation_14',\n",
       "       'variation_15', 'variation_16', 'variation_17', 'variation_18',\n",
       "       'variation_19', 'variation_20', 'variation_21', 'variation_22',\n",
       "       'variation_23', 'variation_24', 'Elec_Diff', 'Hydro_Diff',\n",
       "       'Orig_Amino_0', 'Orig_Amino_A', 'Orig_Amino_C', 'Orig_Amino_D',\n",
       "       'Orig_Amino_E', 'Orig_Amino_F', 'Orig_Amino_G', 'Orig_Amino_H',\n",
       "       'Orig_Amino_I', 'Orig_Amino_K', 'Orig_Amino_L', 'Orig_Amino_M',\n",
       "       'Orig_Amino_N', 'Orig_Amino_P', 'Orig_Amino_Q', 'Orig_Amino_R',\n",
       "       'Orig_Amino_S', 'Orig_Amino_T', 'Orig_Amino_V', 'Orig_Amino_W',\n",
       "       'Orig_Amino_Y', 'Mut_Amino_0', 'Mut_Amino_A', 'Mut_Amino_C',\n",
       "       'Mut_Amino_D', 'Mut_Amino_E', 'Mut_Amino_F', 'Mut_Amino_G',\n",
       "       'Mut_Amino_H', 'Mut_Amino_I', 'Mut_Amino_K', 'Mut_Amino_L',\n",
       "       'Mut_Amino_M', 'Mut_Amino_N', 'Mut_Amino_P', 'Mut_Amino_Q',\n",
       "       'Mut_Amino_R', 'Mut_Amino_S', 'Mut_Amino_T', 'Mut_Amino_V',\n",
       "       'Mut_Amino_W', 'Mut_Amino_Y', 'ID'], dtype=object)"
      ]
     },
     "execution_count": 86,
     "metadata": {},
     "output_type": "execute_result"
    }
   ],
   "source": [
    "X_train.columns.values"
   ]
  },
  {
   "cell_type": "code",
   "execution_count": 74,
   "metadata": {
    "collapsed": false
   },
   "outputs": [
    {
     "data": {
      "text/plain": [
       "array([  0,   1,   2,   3,   4,   5,   6,   7,   8,   9,  10,  11,  12,\n",
       "        13,  14,  15,  16,  17,  18,  19,  20,  21,  22,  23,  24,  25,\n",
       "        26,  27,  28,  29,  30,  31,  32,  33,  34,  35,  36,  37,  38,\n",
       "        39,  40,  41,  42,  43,  44,  45,  46,  47,  48,  49,  50,  51,\n",
       "        52,  53,  54,  55,  56,  57,  58,  59,  60,  61,  62,  63,  64,\n",
       "        65,  66,  67,  68,  69,  70,  71,  72,  73,  74,  75,  76,  77,\n",
       "        78,  79,  80,  81,  82,  83,  84,  85,  86,  87,  88,  89,  90,\n",
       "        91,  92,  93,  94,  95,  96,  97,  98,  99, 100, 101, 102, 103,\n",
       "       104, 105, 106, 107, 108, 109, 110, 111, 112, 113, 114, 115, 116,\n",
       "       117, 118, 119, 120, 121, 122, 123, 124, 125, 126, 127, 128, 129,\n",
       "       130, 131, 132, 133, 134, 135, 136, 137, 138, 139, 140, 141, 142,\n",
       "       143, 144, 145, 146, 147, 148, 149, 150, 151, 152, 153, 154, 155,\n",
       "       156, 157, 158, 159, 160, 161, 162, 163, 164, 165, 166, 167, 168,\n",
       "       169, 170, 171, 172, 173, 174, 175, 176, 177, 178, 179, 180, 181,\n",
       "       182, 183, 184, 185, 186, 187, 188, 189, 190, 191, 192, 193, 194,\n",
       "       195, 196, 197, 198, 199, 200, 201, 202, 203, 204, 205, 206, 207,\n",
       "       208, 209, 210, 211, 212, 213, 214, 215, 216, 217, 218, 219, 220,\n",
       "       221, 222, 223, 224, 225, 226, 227, 228, 229, 230, 231, 232, 233,\n",
       "       234, 235, 236, 237, 238, 239, 240, 241, 242, 243, 244, 245, 246,\n",
       "       247, 248, 249, 250, 251, 252, 253, 254, 255, 256, 257, 258, 259,\n",
       "       260, 261, 262, 263, 264, 265, 266, 267, 268, 269, 270, 271, 272,\n",
       "       273, 274, 275, 276, 277, 278, 279, 280, 281, 282, 283, 284, 285,\n",
       "       286, 287, 288, 289, 290, 291, 292, 293, 294, 295, 296, 297, 298,\n",
       "       299, 300, 301, 302, 303, 304, 305, 306, 307, 308, 309, 310, 311,\n",
       "       312, 313, 314, 315, 316, 317, 318, 319, 320, 321, 322, 323, 324,\n",
       "       325, 326, 327, 328, 329, 330, 331, 332, 333, 334, 335, 336, 337,\n",
       "       338, 339, 340, 341, 342, 343, 344, 345, 346, 347, 348, 349, 350,\n",
       "       351, 352, 353, 354, 355, 356, 357, 358, 359, 360, 361, 362, 363,\n",
       "       364, 365, 366, 367, 368, 369, 370, 371, 372, 373, 374, 375, 376,\n",
       "       377, 378, 379, 380, 381, 382, 383, 384, 385, 386, 387, 388, 389,\n",
       "       390, 391, 392, 393, 394, 395, 396, 397, 398, 399, 400, 401, 402,\n",
       "       403, 404, 405, 406, 407, 408, 409, 410, 411, 412, 413, 414, 415,\n",
       "       416, 417, 418, 419, 420, 421, 422, 423, 424, 425, 426, 427, 428,\n",
       "       429, 430, 431, 432, 433, 434, 435, 436, 437, 438, 439, 440, 441,\n",
       "       442, 443, 444, 445, 446, 447, 448, 449, 450, 451, 452, 453, 454,\n",
       "       455, 456, 457, 458, 459, 460, 461, 462, 463, 464, 465, 466, 467,\n",
       "       468, 469, 470, 471, 472, 473, 474, 475, 476, 477, 478, 479, 480,\n",
       "       481, 482, 483, 484, 485, 486, 487, 488, 489, 490, 491, 492, 493, 494])"
      ]
     },
     "execution_count": 74,
     "metadata": {},
     "output_type": "execute_result"
    }
   ],
   "source": [
    "xgb_train_vecs_dbow_sg.columns.values"
   ]
  },
  {
   "cell_type": "code",
   "execution_count": null,
   "metadata": {
    "collapsed": true
   },
   "outputs": [],
   "source": [
    "# save XGBoost DBOW SG model\n",
    "\n",
    "pickle.dump(xgb, open('models/xgb_dbow_sg_model.sav', 'wb'))"
   ]
  },
  {
   "cell_type": "code",
   "execution_count": null,
   "metadata": {
    "collapsed": true
   },
   "outputs": [],
   "source": [
    "### CODE FOR LOADING A MODEL\n",
    "\n",
    "doc2vec_model = Doc2Vec.load('models/doc2vec.model')"
   ]
  },
  {
   "cell_type": "code",
   "execution_count": 149,
   "metadata": {
    "collapsed": false
   },
   "outputs": [],
   "source": [
    "pickle.dump(train_vecs_dm, open('train_vecs_dm.pkl', 'wb'))"
   ]
  },
  {
   "cell_type": "code",
   "execution_count": 150,
   "metadata": {
    "collapsed": true
   },
   "outputs": [],
   "source": [
    "pickle.dump(test_vecs_dm, open('test_vecs_dm.pkl', 'wb'))"
   ]
  },
  {
   "cell_type": "code",
   "execution_count": 4,
   "metadata": {
    "collapsed": true
   },
   "outputs": [],
   "source": [
    "test_vecs_dm = pd.read_pickle('test_vecs_dm.pkl')\n",
    "y_train_dm = pd.read_pickle('y_train_dm.pkl')\n",
    "y_test_dm = pd.read_pickle('y_test_dm.pkl')\n",
    "train_vecs_dm = pd.read_pickle('train_vecs_dm.pkl')"
   ]
  },
  {
   "cell_type": "code",
   "execution_count": 50,
   "metadata": {
    "collapsed": true
   },
   "outputs": [],
   "source": [
    "test_vecs_dbow_sg = pd.read_pickle('test_vecs_dbow_sg.pkl')\n",
    "train_vecs_dbow_sg = pd.read_pickle('train_vecs_dbow_sg.pkl')\n",
    "new_vecs_dbow_sg = pd.read_pickle('new_vecs_dbow_sg.pkl')"
   ]
  },
  {
   "cell_type": "code",
   "execution_count": 79,
   "metadata": {
    "collapsed": true
   },
   "outputs": [],
   "source": []
  },
  {
   "cell_type": "code",
   "execution_count": 157,
   "metadata": {
    "collapsed": false
   },
   "outputs": [],
   "source": [
    "pickle.dump(y_train, open('y_train_dm.pkl', 'wb'))"
   ]
  },
  {
   "cell_type": "code",
   "execution_count": 158,
   "metadata": {
    "collapsed": true
   },
   "outputs": [],
   "source": [
    "pickle.dump(y_test, open('y_test_dm.pkl', 'wb'))"
   ]
  },
  {
   "cell_type": "code",
   "execution_count": 27,
   "metadata": {
    "collapsed": true
   },
   "outputs": [],
   "source": [
    "import pickle"
   ]
  },
  {
   "cell_type": "code",
   "execution_count": 28,
   "metadata": {
    "collapsed": false
   },
   "outputs": [],
   "source": [
    "pickle.dump(test_vecs_dbow_sg, open('test_vecs_dbow_sg.pkl', 'wb'))\n",
    "pickle.dump(train_vecs_dbow_sg, open('train_vecs_dbow_sg.pkl', 'wb'))\n",
    "pickle.dump(new_vecs_dbow_sg, open('new_vecs_dbow_sg.pkl', 'wb'))\n"
   ]
  },
  {
   "cell_type": "markdown",
   "metadata": {},
   "source": [
    "### Neural Network"
   ]
  },
  {
   "cell_type": "code",
   "execution_count": 51,
   "metadata": {
    "collapsed": false
   },
   "outputs": [
    {
     "name": "stderr",
     "output_type": "stream",
     "text": [
      "Using TensorFlow backend.\n"
     ]
    }
   ],
   "source": [
    "from keras.models import Sequential\n",
    "from keras.layers import Dense\n",
    "from keras.wrappers.scikit_learn import KerasClassifier\n",
    "from keras.utils import np_utils\n",
    "from sklearn.model_selection import cross_val_score\n",
    "from sklearn.model_selection import KFold\n",
    "from sklearn.preprocessing import LabelEncoder\n",
    "from sklearn.pipeline import Pipeline"
   ]
  },
  {
   "cell_type": "code",
   "execution_count": 52,
   "metadata": {
    "collapsed": false
   },
   "outputs": [],
   "source": [
    "from keras.utils import np_utils\n",
    "from sklearn.preprocessing import LabelEncoder\n",
    "from keras.models import Sequential\n",
    "from keras.layers import Dense, Dropout, LSTM, Embedding, Input, RepeatVector\n",
    "from keras.optimizers import SGD\n",
    "\n",
    "seed = 7\n",
    "np.random.seed(seed)"
   ]
  },
  {
   "cell_type": "code",
   "execution_count": 101,
   "metadata": {
    "collapsed": false
   },
   "outputs": [],
   "source": [
    "# Encode the y train values\n",
    "\n",
    "label_encoder = LabelEncoder()\n",
    "label_encoder.fit(y_train)\n",
    "y_train_encoded = np_utils.to_categorical((label_encoder.transform(y_train)))\n"
   ]
  },
  {
   "cell_type": "code",
   "execution_count": 105,
   "metadata": {
    "collapsed": false
   },
   "outputs": [],
   "source": [
    "# define the NN model\n",
    "### THIS IS THE ONE SO FAR\n",
    "\n",
    "def nn_baseline_model():\n",
    "    model = Sequential()\n",
    "    model.add(Dense(512, input_dim=450, kernel_initializer='normal', activation='relu'))\n",
    "    model.add(Dropout(0.3))\n",
    "    model.add(Dense(512, kernel_initializer='normal', activation='relu'))\n",
    "    model.add(Dropout(0.3))\n",
    "    model.add(Dense(512, kernel_initializer='normal', activation='relu'))\n",
    "    model.add(Dropout(0.3))\n",
    "    model.add(Dense(512, kernel_initializer='normal', activation='relu'))\n",
    "    model.add(Dropout(0.3))\n",
    "    model.add(Dense(100, kernel_initializer='normal', activation='relu'))\n",
    "    model.add(Dense(9, kernel_initializer='normal', activation=\"softmax\"))\n",
    "    \n",
    "    #sgd = SGD(lr=0.01, decay=1e-6, momentum=0.9, nesterov=True)  \n",
    "    model.compile(loss='categorical_crossentropy', optimizer='adam', metrics=['accuracy'])\n",
    "    return model\n",
    "\n",
    "nn_model = nn_baseline_model()"
   ]
  },
  {
   "cell_type": "code",
   "execution_count": 55,
   "metadata": {
    "collapsed": false
   },
   "outputs": [
    {
     "data": {
      "text/plain": [
       "495"
      ]
     },
     "execution_count": 55,
     "metadata": {},
     "output_type": "execute_result"
    }
   ],
   "source": [
    "train_nn_svd_dbow_sg.shape[1]"
   ]
  },
  {
   "cell_type": "code",
   "execution_count": 109,
   "metadata": {
    "collapsed": false
   },
   "outputs": [
    {
     "name": "stderr",
     "output_type": "stream",
     "text": [
      "/Users/Patrick/anaconda/lib/python3.5/site-packages/ipykernel/__main__.py:5: UserWarning: The `input_dim` and `input_length` arguments in recurrent layers are deprecated. Use `input_shape` instead.\n",
      "/Users/Patrick/anaconda/lib/python3.5/site-packages/ipykernel/__main__.py:5: UserWarning: Update your `LSTM` call to the Keras 2 API: `LSTM(150, return_sequences=True, input_shape=(None, 2))`\n"
     ]
    }
   ],
   "source": [
    "# define the LSTM NN model\n",
    "\n",
    "def nn_baseline_model():\n",
    "    model = Sequential()\n",
    "    model.add(LSTM(150,return_sequences=True, input_dim=2))\n",
    "    model.add(Dropout(0.3))\n",
    "    model.add(Dense(512, kernel_initializer='normal', activation='relu'))\n",
    "    model.add(Dropout(0.3))\n",
    "    model.add(Dense(512, kernel_initializer='normal', activation='relu'))\n",
    "    model.add(Dropout(0.3))\n",
    "    model.add(Dense(100, kernel_initializer='normal', activation='relu'))\n",
    "    model.add(Dense(9, kernel_initializer='normal', activation=\"softmax\"))\n",
    "    \n",
    "    #sgd = SGD(lr=0.01, decay=1e-6, momentum=0.9, nesterov=True)  \n",
    "    model.compile(loss='categorical_crossentropy', optimizer='adam', metrics=['accuracy'])\n",
    "    return model\n",
    "\n",
    "nn_model = nn_baseline_model()"
   ]
  },
  {
   "cell_type": "code",
   "execution_count": 102,
   "metadata": {
    "collapsed": true
   },
   "outputs": [],
   "source": [
    "# combine the Gene/Variation SVD columns with the Doc2Vec DBOW SG columns\n",
    "train_vecs_dbow_sg = np.vstack(train_vecs_dbow_sg)\n",
    "train_nn_svd_dbow_sg=np.hstack((X_train,train_vecs_dbow_sg))\n",
    "\n",
    "test_vecs_dbow_sg = np.vstack(test_vecs_dbow_sg)\n",
    "test_nn_svd_dbow_sg=np.hstack((X_test,test_vecs_dbow_sg))\n",
    "\n",
    "new_vecs_dbow_sg = np.vstack(new_vecs_dbow_sg)\n",
    "new_nn_svd_dbow_sg=np.hstack((test_svd,new_vecs_dbow_sg))"
   ]
  },
  {
   "cell_type": "code",
   "execution_count": 76,
   "metadata": {
    "collapsed": false
   },
   "outputs": [
    {
     "data": {
      "text/plain": [
       "array(['gene_0', 'gene_1', 'gene_2', 'gene_3', 'gene_4', 'gene_5',\n",
       "       'gene_6', 'gene_7', 'gene_8', 'gene_9', 'gene_10', 'gene_11',\n",
       "       'gene_12', 'gene_13', 'gene_14', 'gene_15', 'gene_16', 'gene_17',\n",
       "       'gene_18', 'gene_19', 'gene_20', 'gene_21', 'gene_22', 'gene_23',\n",
       "       'gene_24', 'variation_0', 'variation_1', 'variation_2',\n",
       "       'variation_3', 'variation_4', 'variation_5', 'variation_6',\n",
       "       'variation_7', 'variation_8', 'variation_9', 'variation_10',\n",
       "       'variation_11', 'variation_12', 'variation_13', 'variation_14',\n",
       "       'variation_15', 'variation_16', 'variation_17', 'variation_18',\n",
       "       'variation_19', 'variation_20', 'variation_21', 'variation_22',\n",
       "       'variation_23', 'variation_24', 'Elec_Diff', 'Hydro_Diff',\n",
       "       'Orig_Amino_0', 'Orig_Amino_A', 'Orig_Amino_C', 'Orig_Amino_D',\n",
       "       'Orig_Amino_E', 'Orig_Amino_F', 'Orig_Amino_G', 'Orig_Amino_H',\n",
       "       'Orig_Amino_I', 'Orig_Amino_K', 'Orig_Amino_L', 'Orig_Amino_M',\n",
       "       'Orig_Amino_N', 'Orig_Amino_P', 'Orig_Amino_Q', 'Orig_Amino_R',\n",
       "       'Orig_Amino_S', 'Orig_Amino_T', 'Orig_Amino_V', 'Orig_Amino_W',\n",
       "       'Orig_Amino_Y', 'Mut_Amino_0', 'Mut_Amino_A', 'Mut_Amino_C',\n",
       "       'Mut_Amino_D', 'Mut_Amino_E', 'Mut_Amino_F', 'Mut_Amino_G',\n",
       "       'Mut_Amino_H', 'Mut_Amino_I', 'Mut_Amino_K', 'Mut_Amino_L',\n",
       "       'Mut_Amino_M', 'Mut_Amino_N', 'Mut_Amino_P', 'Mut_Amino_Q',\n",
       "       'Mut_Amino_R', 'Mut_Amino_S', 'Mut_Amino_T', 'Mut_Amino_V',\n",
       "       'Mut_Amino_W', 'Mut_Amino_Y', 'ID'], dtype=object)"
      ]
     },
     "execution_count": 76,
     "metadata": {},
     "output_type": "execute_result"
    }
   ],
   "source": [
    "X_train.columns.values"
   ]
  },
  {
   "cell_type": "code",
   "execution_count": 259,
   "metadata": {
    "collapsed": false
   },
   "outputs": [
    {
     "ename": "NameError",
     "evalue": "name 'new_vecs_dm' is not defined",
     "output_type": "error",
     "traceback": [
      "\u001b[0;31m---------------------------------------------------------------------------\u001b[0m",
      "\u001b[0;31mNameError\u001b[0m                                 Traceback (most recent call last)",
      "\u001b[0;32m<ipython-input-259-3287ee134f1f>\u001b[0m in \u001b[0;36m<module>\u001b[0;34m()\u001b[0m\n\u001b[1;32m      6\u001b[0m \u001b[0mtest_nn_svd_vecs_dm\u001b[0m\u001b[0;34m=\u001b[0m\u001b[0mnp\u001b[0m\u001b[0;34m.\u001b[0m\u001b[0mhstack\u001b[0m\u001b[0;34m(\u001b[0m\u001b[0;34m(\u001b[0m\u001b[0mX_test\u001b[0m\u001b[0;34m,\u001b[0m\u001b[0mtest_vecs_dm\u001b[0m\u001b[0;34m)\u001b[0m\u001b[0;34m)\u001b[0m\u001b[0;34m\u001b[0m\u001b[0m\n\u001b[1;32m      7\u001b[0m \u001b[0;34m\u001b[0m\u001b[0m\n\u001b[0;32m----> 8\u001b[0;31m \u001b[0mnew_vecs_dm\u001b[0m \u001b[0;34m=\u001b[0m \u001b[0mnp\u001b[0m\u001b[0;34m.\u001b[0m\u001b[0mvstack\u001b[0m\u001b[0;34m(\u001b[0m\u001b[0mnew_vecs_dm\u001b[0m\u001b[0;34m)\u001b[0m\u001b[0;34m\u001b[0m\u001b[0m\n\u001b[0m\u001b[1;32m      9\u001b[0m \u001b[0mnew_nn_svd_vecs_dm\u001b[0m\u001b[0;34m=\u001b[0m\u001b[0mnp\u001b[0m\u001b[0;34m.\u001b[0m\u001b[0mhstack\u001b[0m\u001b[0;34m(\u001b[0m\u001b[0;34m(\u001b[0m\u001b[0mtest_svd\u001b[0m\u001b[0;34m,\u001b[0m\u001b[0mnew_vecs_dm\u001b[0m\u001b[0;34m)\u001b[0m\u001b[0;34m)\u001b[0m\u001b[0;34m\u001b[0m\u001b[0m\n\u001b[1;32m     10\u001b[0m \u001b[0;34m\u001b[0m\u001b[0m\n",
      "\u001b[0;31mNameError\u001b[0m: name 'new_vecs_dm' is not defined"
     ]
    }
   ],
   "source": [
    "# combine the Gene/Variation SVD columns with the Doc2Vec DBOW SG columns\n",
    "train_vecs_dm = np.vstack(train_vecs_dm)\n",
    "train_nn_svd_vecs_dm=np.hstack((X_train,train_vecs_dm))\n",
    "\n",
    "test_vecs_dm = np.vstack(test_vecs_dm)\n",
    "test_nn_svd_vecs_dm=np.hstack((X_test,test_vecs_dm))\n",
    "\n",
    "new_vecs_dm = np.vstack(new_vecs_dm)\n",
    "new_nn_svd_vecs_dm=np.hstack((test_svd,new_vecs_dm))\n",
    "\n",
    "\n",
    "\n"
   ]
  },
  {
   "cell_type": "code",
   "execution_count": 249,
   "metadata": {
    "collapsed": false
   },
   "outputs": [
    {
     "data": {
      "text/plain": [
       "array([ 0.,  0.,  0.,  0.,  0.,  0.,  1.,  0.,  0.])"
      ]
     },
     "execution_count": 249,
     "metadata": {},
     "output_type": "execute_result"
    }
   ],
   "source": [
    "y_train_encoded[10]"
   ]
  },
  {
   "cell_type": "code",
   "execution_count": 129,
   "metadata": {
    "collapsed": false,
    "scrolled": false
   },
   "outputs": [
    {
     "ename": "TypeError",
     "evalue": "Unrecognized keyword arguments: {'pickle_safe': True}",
     "output_type": "error",
     "traceback": [
      "\u001b[0;31m---------------------------------------------------------------------------\u001b[0m",
      "\u001b[0;31mTypeError\u001b[0m                                 Traceback (most recent call last)",
      "\u001b[0;32m<ipython-input-129-1247579658ef>\u001b[0m in \u001b[0;36m<module>\u001b[0;34m()\u001b[0m\n\u001b[1;32m      1\u001b[0m \u001b[0;31m# fit the Neural network\u001b[0m\u001b[0;34m\u001b[0m\u001b[0;34m\u001b[0m\u001b[0m\n\u001b[1;32m      2\u001b[0m \u001b[0;34m\u001b[0m\u001b[0m\n\u001b[0;32m----> 3\u001b[0;31m \u001b[0mnn_estimator\u001b[0m\u001b[0;34m=\u001b[0m\u001b[0mnn_model\u001b[0m\u001b[0;34m.\u001b[0m\u001b[0mfit\u001b[0m\u001b[0;34m(\u001b[0m\u001b[0mtrain_nn_svd_dbow_sg\u001b[0m\u001b[0;34m,\u001b[0m \u001b[0my_train_encoded\u001b[0m\u001b[0;34m,\u001b[0m \u001b[0mclass_weight\u001b[0m\u001b[0;34m=\u001b[0m\u001b[0;34m'balanced'\u001b[0m\u001b[0;34m,\u001b[0m \u001b[0mvalidation_split\u001b[0m\u001b[0;34m=\u001b[0m\u001b[0;36m0.2\u001b[0m\u001b[0;34m,\u001b[0m \u001b[0mepochs\u001b[0m\u001b[0;34m=\u001b[0m\u001b[0;36m10\u001b[0m\u001b[0;34m,\u001b[0m \u001b[0mbatch_size\u001b[0m\u001b[0;34m=\u001b[0m\u001b[0;36m64\u001b[0m\u001b[0;34m,\u001b[0m \u001b[0mpickle_safe\u001b[0m\u001b[0;34m=\u001b[0m\u001b[0;32mTrue\u001b[0m\u001b[0;34m)\u001b[0m\u001b[0;34m\u001b[0m\u001b[0m\n\u001b[0m",
      "\u001b[0;32m~/anaconda/lib/python3.5/site-packages/keras/models.py\u001b[0m in \u001b[0;36mfit\u001b[0;34m(self, x, y, batch_size, epochs, verbose, callbacks, validation_split, validation_data, shuffle, class_weight, sample_weight, initial_epoch, **kwargs)\u001b[0m\n\u001b[1;32m    850\u001b[0m             \u001b[0mepochs\u001b[0m \u001b[0;34m=\u001b[0m \u001b[0mkwargs\u001b[0m\u001b[0;34m.\u001b[0m\u001b[0mpop\u001b[0m\u001b[0;34m(\u001b[0m\u001b[0;34m'nb_epoch'\u001b[0m\u001b[0;34m)\u001b[0m\u001b[0;34m\u001b[0m\u001b[0m\n\u001b[1;32m    851\u001b[0m         \u001b[0;32mif\u001b[0m \u001b[0mkwargs\u001b[0m\u001b[0;34m:\u001b[0m\u001b[0;34m\u001b[0m\u001b[0m\n\u001b[0;32m--> 852\u001b[0;31m             \u001b[0;32mraise\u001b[0m \u001b[0mTypeError\u001b[0m\u001b[0;34m(\u001b[0m\u001b[0;34m'Unrecognized keyword arguments: '\u001b[0m \u001b[0;34m+\u001b[0m \u001b[0mstr\u001b[0m\u001b[0;34m(\u001b[0m\u001b[0mkwargs\u001b[0m\u001b[0;34m)\u001b[0m\u001b[0;34m)\u001b[0m\u001b[0;34m\u001b[0m\u001b[0m\n\u001b[0m\u001b[1;32m    853\u001b[0m \u001b[0;34m\u001b[0m\u001b[0m\n\u001b[1;32m    854\u001b[0m         \u001b[0;32mif\u001b[0m \u001b[0;32mnot\u001b[0m \u001b[0mself\u001b[0m\u001b[0;34m.\u001b[0m\u001b[0mbuilt\u001b[0m\u001b[0;34m:\u001b[0m\u001b[0;34m\u001b[0m\u001b[0m\n",
      "\u001b[0;31mTypeError\u001b[0m: Unrecognized keyword arguments: {'pickle_safe': True}"
     ]
    }
   ],
   "source": [
    "# fit the Neural network\n",
    "\n",
    "nn_estimator=nn_model.fit(train_nn_svd_dbow_sg, y_train_encoded, class_weight='balanced', validation_split=0.2, epochs=10, batch_size=64)"
   ]
  },
  {
   "cell_type": "code",
   "execution_count": 107,
   "metadata": {
    "collapsed": false
   },
   "outputs": [
    {
     "name": "stdout",
     "output_type": "stream",
     "text": [
      "Training accuracy: 83.80% / Validation accuracy: 61.84%\n"
     ]
    }
   ],
   "source": [
    "# train/test accuracy of model\n",
    "\n",
    "print(\"Training accuracy: %.2f%% / Validation accuracy: %.2f%%\" % \\\n",
    "      (100*nn_estimator.history['acc'][-1], 100*nn_estimator.history['val_acc'][-1]))"
   ]
  },
  {
   "cell_type": "code",
   "execution_count": 119,
   "metadata": {
    "collapsed": false
   },
   "outputs": [
    {
     "ename": "ImportError",
     "evalue": "Failed to import pydot. You must install pydot and graphviz for `pydotprint` to work.",
     "output_type": "error",
     "traceback": [
      "\u001b[0;31m---------------------------------------------------------------------------\u001b[0m",
      "\u001b[0;31mAttributeError\u001b[0m                            Traceback (most recent call last)",
      "\u001b[0;32m~/anaconda/lib/python3.5/site-packages/keras/utils/vis_utils.py\u001b[0m in \u001b[0;36m_check_pydot\u001b[0;34m()\u001b[0m\n\u001b[1;32m     22\u001b[0m         \u001b[0;31m# to check the pydot/graphviz installation.\u001b[0m\u001b[0;34m\u001b[0m\u001b[0;34m\u001b[0m\u001b[0m\n\u001b[0;32m---> 23\u001b[0;31m         \u001b[0mpydot\u001b[0m\u001b[0;34m.\u001b[0m\u001b[0mDot\u001b[0m\u001b[0;34m.\u001b[0m\u001b[0mcreate\u001b[0m\u001b[0;34m(\u001b[0m\u001b[0mpydot\u001b[0m\u001b[0;34m.\u001b[0m\u001b[0mDot\u001b[0m\u001b[0;34m(\u001b[0m\u001b[0;34m)\u001b[0m\u001b[0;34m)\u001b[0m\u001b[0;34m\u001b[0m\u001b[0m\n\u001b[0m\u001b[1;32m     24\u001b[0m     \u001b[0;32mexcept\u001b[0m \u001b[0mException\u001b[0m\u001b[0;34m:\u001b[0m\u001b[0;34m\u001b[0m\u001b[0m\n",
      "\u001b[0;31mAttributeError\u001b[0m: 'NoneType' object has no attribute 'Dot'",
      "\nDuring handling of the above exception, another exception occurred:\n",
      "\u001b[0;31mImportError\u001b[0m                               Traceback (most recent call last)",
      "\u001b[0;32m<ipython-input-119-70a4ec378f0b>\u001b[0m in \u001b[0;36m<module>\u001b[0;34m()\u001b[0m\n\u001b[1;32m      2\u001b[0m \u001b[0;32mfrom\u001b[0m \u001b[0mkeras\u001b[0m\u001b[0;34m.\u001b[0m\u001b[0mutils\u001b[0m\u001b[0;34m.\u001b[0m\u001b[0mvis_utils\u001b[0m \u001b[0;32mimport\u001b[0m \u001b[0mmodel_to_dot\u001b[0m\u001b[0;34m\u001b[0m\u001b[0m\n\u001b[1;32m      3\u001b[0m \u001b[0;34m\u001b[0m\u001b[0m\n\u001b[0;32m----> 4\u001b[0;31m \u001b[0mfigure\u001b[0m \u001b[0;34m=\u001b[0m \u001b[0mSVG\u001b[0m\u001b[0;34m(\u001b[0m\u001b[0mmodel_to_dot\u001b[0m\u001b[0;34m(\u001b[0m\u001b[0mnn_estimator\u001b[0m\u001b[0;34m,\u001b[0m \u001b[0mshow_shapes\u001b[0m\u001b[0;34m=\u001b[0m\u001b[0;32mTrue\u001b[0m\u001b[0;34m)\u001b[0m\u001b[0;34m.\u001b[0m\u001b[0mcreate\u001b[0m\u001b[0;34m(\u001b[0m\u001b[0mprog\u001b[0m\u001b[0;34m=\u001b[0m\u001b[0;34m'dot'\u001b[0m\u001b[0;34m,\u001b[0m \u001b[0mformat\u001b[0m\u001b[0;34m=\u001b[0m\u001b[0;34m'svg'\u001b[0m\u001b[0;34m)\u001b[0m\u001b[0;34m)\u001b[0m\u001b[0;34m\u001b[0m\u001b[0m\n\u001b[0m\u001b[1;32m      5\u001b[0m \u001b[0mdisplay\u001b[0m\u001b[0;34m(\u001b[0m\u001b[0mfigure\u001b[0m\u001b[0;34m)\u001b[0m\u001b[0;34m\u001b[0m\u001b[0m\n",
      "\u001b[0;32m~/anaconda/lib/python3.5/site-packages/keras/utils/vis_utils.py\u001b[0m in \u001b[0;36mmodel_to_dot\u001b[0;34m(model, show_shapes, show_layer_names, rankdir)\u001b[0m\n\u001b[1;32m     50\u001b[0m     \u001b[0;32mfrom\u001b[0m \u001b[0;34m.\u001b[0m\u001b[0;34m.\u001b[0m\u001b[0mmodels\u001b[0m \u001b[0;32mimport\u001b[0m \u001b[0mSequential\u001b[0m\u001b[0;34m\u001b[0m\u001b[0m\n\u001b[1;32m     51\u001b[0m \u001b[0;34m\u001b[0m\u001b[0m\n\u001b[0;32m---> 52\u001b[0;31m     \u001b[0m_check_pydot\u001b[0m\u001b[0;34m(\u001b[0m\u001b[0;34m)\u001b[0m\u001b[0;34m\u001b[0m\u001b[0m\n\u001b[0m\u001b[1;32m     53\u001b[0m     \u001b[0mdot\u001b[0m \u001b[0;34m=\u001b[0m \u001b[0mpydot\u001b[0m\u001b[0;34m.\u001b[0m\u001b[0mDot\u001b[0m\u001b[0;34m(\u001b[0m\u001b[0;34m)\u001b[0m\u001b[0;34m\u001b[0m\u001b[0m\n\u001b[1;32m     54\u001b[0m     \u001b[0mdot\u001b[0m\u001b[0;34m.\u001b[0m\u001b[0mset\u001b[0m\u001b[0;34m(\u001b[0m\u001b[0;34m'rankdir'\u001b[0m\u001b[0;34m,\u001b[0m \u001b[0mrankdir\u001b[0m\u001b[0;34m)\u001b[0m\u001b[0;34m\u001b[0m\u001b[0m\n",
      "\u001b[0;32m~/anaconda/lib/python3.5/site-packages/keras/utils/vis_utils.py\u001b[0m in \u001b[0;36m_check_pydot\u001b[0;34m()\u001b[0m\n\u001b[1;32m     25\u001b[0m         \u001b[0;31m# pydot raises a generic Exception here,\u001b[0m\u001b[0;34m\u001b[0m\u001b[0;34m\u001b[0m\u001b[0m\n\u001b[1;32m     26\u001b[0m         \u001b[0;31m# so no specific class can be caught.\u001b[0m\u001b[0;34m\u001b[0m\u001b[0;34m\u001b[0m\u001b[0m\n\u001b[0;32m---> 27\u001b[0;31m         raise ImportError('Failed to import pydot. You must install pydot'\n\u001b[0m\u001b[1;32m     28\u001b[0m                           ' and graphviz for `pydotprint` to work.')\n\u001b[1;32m     29\u001b[0m \u001b[0;34m\u001b[0m\u001b[0m\n",
      "\u001b[0;31mImportError\u001b[0m: Failed to import pydot. You must install pydot and graphviz for `pydotprint` to work."
     ]
    }
   ],
   "source": [
    "from IPython.display import Image, display, SVG\n",
    "from keras.utils.vis_utils import model_to_dot\n",
    "\n",
    "figure = SVG(model_to_dot(nn_estimator, show_shapes=True).create(prog='dot', format='svg'))\n",
    "display(figure)\n"
   ]
  },
  {
   "cell_type": "code",
   "execution_count": 1,
   "metadata": {
    "collapsed": false
   },
   "outputs": [
    {
     "name": "stderr",
     "output_type": "stream",
     "text": [
      "Using TensorFlow backend.\n"
     ]
    }
   ],
   "source": [
    "from keras.models import load_model\n",
    "\n",
    "# nn_model.save('nn_model.h5')  # creates a HDF5 file 'my_model.h5'\n",
    "\n",
    "# returns a compiled model\n",
    "# identical to the previous one\n",
    "nn_model = load_model('nn_model.h5')"
   ]
  },
  {
   "cell_type": "code",
   "execution_count": 2,
   "metadata": {
    "collapsed": false
   },
   "outputs": [],
   "source": [
    "import pydot\n",
    "import graphviz\n",
    "from keras.utils import plot_model\n",
    "plot_model(nn_model, to_file='nn_model.png')"
   ]
  },
  {
   "cell_type": "code",
   "execution_count": 111,
   "metadata": {
    "collapsed": false
   },
   "outputs": [
    {
     "ename": "ImportError",
     "evalue": "Failed to import pydot. You must install pydot and graphviz for `pydotprint` to work.",
     "output_type": "error",
     "traceback": [
      "\u001b[0;31m---------------------------------------------------------------------------\u001b[0m",
      "\u001b[0;31mAttributeError\u001b[0m                            Traceback (most recent call last)",
      "\u001b[0;32m~/anaconda/lib/python3.5/site-packages/keras/utils/vis_utils.py\u001b[0m in \u001b[0;36m_check_pydot\u001b[0;34m()\u001b[0m\n\u001b[1;32m     22\u001b[0m         \u001b[0;31m# to check the pydot/graphviz installation.\u001b[0m\u001b[0;34m\u001b[0m\u001b[0;34m\u001b[0m\u001b[0m\n\u001b[0;32m---> 23\u001b[0;31m         \u001b[0mpydot\u001b[0m\u001b[0;34m.\u001b[0m\u001b[0mDot\u001b[0m\u001b[0;34m.\u001b[0m\u001b[0mcreate\u001b[0m\u001b[0;34m(\u001b[0m\u001b[0mpydot\u001b[0m\u001b[0;34m.\u001b[0m\u001b[0mDot\u001b[0m\u001b[0;34m(\u001b[0m\u001b[0;34m)\u001b[0m\u001b[0;34m)\u001b[0m\u001b[0;34m\u001b[0m\u001b[0m\n\u001b[0m\u001b[1;32m     24\u001b[0m     \u001b[0;32mexcept\u001b[0m \u001b[0mException\u001b[0m\u001b[0;34m:\u001b[0m\u001b[0;34m\u001b[0m\u001b[0m\n",
      "\u001b[0;31mAttributeError\u001b[0m: 'NoneType' object has no attribute 'Dot'",
      "\nDuring handling of the above exception, another exception occurred:\n",
      "\u001b[0;31mImportError\u001b[0m                               Traceback (most recent call last)",
      "\u001b[0;32m<ipython-input-111-0be8768ae13a>\u001b[0m in \u001b[0;36m<module>\u001b[0;34m()\u001b[0m\n\u001b[1;32m      2\u001b[0m \u001b[0;32mfrom\u001b[0m \u001b[0mkeras\u001b[0m\u001b[0;34m.\u001b[0m\u001b[0mutils\u001b[0m\u001b[0;34m.\u001b[0m\u001b[0mvis_utils\u001b[0m \u001b[0;32mimport\u001b[0m \u001b[0mmodel_to_dot\u001b[0m\u001b[0;34m\u001b[0m\u001b[0m\n\u001b[1;32m      3\u001b[0m \u001b[0;34m\u001b[0m\u001b[0m\n\u001b[0;32m----> 4\u001b[0;31m \u001b[0mSVG\u001b[0m\u001b[0;34m(\u001b[0m\u001b[0mmodel_to_dot\u001b[0m\u001b[0;34m(\u001b[0m\u001b[0mnn_estimator\u001b[0m\u001b[0;34m)\u001b[0m\u001b[0;34m.\u001b[0m\u001b[0mcreate\u001b[0m\u001b[0;34m(\u001b[0m\u001b[0mprog\u001b[0m\u001b[0;34m=\u001b[0m\u001b[0;34m'dot'\u001b[0m\u001b[0;34m,\u001b[0m \u001b[0mformat\u001b[0m\u001b[0;34m=\u001b[0m\u001b[0;34m'svg'\u001b[0m\u001b[0;34m)\u001b[0m\u001b[0;34m)\u001b[0m\u001b[0;34m\u001b[0m\u001b[0m\n\u001b[0m",
      "\u001b[0;32m~/anaconda/lib/python3.5/site-packages/keras/utils/vis_utils.py\u001b[0m in \u001b[0;36mmodel_to_dot\u001b[0;34m(model, show_shapes, show_layer_names, rankdir)\u001b[0m\n\u001b[1;32m     50\u001b[0m     \u001b[0;32mfrom\u001b[0m \u001b[0;34m.\u001b[0m\u001b[0;34m.\u001b[0m\u001b[0mmodels\u001b[0m \u001b[0;32mimport\u001b[0m \u001b[0mSequential\u001b[0m\u001b[0;34m\u001b[0m\u001b[0m\n\u001b[1;32m     51\u001b[0m \u001b[0;34m\u001b[0m\u001b[0m\n\u001b[0;32m---> 52\u001b[0;31m     \u001b[0m_check_pydot\u001b[0m\u001b[0;34m(\u001b[0m\u001b[0;34m)\u001b[0m\u001b[0;34m\u001b[0m\u001b[0m\n\u001b[0m\u001b[1;32m     53\u001b[0m     \u001b[0mdot\u001b[0m \u001b[0;34m=\u001b[0m \u001b[0mpydot\u001b[0m\u001b[0;34m.\u001b[0m\u001b[0mDot\u001b[0m\u001b[0;34m(\u001b[0m\u001b[0;34m)\u001b[0m\u001b[0;34m\u001b[0m\u001b[0m\n\u001b[1;32m     54\u001b[0m     \u001b[0mdot\u001b[0m\u001b[0;34m.\u001b[0m\u001b[0mset\u001b[0m\u001b[0;34m(\u001b[0m\u001b[0;34m'rankdir'\u001b[0m\u001b[0;34m,\u001b[0m \u001b[0mrankdir\u001b[0m\u001b[0;34m)\u001b[0m\u001b[0;34m\u001b[0m\u001b[0m\n",
      "\u001b[0;32m~/anaconda/lib/python3.5/site-packages/keras/utils/vis_utils.py\u001b[0m in \u001b[0;36m_check_pydot\u001b[0;34m()\u001b[0m\n\u001b[1;32m     25\u001b[0m         \u001b[0;31m# pydot raises a generic Exception here,\u001b[0m\u001b[0;34m\u001b[0m\u001b[0;34m\u001b[0m\u001b[0m\n\u001b[1;32m     26\u001b[0m         \u001b[0;31m# so no specific class can be caught.\u001b[0m\u001b[0;34m\u001b[0m\u001b[0;34m\u001b[0m\u001b[0m\n\u001b[0;32m---> 27\u001b[0;31m         raise ImportError('Failed to import pydot. You must install pydot'\n\u001b[0m\u001b[1;32m     28\u001b[0m                           ' and graphviz for `pydotprint` to work.')\n\u001b[1;32m     29\u001b[0m \u001b[0;34m\u001b[0m\u001b[0m\n",
      "\u001b[0;31mImportError\u001b[0m: Failed to import pydot. You must install pydot and graphviz for `pydotprint` to work."
     ]
    }
   ],
   "source": [
    "from IPython.display import SVG\n",
    "from keras.utils.vis_utils import model_to_dot\n",
    "\n",
    "SVG(model_to_dot(nn_estimator).create(prog='dot', format='svg'))"
   ]
  },
  {
   "cell_type": "code",
   "execution_count": 286,
   "metadata": {
    "collapsed": false
   },
   "outputs": [],
   "source": [
    "# predict proba\n",
    "\n",
    "y_pred = nn_model.predict(test_nn_svd_dbow_sg)"
   ]
  },
  {
   "cell_type": "code",
   "execution_count": 108,
   "metadata": {
    "collapsed": true
   },
   "outputs": [],
   "source": [
    "y_pred_new_nn = nn_model.predict(new_nn_svd_dbow_sg)"
   ]
  },
  {
   "cell_type": "code",
   "execution_count": 289,
   "metadata": {
    "collapsed": false
   },
   "outputs": [
    {
     "data": {
      "text/plain": [
       "array([[  5.27033582e-03,   4.04403269e-01,   7.39681127e-04, ...,\n",
       "          5.50934255e-01,   1.16070397e-02,   8.23172799e-04],\n",
       "       [  2.30512135e-02,   2.46885786e-04,   4.30920487e-03, ...,\n",
       "          4.83056065e-04,   6.65194166e-05,   5.46176743e-04],\n",
       "       [  3.69262286e-02,   6.77199336e-03,   9.62832570e-02, ...,\n",
       "          6.88596815e-02,   1.37716136e-03,   2.22017616e-02],\n",
       "       ..., \n",
       "       [  4.04377024e-05,   9.84755099e-01,   4.74238078e-07, ...,\n",
       "          1.44647080e-02,   6.92876230e-04,   6.28796579e-06],\n",
       "       [  3.85499477e-01,   2.38553509e-02,   2.26214789e-02, ...,\n",
       "          1.43354595e-01,   1.91575494e-02,   1.30309597e-01],\n",
       "       [  3.89691710e-01,   6.93865269e-02,   4.40288009e-03, ...,\n",
       "          1.24334069e-02,   3.95144857e-02,   2.12104176e-03]], dtype=float32)"
      ]
     },
     "execution_count": 289,
     "metadata": {},
     "output_type": "execute_result"
    }
   ],
   "source": [
    "y_pred_new_nn"
   ]
  },
  {
   "cell_type": "code",
   "execution_count": 290,
   "metadata": {
    "collapsed": true
   },
   "outputs": [],
   "source": [
    "new_index = test_master['ID'].values\n",
    "\n",
    "submission = pd.DataFrame(y_pred_new_nn)\n",
    "submission['id'] = new_index\n",
    "submission.columns = ['class1', 'class2', 'class3', 'class4', 'class5', 'class6', 'class7', 'class8', 'class9', 'id']\n",
    "submission.to_csv(\"nn_svd_d2v_pmp.csv\",index=False)"
   ]
  },
  {
   "cell_type": "code",
   "execution_count": 568,
   "metadata": {
    "collapsed": false
   },
   "outputs": [
    {
     "name": "stdout",
     "output_type": "stream",
     "text": [
      "665/665 [==============================] - 47s    \n"
     ]
    }
   ],
   "source": [
    "test_3d = test_nn_svd_dbow_sg[: ,: , np.newaxis]\n",
    "\n",
    "y_nn_cats= nn_model.predict_classes(test_3d)"
   ]
  },
  {
   "cell_type": "code",
   "execution_count": 569,
   "metadata": {
    "collapsed": false
   },
   "outputs": [],
   "source": [
    "y_nn_cats = y_nn_cats+1"
   ]
  },
  {
   "cell_type": "code",
   "execution_count": 570,
   "metadata": {
    "collapsed": false
   },
   "outputs": [
    {
     "data": {
      "text/plain": [
       "array([2, 1, 6, 1, 2, 5, 7, 1, 2, 7, 4, 7, 2, 5, 7, 2, 7, 7, 4, 4, 7, 7, 4,\n",
       "       1, 7, 7, 7, 1, 6, 3, 1, 7, 5, 6, 2, 1, 6, 1, 4, 1, 6, 6, 3, 7, 7, 4,\n",
       "       7, 7, 1, 7, 1, 7, 7, 7, 6, 7, 5, 7, 4, 4, 7, 3, 7, 1, 1, 4, 6, 4, 4,\n",
       "       7, 7, 6, 7, 5, 2, 7, 7, 7, 6, 4, 4, 7, 7, 9, 5, 7, 4, 7, 1, 6, 2, 4,\n",
       "       7, 4, 7, 7, 1, 6, 1, 5, 7, 1, 4, 7, 4, 7, 1, 2, 4, 6, 7, 1, 7, 1, 2,\n",
       "       1, 7, 1, 7, 4, 4, 4, 7, 5, 7, 7, 4, 1, 7, 4, 1, 7, 7, 5, 7, 1, 7, 7,\n",
       "       4, 4, 7, 1, 7, 7, 1, 4, 4, 7, 7, 2, 2, 1, 4, 2, 4, 2, 4, 7, 6, 7, 1,\n",
       "       7, 7, 7, 7, 1, 4, 4, 1, 7, 6, 6, 7, 7, 2, 6, 7, 7, 1, 7, 2, 4, 7, 4,\n",
       "       1, 4, 1, 1, 6, 7, 5, 6, 4, 1, 7, 5, 6, 4, 9, 1, 3, 7, 2, 4, 4, 2, 7,\n",
       "       7, 1, 1, 1, 2, 7, 4, 5, 7, 4, 7, 1, 2, 2, 4, 5, 3, 1, 7, 4, 1, 4, 7,\n",
       "       1, 1, 5, 7, 7, 1, 7, 7, 5, 4, 1, 2, 7, 2, 2, 5, 7, 2, 5, 7, 1, 1, 5,\n",
       "       7, 4, 7, 1, 1, 7, 3, 7, 7, 1, 1, 6, 7, 7, 7, 4, 6, 4, 7, 1, 1, 4, 2,\n",
       "       4, 6, 6, 7, 9, 1, 4, 2, 4, 4, 4, 7, 4, 7, 2, 4, 7, 4, 3, 5, 2, 4, 4,\n",
       "       4, 7, 1, 7, 7, 1, 4, 1, 2, 2, 1, 7, 7, 4, 5, 7, 7, 2, 7, 3, 7, 4, 4,\n",
       "       7, 1, 2, 7, 7, 7, 7, 4, 1, 7, 7, 7, 7, 4, 4, 4, 4, 7, 5, 7, 5, 7, 4,\n",
       "       7, 5, 7, 4, 7, 1, 7, 1, 7, 1, 6, 7, 2, 7, 2, 6, 4, 2, 7, 4, 7, 7, 4,\n",
       "       7, 1, 6, 2, 7, 4, 1, 1, 7, 2, 6, 1, 7, 7, 7, 1, 1, 2, 1, 7, 7, 5, 2,\n",
       "       1, 7, 1, 7, 7, 1, 2, 7, 7, 7, 4, 5, 7, 2, 2, 2, 1, 4, 2, 1, 7, 7, 7,\n",
       "       4, 5, 4, 7, 2, 7, 4, 1, 7, 7, 2, 5, 2, 7, 7, 1, 2, 1, 3, 2, 6, 6, 7,\n",
       "       2, 1, 7, 7, 6, 4, 4, 2, 6, 4, 2, 6, 7, 7, 4, 4, 6, 7, 4, 2, 7, 6, 2,\n",
       "       7, 7, 6, 7, 6, 4, 2, 7, 3, 7, 7, 5, 6, 5, 2, 7, 5, 7, 5, 7, 1, 1, 4,\n",
       "       7, 1, 4, 3, 7, 7, 4, 7, 1, 7, 7, 1, 4, 2, 1, 7, 1, 2, 3, 7, 1, 5, 4,\n",
       "       5, 6, 4, 1, 1, 4, 3, 4, 7, 3, 7, 4, 7, 1, 2, 7, 4, 2, 1, 1, 7, 7, 6,\n",
       "       7, 6, 5, 7, 7, 2, 4, 7, 1, 2, 2, 2, 7, 4, 1, 2, 7, 7, 7, 4, 7, 2, 1,\n",
       "       1, 7, 5, 1, 2, 7, 7, 7, 4, 7, 4, 1, 7, 4, 2, 4, 2, 7, 1, 2, 7, 6, 1,\n",
       "       5, 7, 1, 5, 1, 7, 4, 7, 2, 1, 1, 4, 1, 7, 1, 4, 2, 2, 2, 7, 1, 7, 7,\n",
       "       4, 1, 1, 7, 7, 5, 4, 6, 7, 4, 4, 7, 7, 4, 2, 4, 1, 6, 1, 6, 6, 7, 1,\n",
       "       7, 2, 7, 4, 6, 1, 7, 4, 7, 5, 7, 3, 3, 4, 1, 4, 2, 4, 6, 2, 1, 2, 2,\n",
       "       2, 1, 6, 5, 7, 2, 4, 4, 1, 7, 6, 4, 7, 4, 1, 7, 3, 4, 7, 7, 7])"
      ]
     },
     "execution_count": 570,
     "metadata": {},
     "output_type": "execute_result"
    }
   ],
   "source": [
    "y_nn_cats"
   ]
  },
  {
   "cell_type": "code",
   "execution_count": 571,
   "metadata": {
    "collapsed": false
   },
   "outputs": [
    {
     "data": {
      "text/plain": [
       "0.61052631578947369"
      ]
     },
     "execution_count": 571,
     "metadata": {},
     "output_type": "execute_result"
    }
   ],
   "source": [
    "np.mean(y_nn_cats == y_test)"
   ]
  },
  {
   "cell_type": "code",
   "execution_count": 572,
   "metadata": {
    "collapsed": false
   },
   "outputs": [
    {
     "data": {
      "image/png": "[encoded data removed]",
      "text/plain": [
       "<matplotlib.figure.Figure at 0x1c3ca7470>"
      ]
     },
     "metadata": {},
     "output_type": "display_data"
    },
    {
     "data": {
      "image/png": "[encoded data removed]",
      "text/plain": [
       "<matplotlib.figure.Figure at 0x1a31c9a58>"
      ]
     },
     "metadata": {},
     "output_type": "display_data"
    }
   ],
   "source": [
    "import matplotlib.pyplot as plt\n",
    "\n",
    "# summarize history for accuracy\n",
    "plt.plot(nn_estimator.history['acc'])\n",
    "plt.plot(nn_estimator.history['val_acc'])\n",
    "plt.title('model accuracy')\n",
    "plt.ylabel('accuracy')\n",
    "plt.xlabel('epoch')\n",
    "plt.legend(['train', 'valid'], loc='upper left')\n",
    "plt.show()\n",
    "\n",
    "# summarize history for loss\n",
    "plt.plot(nn_estimator.history['loss'])\n",
    "plt.plot(nn_estimator.history['val_loss'])\n",
    "plt.title('model loss')\n",
    "plt.ylabel('loss')\n",
    "plt.xlabel('epoch')\n",
    "plt.legend(['train', 'valid'], loc='upper left')\n",
    "plt.show()"
   ]
  },
  {
   "cell_type": "code",
   "execution_count": 36,
   "metadata": {
    "collapsed": true
   },
   "outputs": [],
   "source": [
    "import sklearn"
   ]
  },
  {
   "cell_type": "code",
   "execution_count": 573,
   "metadata": {
    "collapsed": false
   },
   "outputs": [
    {
     "name": "stdout",
     "output_type": "stream",
     "text": [
      "confusion_matrix:\n",
      " [[ 72   3   1  20  15   6   3   0   0]\n",
      " [  5  37   0   5   4   1  29   0   2]\n",
      " [  0   0  10   2   1   0   4   0   0]\n",
      " [ 15   2   3  92   8   1   3   0   0]\n",
      " [  8   5   0   4  12   4   6   0   1]\n",
      " [  6   2   1   3   5  32   1   0   0]\n",
      " [  8  47   4  13   5   1 148   1   1]\n",
      " [  0   0   0   0   0   0   0   0   0]\n",
      " [  0   0   0   0   0   0   0   0   3]]\n"
     ]
    }
   ],
   "source": [
    "#print('Accuracy score: ' + str(nn_model.score(test_vecs_dbow_sgnn, y_test)))\n",
    "\n",
    "print('confusion_matrix:\\n', sklearn.metrics.confusion_matrix(y_nn_cats,y_test))"
   ]
  },
  {
   "cell_type": "code",
   "execution_count": 218,
   "metadata": {
    "collapsed": true
   },
   "outputs": [],
   "source": [
    "train_nn_svd_dbow_sg = np.expand_dims(train_nn_svd_dbow_sg, axis=2)"
   ]
  },
  {
   "cell_type": "code",
   "execution_count": null,
   "metadata": {
    "collapsed": true
   },
   "outputs": [],
   "source": []
  },
  {
   "cell_type": "code",
   "execution_count": 562,
   "metadata": {
    "collapsed": false
   },
   "outputs": [
    {
     "data": {
      "text/plain": [
       "(2656, 450)"
      ]
     },
     "execution_count": 562,
     "metadata": {},
     "output_type": "execute_result"
    }
   ],
   "source": [
    "train_nn_svd_dbow_sg.shape"
   ]
  },
  {
   "cell_type": "code",
   "execution_count": 251,
   "metadata": {
    "collapsed": false
   },
   "outputs": [],
   "source": [
    "## CNN\n",
    "from keras.models import Sequential\n",
    "from keras.layers import Dense, Dropout, Conv1D, MaxPooling1D, Flatten\n",
    "\n",
    "def baseline_model():\n",
    "    model = Sequential()\n",
    "    model.add(Conv1D(256, name=\"conv1\", kernel_size = 4, strides = 1, input_shape = (450,1), activation='relu'))\n",
    "    model.add(MaxPooling1D(pool_size = 2, strides = 2))\n",
    "    model.add(Conv1D(256, 4, activation='relu', name=\"conv2\"))\n",
    "    model.add(MaxPooling1D(pool_size = 2))\n",
    "    model.add(Dense(512, kernel_initializer='normal', name=\"dense1\"))\n",
    "    model.add(Dropout(0.5))\n",
    "    model.add(Dense(512, kernel_initializer='normal', name=\"dense2\"))\n",
    "    model.add(Dropout(0.3))\n",
    "    model.add(Dense(512, kernel_initializer='normal', name=\"dense3\"))\n",
    "    model.add(Dropout(0.2))\n",
    "    model.add(Dense(128, kernel_initializer='normal', name=\"dense4\"))\n",
    "    model.add(Dense(9, kernel_initializer='normal', name=\"dense5\"))\n",
    "#     model.add(Flatten())\n",
    "    model.compile(loss='categorical_crossentropy', optimizer='adam', metrics=['accuracy'])\n",
    "    return model\n",
    "\n",
    "nn_model = baseline_model()\n",
    "\n"
   ]
  },
  {
   "cell_type": "code",
   "execution_count": 565,
   "metadata": {
    "collapsed": true
   },
   "outputs": [],
   "source": [
    "train_3d = train_nn_svd_dbow_sg[: ,: , np.newaxis]\n",
    "\n",
    "from keras.models import Sequential\n",
    "from keras.layers import Dense, Dropout, Conv2D, MaxPooling1D, Flatten\n",
    "\n",
    "def baseline_model():\n",
    "    model = Sequential()\n",
    "    model.add(Conv1D(256, kernel_size = 4, activation = 'relu', input_shape = (450,1)))\n",
    "    model.add(MaxPooling1D(pool_size=2, strides=1))\n",
    "    model.add(Conv1D(256, kernel_size = 4, activation = 'relu'))\n",
    "    model.add(MaxPooling1D(pool_size=2, strides=1))\n",
    "    model.add(Dense(512, kernel_initializer='normal', activation='relu'))\n",
    "    model.add(Dropout(0.6))\n",
    "    model.add(Dense(512, kernel_initializer='normal', activation='relu'))\n",
    "    model.add(Dropout(0.5))\n",
    "    model.add(Dense(512, kernel_initializer='normal', activation='relu'))\n",
    "    model.add(Dropout(0.3))\n",
    "    model.add(Dense(512, kernel_initializer='normal', activation='relu'))\n",
    "    model.add(Dropout(0.2))\n",
    "    model.add(Dense(128, kernel_initializer='normal', activation='relu'))\n",
    "    model.add(Flatten())\n",
    "    model.add(Dense(9, kernel_initializer='normal', activation=\"softmax\"))\n",
    "\n",
    "    model.compile(loss='categorical_crossentropy', optimizer='adam', metrics=['accuracy'])\n",
    "    return model\n",
    "\n",
    "nn_model = baseline_model()\n",
    "\n"
   ]
  },
  {
   "cell_type": "code",
   "execution_count": 566,
   "metadata": {
    "collapsed": false
   },
   "outputs": [
    {
     "name": "stdout",
     "output_type": "stream",
     "text": [
      "Train on 2124 samples, validate on 532 samples\n",
      "Epoch 1/10\n",
      "2124/2124 [==============================] - 450s - loss: 1.8989 - acc: 0.2462 - val_loss: 1.8509 - val_acc: 0.3534\n",
      "Epoch 2/10\n",
      "2124/2124 [==============================] - 414s - loss: 1.8188 - acc: 0.3004 - val_loss: 1.8286 - val_acc: 0.4699\n",
      "Epoch 3/10\n",
      "2124/2124 [==============================] - 429s - loss: 1.5019 - acc: 0.4812 - val_loss: 1.3774 - val_acc: 0.5414\n",
      "Epoch 4/10\n",
      "2124/2124 [==============================] - 498s - loss: 1.1394 - acc: 0.5998 - val_loss: 1.2733 - val_acc: 0.5977\n",
      "Epoch 5/10\n",
      "2124/2124 [==============================] - 424s - loss: 0.9726 - acc: 0.6563 - val_loss: 1.2148 - val_acc: 0.5921\n",
      "Epoch 6/10\n",
      "2124/2124 [==============================] - 431s - loss: 0.8611 - acc: 0.7034 - val_loss: 1.2126 - val_acc: 0.6222\n",
      "Epoch 7/10\n",
      "2124/2124 [==============================] - 433s - loss: 0.7682 - acc: 0.7185 - val_loss: 1.2400 - val_acc: 0.5940\n",
      "Epoch 8/10\n",
      "2124/2124 [==============================] - 469s - loss: 0.7210 - acc: 0.7265 - val_loss: 1.2245 - val_acc: 0.5996\n",
      "Epoch 9/10\n",
      "2124/2124 [==============================] - 517s - loss: 0.6795 - acc: 0.7528 - val_loss: 1.2915 - val_acc: 0.6109\n",
      "Epoch 10/10\n",
      "2124/2124 [==============================] - 535s - loss: 0.6330 - acc: 0.7665 - val_loss: 1.2476 - val_acc: 0.6015\n"
     ]
    }
   ],
   "source": [
    "estimator=nn_model.fit(train_3d, y_train_encoded, class_weight='balanced', validation_split=0.2, epochs=10, batch_size=64)"
   ]
  },
  {
   "cell_type": "code",
   "execution_count": 254,
   "metadata": {
    "collapsed": false
   },
   "outputs": [
    {
     "ename": "ValueError",
     "evalue": "Error when checking target: expected dense5 to have 3 dimensions, but got array with shape (2656, 9)",
     "output_type": "error",
     "traceback": [
      "\u001b[0;31m---------------------------------------------------------------------------\u001b[0m",
      "\u001b[0;31mValueError\u001b[0m                                Traceback (most recent call last)",
      "\u001b[0;32m<ipython-input-254-cb2a589f23a8>\u001b[0m in \u001b[0;36m<module>\u001b[0;34m()\u001b[0m\n\u001b[1;32m      1\u001b[0m \u001b[0;32mfrom\u001b[0m \u001b[0mkeras\u001b[0m\u001b[0;34m.\u001b[0m\u001b[0mwrappers\u001b[0m\u001b[0;34m.\u001b[0m\u001b[0mscikit_learn\u001b[0m \u001b[0;32mimport\u001b[0m \u001b[0mKerasClassifier\u001b[0m\u001b[0;34m\u001b[0m\u001b[0m\n\u001b[1;32m      2\u001b[0m \u001b[0mnn_estimator\u001b[0m \u001b[0;34m=\u001b[0m \u001b[0mKerasClassifier\u001b[0m\u001b[0;34m(\u001b[0m\u001b[0mbuild_fn\u001b[0m\u001b[0;34m=\u001b[0m\u001b[0mbaseline_model\u001b[0m\u001b[0;34m,\u001b[0m \u001b[0mepochs\u001b[0m\u001b[0;34m=\u001b[0m\u001b[0;36m10\u001b[0m\u001b[0;34m,\u001b[0m \u001b[0mbatch_size\u001b[0m\u001b[0;34m=\u001b[0m\u001b[0;36m64\u001b[0m\u001b[0;34m)\u001b[0m\u001b[0;34m\u001b[0m\u001b[0m\n\u001b[0;32m----> 3\u001b[0;31m \u001b[0mnn_estimator\u001b[0m\u001b[0;34m.\u001b[0m\u001b[0mfit\u001b[0m\u001b[0;34m(\u001b[0m\u001b[0mtrain_nn_svd_dbow_sg\u001b[0m\u001b[0;34m,\u001b[0m \u001b[0my_train_encoded\u001b[0m\u001b[0;34m,\u001b[0m \u001b[0mvalidation_split\u001b[0m\u001b[0;34m=\u001b[0m\u001b[0;36m0.2\u001b[0m\u001b[0;34m)\u001b[0m\u001b[0;34m\u001b[0m\u001b[0m\n\u001b[0m\u001b[1;32m      4\u001b[0m \u001b[0;34m\u001b[0m\u001b[0m\n\u001b[1;32m      5\u001b[0m \u001b[0;34m\u001b[0m\u001b[0m\n",
      "\u001b[0;32m~/anaconda/lib/python3.5/site-packages/keras/wrappers/scikit_learn.py\u001b[0m in \u001b[0;36mfit\u001b[0;34m(self, x, y, **kwargs)\u001b[0m\n\u001b[1;32m    201\u001b[0m             \u001b[0;32mraise\u001b[0m \u001b[0mValueError\u001b[0m\u001b[0;34m(\u001b[0m\u001b[0;34m'Invalid shape for y: '\u001b[0m \u001b[0;34m+\u001b[0m \u001b[0mstr\u001b[0m\u001b[0;34m(\u001b[0m\u001b[0my\u001b[0m\u001b[0;34m.\u001b[0m\u001b[0mshape\u001b[0m\u001b[0;34m)\u001b[0m\u001b[0;34m)\u001b[0m\u001b[0;34m\u001b[0m\u001b[0m\n\u001b[1;32m    202\u001b[0m         \u001b[0mself\u001b[0m\u001b[0;34m.\u001b[0m\u001b[0mn_classes_\u001b[0m \u001b[0;34m=\u001b[0m \u001b[0mlen\u001b[0m\u001b[0;34m(\u001b[0m\u001b[0mself\u001b[0m\u001b[0;34m.\u001b[0m\u001b[0mclasses_\u001b[0m\u001b[0;34m)\u001b[0m\u001b[0;34m\u001b[0m\u001b[0m\n\u001b[0;32m--> 203\u001b[0;31m         \u001b[0;32mreturn\u001b[0m \u001b[0msuper\u001b[0m\u001b[0;34m(\u001b[0m\u001b[0mKerasClassifier\u001b[0m\u001b[0;34m,\u001b[0m \u001b[0mself\u001b[0m\u001b[0;34m)\u001b[0m\u001b[0;34m.\u001b[0m\u001b[0mfit\u001b[0m\u001b[0;34m(\u001b[0m\u001b[0mx\u001b[0m\u001b[0;34m,\u001b[0m \u001b[0my\u001b[0m\u001b[0;34m,\u001b[0m \u001b[0;34m**\u001b[0m\u001b[0mkwargs\u001b[0m\u001b[0;34m)\u001b[0m\u001b[0;34m\u001b[0m\u001b[0m\n\u001b[0m\u001b[1;32m    204\u001b[0m \u001b[0;34m\u001b[0m\u001b[0m\n\u001b[1;32m    205\u001b[0m     \u001b[0;32mdef\u001b[0m \u001b[0mpredict\u001b[0m\u001b[0;34m(\u001b[0m\u001b[0mself\u001b[0m\u001b[0;34m,\u001b[0m \u001b[0mx\u001b[0m\u001b[0;34m,\u001b[0m \u001b[0;34m**\u001b[0m\u001b[0mkwargs\u001b[0m\u001b[0;34m)\u001b[0m\u001b[0;34m:\u001b[0m\u001b[0;34m\u001b[0m\u001b[0m\n",
      "\u001b[0;32m~/anaconda/lib/python3.5/site-packages/keras/wrappers/scikit_learn.py\u001b[0m in \u001b[0;36mfit\u001b[0;34m(self, x, y, **kwargs)\u001b[0m\n\u001b[1;32m    145\u001b[0m         \u001b[0mfit_args\u001b[0m\u001b[0;34m.\u001b[0m\u001b[0mupdate\u001b[0m\u001b[0;34m(\u001b[0m\u001b[0mkwargs\u001b[0m\u001b[0;34m)\u001b[0m\u001b[0;34m\u001b[0m\u001b[0m\n\u001b[1;32m    146\u001b[0m \u001b[0;34m\u001b[0m\u001b[0m\n\u001b[0;32m--> 147\u001b[0;31m         \u001b[0mhistory\u001b[0m \u001b[0;34m=\u001b[0m \u001b[0mself\u001b[0m\u001b[0;34m.\u001b[0m\u001b[0mmodel\u001b[0m\u001b[0;34m.\u001b[0m\u001b[0mfit\u001b[0m\u001b[0;34m(\u001b[0m\u001b[0mx\u001b[0m\u001b[0;34m,\u001b[0m \u001b[0my\u001b[0m\u001b[0;34m,\u001b[0m \u001b[0;34m**\u001b[0m\u001b[0mfit_args\u001b[0m\u001b[0;34m)\u001b[0m\u001b[0;34m\u001b[0m\u001b[0m\n\u001b[0m\u001b[1;32m    148\u001b[0m \u001b[0;34m\u001b[0m\u001b[0m\n\u001b[1;32m    149\u001b[0m         \u001b[0;32mreturn\u001b[0m \u001b[0mhistory\u001b[0m\u001b[0;34m\u001b[0m\u001b[0m\n",
      "\u001b[0;32m~/anaconda/lib/python3.5/site-packages/keras/models.py\u001b[0m in \u001b[0;36mfit\u001b[0;34m(self, x, y, batch_size, epochs, verbose, callbacks, validation_split, validation_data, shuffle, class_weight, sample_weight, initial_epoch, **kwargs)\u001b[0m\n\u001b[1;32m    865\u001b[0m                               \u001b[0mclass_weight\u001b[0m\u001b[0;34m=\u001b[0m\u001b[0mclass_weight\u001b[0m\u001b[0;34m,\u001b[0m\u001b[0;34m\u001b[0m\u001b[0m\n\u001b[1;32m    866\u001b[0m                               \u001b[0msample_weight\u001b[0m\u001b[0;34m=\u001b[0m\u001b[0msample_weight\u001b[0m\u001b[0;34m,\u001b[0m\u001b[0;34m\u001b[0m\u001b[0m\n\u001b[0;32m--> 867\u001b[0;31m                               initial_epoch=initial_epoch)\n\u001b[0m\u001b[1;32m    868\u001b[0m \u001b[0;34m\u001b[0m\u001b[0m\n\u001b[1;32m    869\u001b[0m     def evaluate(self, x, y, batch_size=32, verbose=1,\n",
      "\u001b[0;32m~/anaconda/lib/python3.5/site-packages/keras/engine/training.py\u001b[0m in \u001b[0;36mfit\u001b[0;34m(self, x, y, batch_size, epochs, verbose, callbacks, validation_split, validation_data, shuffle, class_weight, sample_weight, initial_epoch, steps_per_epoch, validation_steps, **kwargs)\u001b[0m\n\u001b[1;32m   1520\u001b[0m             \u001b[0mclass_weight\u001b[0m\u001b[0;34m=\u001b[0m\u001b[0mclass_weight\u001b[0m\u001b[0;34m,\u001b[0m\u001b[0;34m\u001b[0m\u001b[0m\n\u001b[1;32m   1521\u001b[0m             \u001b[0mcheck_batch_axis\u001b[0m\u001b[0;34m=\u001b[0m\u001b[0;32mFalse\u001b[0m\u001b[0;34m,\u001b[0m\u001b[0;34m\u001b[0m\u001b[0m\n\u001b[0;32m-> 1522\u001b[0;31m             batch_size=batch_size)\n\u001b[0m\u001b[1;32m   1523\u001b[0m         \u001b[0;31m# Prepare validation data.\u001b[0m\u001b[0;34m\u001b[0m\u001b[0;34m\u001b[0m\u001b[0m\n\u001b[1;32m   1524\u001b[0m         \u001b[0mdo_validation\u001b[0m \u001b[0;34m=\u001b[0m \u001b[0;32mFalse\u001b[0m\u001b[0;34m\u001b[0m\u001b[0m\n",
      "\u001b[0;32m~/anaconda/lib/python3.5/site-packages/keras/engine/training.py\u001b[0m in \u001b[0;36m_standardize_user_data\u001b[0;34m(self, x, y, sample_weight, class_weight, check_batch_axis, batch_size)\u001b[0m\n\u001b[1;32m   1380\u001b[0m                                     \u001b[0moutput_shapes\u001b[0m\u001b[0;34m,\u001b[0m\u001b[0;34m\u001b[0m\u001b[0m\n\u001b[1;32m   1381\u001b[0m                                     \u001b[0mcheck_batch_axis\u001b[0m\u001b[0;34m=\u001b[0m\u001b[0;32mFalse\u001b[0m\u001b[0;34m,\u001b[0m\u001b[0;34m\u001b[0m\u001b[0m\n\u001b[0;32m-> 1382\u001b[0;31m                                     exception_prefix='target')\n\u001b[0m\u001b[1;32m   1383\u001b[0m         sample_weights = _standardize_sample_weights(sample_weight,\n\u001b[1;32m   1384\u001b[0m                                                      self._feed_output_names)\n",
      "\u001b[0;32m~/anaconda/lib/python3.5/site-packages/keras/engine/training.py\u001b[0m in \u001b[0;36m_standardize_input_data\u001b[0;34m(data, names, shapes, check_batch_axis, exception_prefix)\u001b[0m\n\u001b[1;32m    130\u001b[0m                                  \u001b[0;34m' to have '\u001b[0m \u001b[0;34m+\u001b[0m \u001b[0mstr\u001b[0m\u001b[0;34m(\u001b[0m\u001b[0mlen\u001b[0m\u001b[0;34m(\u001b[0m\u001b[0mshapes\u001b[0m\u001b[0;34m[\u001b[0m\u001b[0mi\u001b[0m\u001b[0;34m]\u001b[0m\u001b[0;34m)\u001b[0m\u001b[0;34m)\u001b[0m \u001b[0;34m+\u001b[0m\u001b[0;34m\u001b[0m\u001b[0m\n\u001b[1;32m    131\u001b[0m                                  \u001b[0;34m' dimensions, but got array with shape '\u001b[0m \u001b[0;34m+\u001b[0m\u001b[0;34m\u001b[0m\u001b[0m\n\u001b[0;32m--> 132\u001b[0;31m                                  str(array.shape))\n\u001b[0m\u001b[1;32m    133\u001b[0m             \u001b[0;32mfor\u001b[0m \u001b[0mj\u001b[0m\u001b[0;34m,\u001b[0m \u001b[0;34m(\u001b[0m\u001b[0mdim\u001b[0m\u001b[0;34m,\u001b[0m \u001b[0mref_dim\u001b[0m\u001b[0;34m)\u001b[0m \u001b[0;32min\u001b[0m \u001b[0menumerate\u001b[0m\u001b[0;34m(\u001b[0m\u001b[0mzip\u001b[0m\u001b[0;34m(\u001b[0m\u001b[0marray\u001b[0m\u001b[0;34m.\u001b[0m\u001b[0mshape\u001b[0m\u001b[0;34m,\u001b[0m \u001b[0mshapes\u001b[0m\u001b[0;34m[\u001b[0m\u001b[0mi\u001b[0m\u001b[0;34m]\u001b[0m\u001b[0;34m)\u001b[0m\u001b[0;34m)\u001b[0m\u001b[0;34m:\u001b[0m\u001b[0;34m\u001b[0m\u001b[0m\n\u001b[1;32m    134\u001b[0m                 \u001b[0;32mif\u001b[0m \u001b[0;32mnot\u001b[0m \u001b[0mj\u001b[0m \u001b[0;32mand\u001b[0m \u001b[0;32mnot\u001b[0m \u001b[0mcheck_batch_axis\u001b[0m\u001b[0;34m:\u001b[0m\u001b[0;34m\u001b[0m\u001b[0m\n",
      "\u001b[0;31mValueError\u001b[0m: Error when checking target: expected dense5 to have 3 dimensions, but got array with shape (2656, 9)"
     ]
    }
   ],
   "source": [
    "from keras.wrappers.scikit_learn import KerasClassifier\n",
    "nn_estimator = KerasClassifier(build_fn=baseline_model, epochs=10, batch_size=64)\n",
    "nn_estimator.fit(train_nn_svd_dbow_sg, y_train_encoded, validation_split=0.2)\n",
    "\n",
    "\n",
    "#nn_estimator=nn_model.fit(train_nn_svd_dbow_sg, y_train_encoded, class_weight='balanced', validation_split=0.2, epochs=10, batch_size=64)"
   ]
  },
  {
   "cell_type": "code",
   "execution_count": 214,
   "metadata": {
    "collapsed": false
   },
   "outputs": [
    {
     "data": {
      "text/plain": [
       "(2656, 450)"
      ]
     },
     "execution_count": 214,
     "metadata": {},
     "output_type": "execute_result"
    }
   ],
   "source": [
    "train_nn_svd_dbow_sg.shape"
   ]
  },
  {
   "cell_type": "code",
   "execution_count": null,
   "metadata": {
    "collapsed": true
   },
   "outputs": [],
   "source": [
    "# export test predictions to csv\n",
    "### NEED TO CONFORM COLUMNS W/ SAM's CODE\n",
    "\n",
    "test_index = test_x['ID'].values\n",
    "\n",
    "submission = pd.DataFrame(y_pred)\n",
    "submission['id'] = test_index\n",
    "submission.columns = ['class1', 'class2', 'class3', 'class4', 'class5', 'class6', 'class7', 'class8', 'class9', 'id']\n",
    "submission.to_csv(\"submission_all.csv\",index=False)"
   ]
  },
  {
   "cell_type": "markdown",
   "metadata": {},
   "source": [
    "### Model Stacking"
   ]
  },
  {
   "cell_type": "code",
   "execution_count": 544,
   "metadata": {
    "collapsed": true
   },
   "outputs": [],
   "source": [
    "rf_context_tfidf = pd.read_csv(\"Final_Models/Jing_submission_rf_context.csv\")\n",
    "svm_tfidf = pd.read_csv(\"Final_Models/submission_SVM_corrected_ksc.csv\")\n",
    "nn_svd_d2v = pd.read_csv(\"Final_Models/nn_svd_d2v_pmp.csv\")\n",
    "svm_svd_d2v = pd.read_csv(\"Final_Models/svm_svd_d2v_pmp.csv\")\n",
    "rf_svd_d2v = pd.read_csv(\"Final_Models/rf_svd_d2v_pmp.csv\")\n",
    "multinomlog_svd_d2v = pd.read_csv(\"Final_Models/multinomlog_svd_d2v_pmp.csv\")\n",
    "gb_svd_d2v = pd.read_csv(\"Final_Models/gb_svd_d2v_pmp.csv\")\n",
    "xgb_svd_d2v = pd.read_csv(\"Final_Models/xgb_svd_d2v_pmp.csv\")\n",
    "nn_context_tfidf = pd.read_csv(\"Final_Models/Jing_submission_nn_context.csv\")"
   ]
  },
  {
   "cell_type": "code",
   "execution_count": 545,
   "metadata": {
    "collapsed": false
   },
   "outputs": [
    {
     "data": {
      "text/plain": [
       "5662"
      ]
     },
     "execution_count": 545,
     "metadata": {},
     "output_type": "execute_result"
    }
   ],
   "source": [
    "len(nn_context_tfidf)"
   ]
  },
  {
   "cell_type": "code",
   "execution_count": 546,
   "metadata": {
    "collapsed": false
   },
   "outputs": [],
   "source": [
    "rf_con_avg = pd.DataFrame([rf_context_tfidf.mean()])\n",
    "\n",
    "rf_context_tfidf = rf_context_tfidf.append(rf_con_avg, ignore_index=True)\n",
    "rf_context_tfidf = rf_context_tfidf.append(rf_con_avg, ignore_index=True)\n",
    "rf_context_tfidf = rf_context_tfidf.append(rf_con_avg, ignore_index=True)\n",
    "rf_context_tfidf = rf_context_tfidf.append(rf_con_avg, ignore_index=True)\n",
    "rf_context_tfidf = rf_context_tfidf.append(rf_con_avg, ignore_index=True)\n",
    "rf_context_tfidf = rf_context_tfidf.append(rf_con_avg, ignore_index=True)\n",
    "\n",
    "rf_context_tfidf.loc[5662]['ID'] = '5662'\n",
    "rf_context_tfidf.loc[5663]['ID'] = '5663'\n",
    "rf_context_tfidf.loc[5664]['ID'] = '5664'\n",
    "rf_context_tfidf.loc[5665]['ID'] = '5665'\n",
    "rf_context_tfidf.loc[5666]['ID'] = '5666'\n",
    "rf_context_tfidf.loc[5667]['ID'] = '5667'"
   ]
  },
  {
   "cell_type": "code",
   "execution_count": 547,
   "metadata": {
    "collapsed": true
   },
   "outputs": [],
   "source": [
    "nn_con_avg = pd.DataFrame([nn_context_tfidf.mean()])\n",
    "\n",
    "nn_context_tfidf = nn_context_tfidf.append(nn_con_avg, ignore_index=True)\n",
    "nn_context_tfidf = nn_context_tfidf.append(nn_con_avg, ignore_index=True)\n",
    "nn_context_tfidf = nn_context_tfidf.append(nn_con_avg, ignore_index=True)\n",
    "nn_context_tfidf = nn_context_tfidf.append(nn_con_avg, ignore_index=True)\n",
    "nn_context_tfidf = nn_context_tfidf.append(nn_con_avg, ignore_index=True)\n",
    "nn_context_tfidf = nn_context_tfidf.append(nn_con_avg, ignore_index=True)\n",
    "\n",
    "nn_context_tfidf.loc[5662]['ID'] = '5662'\n",
    "nn_context_tfidf.loc[5663]['ID'] = '5663'\n",
    "nn_context_tfidf.loc[5664]['ID'] = '5664'\n",
    "nn_context_tfidf.loc[5665]['ID'] = '5665'\n",
    "nn_context_tfidf.loc[5666]['ID'] = '5666'\n",
    "nn_context_tfidf.loc[5667]['ID'] = '5667'"
   ]
  },
  {
   "cell_type": "code",
   "execution_count": 548,
   "metadata": {
    "collapsed": true
   },
   "outputs": [],
   "source": [
    "rf_context_tfidf.name = 'rf_context_tfidf'\n",
    "svm_tfidf.name = 'svm_tfidf'\n",
    "nn_svd_d2v.name = 'nn_svd_d2v'\n",
    "svm_svd_d2v.name = 'svm_svd_d2v'\n",
    "rf_svd_d2v.name = 'rf_svd_d2v'\n",
    "multinomlog_svd_d2v.name = 'multinomlog_svd_d2v'\n",
    "gb_svd_d2v.name = 'gb_svd_d2v'\n",
    "xgb_svd_d2v.name = 'xgb_svd_d2v'\n",
    "nn_context_tfidf.name = 'nn_context_tfidf'"
   ]
  },
  {
   "cell_type": "code",
   "execution_count": 549,
   "metadata": {
    "collapsed": false
   },
   "outputs": [
    {
     "name": "stdout",
     "output_type": "stream",
     "text": [
      "5668\n",
      "5668\n",
      "5668\n",
      "5668\n",
      "5668\n",
      "5668\n",
      "5668\n",
      "5668\n",
      "5668\n"
     ]
    }
   ],
   "source": [
    "print(len(rf_context_tfidf))\n",
    "print(len(svm_tfidf))\n",
    "print(len(nn_svd_d2v))\n",
    "print(len(svm_svd_d2v))\n",
    "print(len(rf_svd_d2v))\n",
    "print(len(multinomlog_svd_d2v))\n",
    "print(len(gb_svd_d2v))\n",
    "print(len(xgb_svd_d2v))\n",
    "print(len(nn_context_tfidf))\n"
   ]
  },
  {
   "cell_type": "code",
   "execution_count": 550,
   "metadata": {
    "collapsed": true
   },
   "outputs": [],
   "source": [
    "def rename_cols(df):\n",
    "    for column_name in df.columns.values:\n",
    "        df.rename(columns={column_name: str(df.name) + column_name}, inplace=True)"
   ]
  },
  {
   "cell_type": "code",
   "execution_count": 551,
   "metadata": {
    "collapsed": false
   },
   "outputs": [],
   "source": [
    "rename_cols(rf_context_tfidf)\n",
    "rename_cols(svm_tfidf)\n",
    "rename_cols(nn_svd_d2v)\n",
    "rename_cols(svm_svd_d2v)\n",
    "rename_cols(rf_svd_d2v)\n",
    "rename_cols(multinomlog_svd_d2v)\n",
    "rename_cols(gb_svd_d2v)\n",
    "rename_cols(xgb_svd_d2v)\n",
    "rename_cols(nn_context_tfidf)"
   ]
  },
  {
   "cell_type": "code",
   "execution_count": 552,
   "metadata": {
    "collapsed": false
   },
   "outputs": [
    {
     "name": "stdout",
     "output_type": "stream",
     "text": [
      "5668\n",
      "5668\n",
      "5668\n",
      "5668\n",
      "5668\n",
      "5668\n",
      "5668\n",
      "5668\n",
      "5668\n"
     ]
    }
   ],
   "source": [
    "print(len(rf_context_tfidf))\n",
    "print(len(svm_tfidf))\n",
    "print(len(nn_svd_d2v))\n",
    "print(len(svm_svd_d2v))\n",
    "print(len(rf_svd_d2v))\n",
    "print(len(multinomlog_svd_d2v))\n",
    "print(len(gb_svd_d2v))\n",
    "print(len(xgb_svd_d2v))\n",
    "print(len(nn_context_tfidf))"
   ]
  },
  {
   "cell_type": "code",
   "execution_count": 553,
   "metadata": {
    "collapsed": true
   },
   "outputs": [],
   "source": [
    "rf_context_tfidf.drop('rf_context_tfidfID', axis=1, inplace=True)\n",
    "nn_context_tfidf.drop('nn_context_tfidfID', axis=1, inplace=True)"
   ]
  },
  {
   "cell_type": "code",
   "execution_count": 554,
   "metadata": {
    "collapsed": false
   },
   "outputs": [
    {
     "name": "stdout",
     "output_type": "stream",
     "text": [
      "5668\n",
      "5668\n",
      "5668\n",
      "5668\n",
      "5668\n",
      "5668\n",
      "5668\n",
      "5668\n",
      "5668\n"
     ]
    }
   ],
   "source": [
    "combined = svm_tfidf\n",
    "print(len(combined))\n",
    "combined = combined.join(nn_svd_d2v)\n",
    "print(len(combined))\n",
    "combined = combined.join(svm_svd_d2v)\n",
    "print(len(combined))\n",
    "combined = combined.join(rf_svd_d2v)\n",
    "print(len(combined))\n",
    "combined = combined.join(multinomlog_svd_d2v)\n",
    "print(len(combined))\n",
    "combined = combined.join(gb_svd_d2v)\n",
    "print(len(combined))\n",
    "combined = combined.join(xgb_svd_d2v)\n",
    "print(len(combined))\n",
    "combined = combined.join(rf_context_tfidf)\n",
    "print(len(combined))\n",
    "combined = combined.join(nn_context_tfidf)\n",
    "print(len(combined))"
   ]
  },
  {
   "cell_type": "code",
   "execution_count": 555,
   "metadata": {
    "collapsed": true
   },
   "outputs": [],
   "source": [
    "combined['ID'] = combined.index"
   ]
  },
  {
   "cell_type": "code",
   "execution_count": 556,
   "metadata": {
    "collapsed": true
   },
   "outputs": [],
   "source": [
    "combined.drop('svm_tfidfid', axis=1, inplace=True)\n",
    "combined.drop('nn_svd_d2vid', axis=1, inplace=True)\n",
    "combined.drop('svm_svd_d2vid', axis=1, inplace=True)\n",
    "combined.drop('rf_svd_d2vid', axis=1, inplace=True)\n",
    "combined.drop('multinomlog_svd_d2vid', axis=1, inplace=True)\n",
    "combined.drop('gb_svd_d2vid', axis=1, inplace=True)\n",
    "combined.drop('xgb_svd_d2vid', axis=1, inplace=True)\n"
   ]
  },
  {
   "cell_type": "code",
   "execution_count": 557,
   "metadata": {
    "collapsed": true
   },
   "outputs": [],
   "source": [
    "combined['class1'] = (1/9)*combined['rf_context_tfidfclass1']+(1/9)*combined['svm_tfidfclass1']+(1/9)*combined['nn_svd_d2vclass1']+(1/9)*combined['svm_svd_d2vclass1']+(1/9)*combined['rf_svd_d2vclass1']+(1/9)*combined['multinomlog_svd_d2vclass1']+(1/9)*combined['gb_svd_d2vclass1']+(1/9)*combined['xgb_svd_d2vclass1']+(1/9)*combined['nn_context_tfidfclass1']\n",
    "combined['class2'] = (1/9)*combined['rf_context_tfidfclass2']+(1/9)*combined['svm_tfidfclass2']+(1/9)*combined['nn_svd_d2vclass2']+(1/9)*combined['svm_svd_d2vclass2']+(1/9)*combined['rf_svd_d2vclass2']+(1/9)*combined['multinomlog_svd_d2vclass2']+(1/9)*combined['gb_svd_d2vclass2']+(1/9)*combined['xgb_svd_d2vclass2']+(1/9)*combined['nn_context_tfidfclass2']\n",
    "combined['class3'] = (1/9)*combined['rf_context_tfidfclass3']+(1/9)*combined['svm_tfidfclass3']+(1/9)*combined['nn_svd_d2vclass3']+(1/9)*combined['svm_svd_d2vclass3']+(1/9)*combined['rf_svd_d2vclass3']+(1/9)*combined['multinomlog_svd_d2vclass3']+(1/9)*combined['gb_svd_d2vclass3']+(1/9)*combined['xgb_svd_d2vclass3']+(1/9)*combined['nn_context_tfidfclass3']\n",
    "combined['class4'] = (1/9)*combined['rf_context_tfidfclass4']+(1/9)*combined['svm_tfidfclass4']+(1/9)*combined['nn_svd_d2vclass4']+(1/9)*combined['svm_svd_d2vclass4']+(1/9)*combined['rf_svd_d2vclass4']+(1/9)*combined['multinomlog_svd_d2vclass4']+(1/9)*combined['gb_svd_d2vclass4']+(1/9)*combined['xgb_svd_d2vclass4']+(1/9)*combined['nn_context_tfidfclass4']\n",
    "combined['class5'] = (1/9)*combined['rf_context_tfidfclass5']+(1/9)*combined['svm_tfidfclass5']+(1/9)*combined['nn_svd_d2vclass5']+(1/9)*combined['svm_svd_d2vclass5']+(1/9)*combined['rf_svd_d2vclass5']+(1/9)*combined['multinomlog_svd_d2vclass5']+(1/9)*combined['gb_svd_d2vclass5']+(1/9)*combined['xgb_svd_d2vclass5']+(1/9)*combined['nn_context_tfidfclass5']\n",
    "combined['class6'] = (1/9)*combined['rf_context_tfidfclass6']+(1/9)*combined['svm_tfidfclass6']+(1/9)*combined['nn_svd_d2vclass6']+(1/9)*combined['svm_svd_d2vclass6']+(1/9)*combined['rf_svd_d2vclass6']+(1/9)*combined['multinomlog_svd_d2vclass6']+(1/9)*combined['gb_svd_d2vclass6']+(1/9)*combined['xgb_svd_d2vclass6']+(1/9)*combined['nn_context_tfidfclass6']\n",
    "combined['class7'] = (1/9)*combined['rf_context_tfidfclass7']+(1/9)*combined['svm_tfidfclass7']+(1/9)*combined['nn_svd_d2vclass7']+(1/9)*combined['svm_svd_d2vclass7']+(1/9)*combined['rf_svd_d2vclass7']+(1/9)*combined['multinomlog_svd_d2vclass7']+(1/9)*combined['gb_svd_d2vclass7']+(1/9)*combined['xgb_svd_d2vclass7']+(1/9)*combined['nn_context_tfidfclass7']\n",
    "combined['class8'] = (1/9)*combined['rf_context_tfidfclass8']+(1/9)*combined['svm_tfidfclass8']+(1/9)*combined['nn_svd_d2vclass8']+(1/9)*combined['svm_svd_d2vclass8']+(1/9)*combined['rf_svd_d2vclass8']+(1/9)*combined['multinomlog_svd_d2vclass8']+(1/9)*combined['gb_svd_d2vclass8']+(1/9)*combined['xgb_svd_d2vclass8']+(1/9)*combined['nn_context_tfidfclass8']\n",
    "combined['class9'] = (1/9)*combined['rf_context_tfidfclass9']+(1/9)*combined['svm_tfidfclass9']+(1/9)*combined['nn_svd_d2vclass9']+(1/9)*combined['svm_svd_d2vclass9']+(1/9)*combined['rf_svd_d2vclass9']+(1/9)*combined['multinomlog_svd_d2vclass9']+(1/9)*combined['gb_svd_d2vclass9']+(1/9)*combined['xgb_svd_d2vclass9']+(1/9)*combined['nn_context_tfidfclass9']\n"
   ]
  },
  {
   "cell_type": "code",
   "execution_count": 558,
   "metadata": {
    "collapsed": true
   },
   "outputs": [],
   "source": [
    "combined_avg = combined[['class1','class2','class3','class4','class5','class6','class7','class8','class9','ID']]"
   ]
  },
  {
   "cell_type": "code",
   "execution_count": 561,
   "metadata": {
    "collapsed": false
   },
   "outputs": [
    {
     "data": {
      "text/html": [
       "<div>\n",
       "<style>\n",
       "    .dataframe thead tr:only-child th {\n",
       "        text-align: right;\n",
       "    }\n",
       "\n",
       "    .dataframe thead th {\n",
       "        text-align: left;\n",
       "    }\n",
       "\n",
       "    .dataframe tbody tr th {\n",
       "        vertical-align: top;\n",
       "    }\n",
       "</style>\n",
       "<table border=\"1\" class=\"dataframe\">\n",
       "  <thead>\n",
       "    <tr style=\"text-align: right;\">\n",
       "      <th></th>\n",
       "      <th>class1</th>\n",
       "      <th>class2</th>\n",
       "      <th>class3</th>\n",
       "      <th>class4</th>\n",
       "      <th>class5</th>\n",
       "      <th>class6</th>\n",
       "      <th>class7</th>\n",
       "      <th>class8</th>\n",
       "      <th>class9</th>\n",
       "      <th>ID</th>\n",
       "    </tr>\n",
       "  </thead>\n",
       "  <tbody>\n",
       "    <tr>\n",
       "      <th>0</th>\n",
       "      <td>0.042805</td>\n",
       "      <td>0.188448</td>\n",
       "      <td>0.010415</td>\n",
       "      <td>0.036203</td>\n",
       "      <td>0.026625</td>\n",
       "      <td>0.036764</td>\n",
       "      <td>0.648373</td>\n",
       "      <td>0.006470</td>\n",
       "      <td>0.003898</td>\n",
       "      <td>0</td>\n",
       "    </tr>\n",
       "    <tr>\n",
       "      <th>1</th>\n",
       "      <td>0.193260</td>\n",
       "      <td>0.073825</td>\n",
       "      <td>0.026690</td>\n",
       "      <td>0.458977</td>\n",
       "      <td>0.047355</td>\n",
       "      <td>0.065973</td>\n",
       "      <td>0.107768</td>\n",
       "      <td>0.011492</td>\n",
       "      <td>0.014660</td>\n",
       "      <td>1</td>\n",
       "    </tr>\n",
       "    <tr>\n",
       "      <th>2</th>\n",
       "      <td>0.099767</td>\n",
       "      <td>0.113050</td>\n",
       "      <td>0.046377</td>\n",
       "      <td>0.179272</td>\n",
       "      <td>0.037894</td>\n",
       "      <td>0.060432</td>\n",
       "      <td>0.437910</td>\n",
       "      <td>0.013948</td>\n",
       "      <td>0.011349</td>\n",
       "      <td>2</td>\n",
       "    </tr>\n",
       "    <tr>\n",
       "      <th>3</th>\n",
       "      <td>0.046491</td>\n",
       "      <td>0.323624</td>\n",
       "      <td>0.026636</td>\n",
       "      <td>0.060724</td>\n",
       "      <td>0.026193</td>\n",
       "      <td>0.031584</td>\n",
       "      <td>0.471122</td>\n",
       "      <td>0.008938</td>\n",
       "      <td>0.004688</td>\n",
       "      <td>3</td>\n",
       "    </tr>\n",
       "    <tr>\n",
       "      <th>4</th>\n",
       "      <td>0.233403</td>\n",
       "      <td>0.090182</td>\n",
       "      <td>0.019124</td>\n",
       "      <td>0.404349</td>\n",
       "      <td>0.042428</td>\n",
       "      <td>0.044172</td>\n",
       "      <td>0.142754</td>\n",
       "      <td>0.014826</td>\n",
       "      <td>0.008761</td>\n",
       "      <td>4</td>\n",
       "    </tr>\n",
       "    <tr>\n",
       "      <th>5</th>\n",
       "      <td>0.219619</td>\n",
       "      <td>0.219289</td>\n",
       "      <td>0.021837</td>\n",
       "      <td>0.246470</td>\n",
       "      <td>0.044449</td>\n",
       "      <td>0.040962</td>\n",
       "      <td>0.180929</td>\n",
       "      <td>0.011581</td>\n",
       "      <td>0.014864</td>\n",
       "      <td>5</td>\n",
       "    </tr>\n",
       "    <tr>\n",
       "      <th>6</th>\n",
       "      <td>0.182197</td>\n",
       "      <td>0.197488</td>\n",
       "      <td>0.023575</td>\n",
       "      <td>0.081007</td>\n",
       "      <td>0.032876</td>\n",
       "      <td>0.054917</td>\n",
       "      <td>0.408993</td>\n",
       "      <td>0.009514</td>\n",
       "      <td>0.009435</td>\n",
       "      <td>6</td>\n",
       "    </tr>\n",
       "    <tr>\n",
       "      <th>7</th>\n",
       "      <td>0.095286</td>\n",
       "      <td>0.082075</td>\n",
       "      <td>0.029039</td>\n",
       "      <td>0.387945</td>\n",
       "      <td>0.090712</td>\n",
       "      <td>0.074012</td>\n",
       "      <td>0.221489</td>\n",
       "      <td>0.010660</td>\n",
       "      <td>0.008782</td>\n",
       "      <td>7</td>\n",
       "    </tr>\n",
       "    <tr>\n",
       "      <th>8</th>\n",
       "      <td>0.143225</td>\n",
       "      <td>0.288549</td>\n",
       "      <td>0.022848</td>\n",
       "      <td>0.084035</td>\n",
       "      <td>0.033028</td>\n",
       "      <td>0.058127</td>\n",
       "      <td>0.339011</td>\n",
       "      <td>0.019678</td>\n",
       "      <td>0.011500</td>\n",
       "      <td>8</td>\n",
       "    </tr>\n",
       "    <tr>\n",
       "      <th>9</th>\n",
       "      <td>0.066556</td>\n",
       "      <td>0.253091</td>\n",
       "      <td>0.020758</td>\n",
       "      <td>0.054447</td>\n",
       "      <td>0.023403</td>\n",
       "      <td>0.039058</td>\n",
       "      <td>0.527959</td>\n",
       "      <td>0.009586</td>\n",
       "      <td>0.005142</td>\n",
       "      <td>9</td>\n",
       "    </tr>\n",
       "    <tr>\n",
       "      <th>10</th>\n",
       "      <td>0.030921</td>\n",
       "      <td>0.204749</td>\n",
       "      <td>0.015888</td>\n",
       "      <td>0.034234</td>\n",
       "      <td>0.030923</td>\n",
       "      <td>0.033987</td>\n",
       "      <td>0.626292</td>\n",
       "      <td>0.017783</td>\n",
       "      <td>0.005224</td>\n",
       "      <td>10</td>\n",
       "    </tr>\n",
       "    <tr>\n",
       "      <th>11</th>\n",
       "      <td>0.075118</td>\n",
       "      <td>0.135925</td>\n",
       "      <td>0.033069</td>\n",
       "      <td>0.071351</td>\n",
       "      <td>0.030703</td>\n",
       "      <td>0.034480</td>\n",
       "      <td>0.581014</td>\n",
       "      <td>0.013298</td>\n",
       "      <td>0.025042</td>\n",
       "      <td>11</td>\n",
       "    </tr>\n",
       "    <tr>\n",
       "      <th>12</th>\n",
       "      <td>0.261554</td>\n",
       "      <td>0.032484</td>\n",
       "      <td>0.017803</td>\n",
       "      <td>0.064251</td>\n",
       "      <td>0.185905</td>\n",
       "      <td>0.391506</td>\n",
       "      <td>0.028473</td>\n",
       "      <td>0.007367</td>\n",
       "      <td>0.010659</td>\n",
       "      <td>12</td>\n",
       "    </tr>\n",
       "    <tr>\n",
       "      <th>13</th>\n",
       "      <td>0.054844</td>\n",
       "      <td>0.143742</td>\n",
       "      <td>0.019994</td>\n",
       "      <td>0.069790</td>\n",
       "      <td>0.032116</td>\n",
       "      <td>0.035447</td>\n",
       "      <td>0.628932</td>\n",
       "      <td>0.005316</td>\n",
       "      <td>0.009819</td>\n",
       "      <td>13</td>\n",
       "    </tr>\n",
       "    <tr>\n",
       "      <th>14</th>\n",
       "      <td>0.069724</td>\n",
       "      <td>0.325441</td>\n",
       "      <td>0.015391</td>\n",
       "      <td>0.065534</td>\n",
       "      <td>0.034700</td>\n",
       "      <td>0.044804</td>\n",
       "      <td>0.408826</td>\n",
       "      <td>0.026030</td>\n",
       "      <td>0.009550</td>\n",
       "      <td>14</td>\n",
       "    </tr>\n",
       "    <tr>\n",
       "      <th>15</th>\n",
       "      <td>0.071211</td>\n",
       "      <td>0.092232</td>\n",
       "      <td>0.028304</td>\n",
       "      <td>0.084072</td>\n",
       "      <td>0.042122</td>\n",
       "      <td>0.034663</td>\n",
       "      <td>0.630004</td>\n",
       "      <td>0.010287</td>\n",
       "      <td>0.007105</td>\n",
       "      <td>15</td>\n",
       "    </tr>\n",
       "    <tr>\n",
       "      <th>16</th>\n",
       "      <td>0.240538</td>\n",
       "      <td>0.070195</td>\n",
       "      <td>0.020567</td>\n",
       "      <td>0.308889</td>\n",
       "      <td>0.052123</td>\n",
       "      <td>0.042901</td>\n",
       "      <td>0.246065</td>\n",
       "      <td>0.008185</td>\n",
       "      <td>0.010537</td>\n",
       "      <td>16</td>\n",
       "    </tr>\n",
       "    <tr>\n",
       "      <th>17</th>\n",
       "      <td>0.062556</td>\n",
       "      <td>0.141860</td>\n",
       "      <td>0.016585</td>\n",
       "      <td>0.052022</td>\n",
       "      <td>0.044742</td>\n",
       "      <td>0.040968</td>\n",
       "      <td>0.606194</td>\n",
       "      <td>0.026132</td>\n",
       "      <td>0.008942</td>\n",
       "      <td>17</td>\n",
       "    </tr>\n",
       "    <tr>\n",
       "      <th>18</th>\n",
       "      <td>0.098737</td>\n",
       "      <td>0.192366</td>\n",
       "      <td>0.011103</td>\n",
       "      <td>0.313917</td>\n",
       "      <td>0.026088</td>\n",
       "      <td>0.032621</td>\n",
       "      <td>0.297229</td>\n",
       "      <td>0.014194</td>\n",
       "      <td>0.013746</td>\n",
       "      <td>18</td>\n",
       "    </tr>\n",
       "    <tr>\n",
       "      <th>19</th>\n",
       "      <td>0.025507</td>\n",
       "      <td>0.070628</td>\n",
       "      <td>0.378424</td>\n",
       "      <td>0.032526</td>\n",
       "      <td>0.031525</td>\n",
       "      <td>0.023035</td>\n",
       "      <td>0.421449</td>\n",
       "      <td>0.006663</td>\n",
       "      <td>0.010242</td>\n",
       "      <td>19</td>\n",
       "    </tr>\n",
       "    <tr>\n",
       "      <th>20</th>\n",
       "      <td>0.230933</td>\n",
       "      <td>0.115869</td>\n",
       "      <td>0.023405</td>\n",
       "      <td>0.324099</td>\n",
       "      <td>0.048501</td>\n",
       "      <td>0.057141</td>\n",
       "      <td>0.154957</td>\n",
       "      <td>0.020999</td>\n",
       "      <td>0.024097</td>\n",
       "      <td>20</td>\n",
       "    </tr>\n",
       "    <tr>\n",
       "      <th>21</th>\n",
       "      <td>0.101349</td>\n",
       "      <td>0.201209</td>\n",
       "      <td>0.025703</td>\n",
       "      <td>0.062389</td>\n",
       "      <td>0.072629</td>\n",
       "      <td>0.062840</td>\n",
       "      <td>0.446066</td>\n",
       "      <td>0.019373</td>\n",
       "      <td>0.008443</td>\n",
       "      <td>21</td>\n",
       "    </tr>\n",
       "    <tr>\n",
       "      <th>22</th>\n",
       "      <td>0.134026</td>\n",
       "      <td>0.054689</td>\n",
       "      <td>0.056450</td>\n",
       "      <td>0.560816</td>\n",
       "      <td>0.030871</td>\n",
       "      <td>0.035743</td>\n",
       "      <td>0.110394</td>\n",
       "      <td>0.006755</td>\n",
       "      <td>0.010255</td>\n",
       "      <td>22</td>\n",
       "    </tr>\n",
       "    <tr>\n",
       "      <th>23</th>\n",
       "      <td>0.105410</td>\n",
       "      <td>0.193986</td>\n",
       "      <td>0.010332</td>\n",
       "      <td>0.064233</td>\n",
       "      <td>0.028454</td>\n",
       "      <td>0.025352</td>\n",
       "      <td>0.540653</td>\n",
       "      <td>0.024871</td>\n",
       "      <td>0.006710</td>\n",
       "      <td>23</td>\n",
       "    </tr>\n",
       "    <tr>\n",
       "      <th>24</th>\n",
       "      <td>0.058570</td>\n",
       "      <td>0.373403</td>\n",
       "      <td>0.042243</td>\n",
       "      <td>0.064387</td>\n",
       "      <td>0.062888</td>\n",
       "      <td>0.060269</td>\n",
       "      <td>0.320441</td>\n",
       "      <td>0.009924</td>\n",
       "      <td>0.007874</td>\n",
       "      <td>24</td>\n",
       "    </tr>\n",
       "    <tr>\n",
       "      <th>25</th>\n",
       "      <td>0.185054</td>\n",
       "      <td>0.089362</td>\n",
       "      <td>0.054943</td>\n",
       "      <td>0.164606</td>\n",
       "      <td>0.058596</td>\n",
       "      <td>0.064653</td>\n",
       "      <td>0.313462</td>\n",
       "      <td>0.038242</td>\n",
       "      <td>0.031082</td>\n",
       "      <td>25</td>\n",
       "    </tr>\n",
       "    <tr>\n",
       "      <th>26</th>\n",
       "      <td>0.167235</td>\n",
       "      <td>0.149945</td>\n",
       "      <td>0.021516</td>\n",
       "      <td>0.286478</td>\n",
       "      <td>0.037322</td>\n",
       "      <td>0.033729</td>\n",
       "      <td>0.278195</td>\n",
       "      <td>0.013762</td>\n",
       "      <td>0.011819</td>\n",
       "      <td>26</td>\n",
       "    </tr>\n",
       "    <tr>\n",
       "      <th>27</th>\n",
       "      <td>0.045718</td>\n",
       "      <td>0.342866</td>\n",
       "      <td>0.010135</td>\n",
       "      <td>0.043652</td>\n",
       "      <td>0.031359</td>\n",
       "      <td>0.032974</td>\n",
       "      <td>0.475519</td>\n",
       "      <td>0.012150</td>\n",
       "      <td>0.005626</td>\n",
       "      <td>27</td>\n",
       "    </tr>\n",
       "    <tr>\n",
       "      <th>28</th>\n",
       "      <td>0.177331</td>\n",
       "      <td>0.098820</td>\n",
       "      <td>0.036630</td>\n",
       "      <td>0.127087</td>\n",
       "      <td>0.046249</td>\n",
       "      <td>0.060333</td>\n",
       "      <td>0.407102</td>\n",
       "      <td>0.017063</td>\n",
       "      <td>0.029385</td>\n",
       "      <td>28</td>\n",
       "    </tr>\n",
       "    <tr>\n",
       "      <th>29</th>\n",
       "      <td>0.102663</td>\n",
       "      <td>0.165640</td>\n",
       "      <td>0.020949</td>\n",
       "      <td>0.118604</td>\n",
       "      <td>0.037474</td>\n",
       "      <td>0.041369</td>\n",
       "      <td>0.483500</td>\n",
       "      <td>0.018275</td>\n",
       "      <td>0.011527</td>\n",
       "      <td>29</td>\n",
       "    </tr>\n",
       "    <tr>\n",
       "      <th>...</th>\n",
       "      <td>...</td>\n",
       "      <td>...</td>\n",
       "      <td>...</td>\n",
       "      <td>...</td>\n",
       "      <td>...</td>\n",
       "      <td>...</td>\n",
       "      <td>...</td>\n",
       "      <td>...</td>\n",
       "      <td>...</td>\n",
       "      <td>...</td>\n",
       "    </tr>\n",
       "    <tr>\n",
       "      <th>5638</th>\n",
       "      <td>0.072115</td>\n",
       "      <td>0.243959</td>\n",
       "      <td>0.018661</td>\n",
       "      <td>0.130857</td>\n",
       "      <td>0.033355</td>\n",
       "      <td>0.035699</td>\n",
       "      <td>0.418503</td>\n",
       "      <td>0.030395</td>\n",
       "      <td>0.016458</td>\n",
       "      <td>5638</td>\n",
       "    </tr>\n",
       "    <tr>\n",
       "      <th>5639</th>\n",
       "      <td>0.502237</td>\n",
       "      <td>0.120981</td>\n",
       "      <td>0.022984</td>\n",
       "      <td>0.099401</td>\n",
       "      <td>0.042645</td>\n",
       "      <td>0.070857</td>\n",
       "      <td>0.110987</td>\n",
       "      <td>0.017658</td>\n",
       "      <td>0.012250</td>\n",
       "      <td>5639</td>\n",
       "    </tr>\n",
       "    <tr>\n",
       "      <th>5640</th>\n",
       "      <td>0.088810</td>\n",
       "      <td>0.123638</td>\n",
       "      <td>0.017422</td>\n",
       "      <td>0.071837</td>\n",
       "      <td>0.072175</td>\n",
       "      <td>0.061975</td>\n",
       "      <td>0.538840</td>\n",
       "      <td>0.008278</td>\n",
       "      <td>0.017025</td>\n",
       "      <td>5640</td>\n",
       "    </tr>\n",
       "    <tr>\n",
       "      <th>5641</th>\n",
       "      <td>0.227568</td>\n",
       "      <td>0.086193</td>\n",
       "      <td>0.018806</td>\n",
       "      <td>0.165161</td>\n",
       "      <td>0.036958</td>\n",
       "      <td>0.037906</td>\n",
       "      <td>0.387203</td>\n",
       "      <td>0.024434</td>\n",
       "      <td>0.015772</td>\n",
       "      <td>5641</td>\n",
       "    </tr>\n",
       "    <tr>\n",
       "      <th>5642</th>\n",
       "      <td>0.161609</td>\n",
       "      <td>0.182023</td>\n",
       "      <td>0.017419</td>\n",
       "      <td>0.086778</td>\n",
       "      <td>0.048669</td>\n",
       "      <td>0.077388</td>\n",
       "      <td>0.361322</td>\n",
       "      <td>0.030871</td>\n",
       "      <td>0.033921</td>\n",
       "      <td>5642</td>\n",
       "    </tr>\n",
       "    <tr>\n",
       "      <th>5643</th>\n",
       "      <td>0.152190</td>\n",
       "      <td>0.085322</td>\n",
       "      <td>0.020589</td>\n",
       "      <td>0.287711</td>\n",
       "      <td>0.030074</td>\n",
       "      <td>0.038948</td>\n",
       "      <td>0.263033</td>\n",
       "      <td>0.023849</td>\n",
       "      <td>0.098284</td>\n",
       "      <td>5643</td>\n",
       "    </tr>\n",
       "    <tr>\n",
       "      <th>5644</th>\n",
       "      <td>0.180805</td>\n",
       "      <td>0.107315</td>\n",
       "      <td>0.024332</td>\n",
       "      <td>0.179889</td>\n",
       "      <td>0.047231</td>\n",
       "      <td>0.046604</td>\n",
       "      <td>0.266559</td>\n",
       "      <td>0.055024</td>\n",
       "      <td>0.092242</td>\n",
       "      <td>5644</td>\n",
       "    </tr>\n",
       "    <tr>\n",
       "      <th>5645</th>\n",
       "      <td>0.169621</td>\n",
       "      <td>0.363402</td>\n",
       "      <td>0.018040</td>\n",
       "      <td>0.125732</td>\n",
       "      <td>0.043518</td>\n",
       "      <td>0.046889</td>\n",
       "      <td>0.207021</td>\n",
       "      <td>0.010092</td>\n",
       "      <td>0.015684</td>\n",
       "      <td>5645</td>\n",
       "    </tr>\n",
       "    <tr>\n",
       "      <th>5646</th>\n",
       "      <td>0.086732</td>\n",
       "      <td>0.125603</td>\n",
       "      <td>0.016919</td>\n",
       "      <td>0.083611</td>\n",
       "      <td>0.087515</td>\n",
       "      <td>0.032299</td>\n",
       "      <td>0.504990</td>\n",
       "      <td>0.046296</td>\n",
       "      <td>0.016035</td>\n",
       "      <td>5646</td>\n",
       "    </tr>\n",
       "    <tr>\n",
       "      <th>5647</th>\n",
       "      <td>0.208934</td>\n",
       "      <td>0.077852</td>\n",
       "      <td>0.016879</td>\n",
       "      <td>0.401567</td>\n",
       "      <td>0.043254</td>\n",
       "      <td>0.052662</td>\n",
       "      <td>0.183072</td>\n",
       "      <td>0.008161</td>\n",
       "      <td>0.007619</td>\n",
       "      <td>5647</td>\n",
       "    </tr>\n",
       "    <tr>\n",
       "      <th>5648</th>\n",
       "      <td>0.111389</td>\n",
       "      <td>0.124208</td>\n",
       "      <td>0.013857</td>\n",
       "      <td>0.146744</td>\n",
       "      <td>0.044815</td>\n",
       "      <td>0.168317</td>\n",
       "      <td>0.369110</td>\n",
       "      <td>0.010552</td>\n",
       "      <td>0.011009</td>\n",
       "      <td>5648</td>\n",
       "    </tr>\n",
       "    <tr>\n",
       "      <th>5649</th>\n",
       "      <td>0.250895</td>\n",
       "      <td>0.196261</td>\n",
       "      <td>0.018905</td>\n",
       "      <td>0.210124</td>\n",
       "      <td>0.046704</td>\n",
       "      <td>0.058386</td>\n",
       "      <td>0.180335</td>\n",
       "      <td>0.026443</td>\n",
       "      <td>0.011947</td>\n",
       "      <td>5649</td>\n",
       "    </tr>\n",
       "    <tr>\n",
       "      <th>5650</th>\n",
       "      <td>0.186009</td>\n",
       "      <td>0.040787</td>\n",
       "      <td>0.013619</td>\n",
       "      <td>0.569785</td>\n",
       "      <td>0.031794</td>\n",
       "      <td>0.022282</td>\n",
       "      <td>0.127861</td>\n",
       "      <td>0.003432</td>\n",
       "      <td>0.004431</td>\n",
       "      <td>5650</td>\n",
       "    </tr>\n",
       "    <tr>\n",
       "      <th>5651</th>\n",
       "      <td>0.408221</td>\n",
       "      <td>0.083135</td>\n",
       "      <td>0.058940</td>\n",
       "      <td>0.136903</td>\n",
       "      <td>0.070516</td>\n",
       "      <td>0.097906</td>\n",
       "      <td>0.116300</td>\n",
       "      <td>0.017104</td>\n",
       "      <td>0.010974</td>\n",
       "      <td>5651</td>\n",
       "    </tr>\n",
       "    <tr>\n",
       "      <th>5652</th>\n",
       "      <td>0.110649</td>\n",
       "      <td>0.239324</td>\n",
       "      <td>0.016132</td>\n",
       "      <td>0.120595</td>\n",
       "      <td>0.036794</td>\n",
       "      <td>0.133556</td>\n",
       "      <td>0.326137</td>\n",
       "      <td>0.009344</td>\n",
       "      <td>0.007468</td>\n",
       "      <td>5652</td>\n",
       "    </tr>\n",
       "    <tr>\n",
       "      <th>5653</th>\n",
       "      <td>0.082514</td>\n",
       "      <td>0.202780</td>\n",
       "      <td>0.036147</td>\n",
       "      <td>0.096941</td>\n",
       "      <td>0.123395</td>\n",
       "      <td>0.059398</td>\n",
       "      <td>0.373005</td>\n",
       "      <td>0.011738</td>\n",
       "      <td>0.014083</td>\n",
       "      <td>5653</td>\n",
       "    </tr>\n",
       "    <tr>\n",
       "      <th>5654</th>\n",
       "      <td>0.106439</td>\n",
       "      <td>0.195742</td>\n",
       "      <td>0.020196</td>\n",
       "      <td>0.144683</td>\n",
       "      <td>0.079692</td>\n",
       "      <td>0.064568</td>\n",
       "      <td>0.368956</td>\n",
       "      <td>0.008718</td>\n",
       "      <td>0.011005</td>\n",
       "      <td>5654</td>\n",
       "    </tr>\n",
       "    <tr>\n",
       "      <th>5655</th>\n",
       "      <td>0.300135</td>\n",
       "      <td>0.063053</td>\n",
       "      <td>0.035177</td>\n",
       "      <td>0.206412</td>\n",
       "      <td>0.069998</td>\n",
       "      <td>0.152014</td>\n",
       "      <td>0.150461</td>\n",
       "      <td>0.010071</td>\n",
       "      <td>0.012678</td>\n",
       "      <td>5655</td>\n",
       "    </tr>\n",
       "    <tr>\n",
       "      <th>5656</th>\n",
       "      <td>0.126314</td>\n",
       "      <td>0.105690</td>\n",
       "      <td>0.017491</td>\n",
       "      <td>0.139548</td>\n",
       "      <td>0.037364</td>\n",
       "      <td>0.042899</td>\n",
       "      <td>0.502303</td>\n",
       "      <td>0.016615</td>\n",
       "      <td>0.011777</td>\n",
       "      <td>5656</td>\n",
       "    </tr>\n",
       "    <tr>\n",
       "      <th>5657</th>\n",
       "      <td>0.153799</td>\n",
       "      <td>0.217141</td>\n",
       "      <td>0.019234</td>\n",
       "      <td>0.106906</td>\n",
       "      <td>0.034712</td>\n",
       "      <td>0.048644</td>\n",
       "      <td>0.387801</td>\n",
       "      <td>0.021853</td>\n",
       "      <td>0.009911</td>\n",
       "      <td>5657</td>\n",
       "    </tr>\n",
       "    <tr>\n",
       "      <th>5658</th>\n",
       "      <td>0.308125</td>\n",
       "      <td>0.098798</td>\n",
       "      <td>0.014569</td>\n",
       "      <td>0.311437</td>\n",
       "      <td>0.053935</td>\n",
       "      <td>0.055516</td>\n",
       "      <td>0.133965</td>\n",
       "      <td>0.007857</td>\n",
       "      <td>0.015797</td>\n",
       "      <td>5658</td>\n",
       "    </tr>\n",
       "    <tr>\n",
       "      <th>5659</th>\n",
       "      <td>0.164862</td>\n",
       "      <td>0.119177</td>\n",
       "      <td>0.044193</td>\n",
       "      <td>0.202446</td>\n",
       "      <td>0.098861</td>\n",
       "      <td>0.113021</td>\n",
       "      <td>0.224664</td>\n",
       "      <td>0.021364</td>\n",
       "      <td>0.011413</td>\n",
       "      <td>5659</td>\n",
       "    </tr>\n",
       "    <tr>\n",
       "      <th>5660</th>\n",
       "      <td>0.125542</td>\n",
       "      <td>0.232034</td>\n",
       "      <td>0.016011</td>\n",
       "      <td>0.095777</td>\n",
       "      <td>0.044433</td>\n",
       "      <td>0.039456</td>\n",
       "      <td>0.354033</td>\n",
       "      <td>0.080177</td>\n",
       "      <td>0.012537</td>\n",
       "      <td>5660</td>\n",
       "    </tr>\n",
       "    <tr>\n",
       "      <th>5661</th>\n",
       "      <td>0.124393</td>\n",
       "      <td>0.139910</td>\n",
       "      <td>0.019127</td>\n",
       "      <td>0.107893</td>\n",
       "      <td>0.046677</td>\n",
       "      <td>0.036490</td>\n",
       "      <td>0.473184</td>\n",
       "      <td>0.037755</td>\n",
       "      <td>0.014571</td>\n",
       "      <td>5661</td>\n",
       "    </tr>\n",
       "    <tr>\n",
       "      <th>5662</th>\n",
       "      <td>0.171030</td>\n",
       "      <td>0.144675</td>\n",
       "      <td>0.018764</td>\n",
       "      <td>0.127073</td>\n",
       "      <td>0.039290</td>\n",
       "      <td>0.140713</td>\n",
       "      <td>0.324818</td>\n",
       "      <td>0.014079</td>\n",
       "      <td>0.019559</td>\n",
       "      <td>5662</td>\n",
       "    </tr>\n",
       "    <tr>\n",
       "      <th>5663</th>\n",
       "      <td>0.132324</td>\n",
       "      <td>0.127491</td>\n",
       "      <td>0.043354</td>\n",
       "      <td>0.252832</td>\n",
       "      <td>0.034748</td>\n",
       "      <td>0.037254</td>\n",
       "      <td>0.346571</td>\n",
       "      <td>0.007816</td>\n",
       "      <td>0.017610</td>\n",
       "      <td>5663</td>\n",
       "    </tr>\n",
       "    <tr>\n",
       "      <th>5664</th>\n",
       "      <td>0.240868</td>\n",
       "      <td>0.119397</td>\n",
       "      <td>0.020078</td>\n",
       "      <td>0.148443</td>\n",
       "      <td>0.039844</td>\n",
       "      <td>0.074218</td>\n",
       "      <td>0.304862</td>\n",
       "      <td>0.026085</td>\n",
       "      <td>0.026204</td>\n",
       "      <td>5664</td>\n",
       "    </tr>\n",
       "    <tr>\n",
       "      <th>5665</th>\n",
       "      <td>0.089815</td>\n",
       "      <td>0.322612</td>\n",
       "      <td>0.035844</td>\n",
       "      <td>0.083520</td>\n",
       "      <td>0.030977</td>\n",
       "      <td>0.033644</td>\n",
       "      <td>0.364442</td>\n",
       "      <td>0.017453</td>\n",
       "      <td>0.021694</td>\n",
       "      <td>5665</td>\n",
       "    </tr>\n",
       "    <tr>\n",
       "      <th>5666</th>\n",
       "      <td>0.209786</td>\n",
       "      <td>0.107437</td>\n",
       "      <td>0.024685</td>\n",
       "      <td>0.155884</td>\n",
       "      <td>0.040536</td>\n",
       "      <td>0.053917</td>\n",
       "      <td>0.372953</td>\n",
       "      <td>0.014085</td>\n",
       "      <td>0.020717</td>\n",
       "      <td>5666</td>\n",
       "    </tr>\n",
       "    <tr>\n",
       "      <th>5667</th>\n",
       "      <td>0.226695</td>\n",
       "      <td>0.110708</td>\n",
       "      <td>0.032802</td>\n",
       "      <td>0.205953</td>\n",
       "      <td>0.110650</td>\n",
       "      <td>0.105729</td>\n",
       "      <td>0.175331</td>\n",
       "      <td>0.023624</td>\n",
       "      <td>0.008506</td>\n",
       "      <td>5667</td>\n",
       "    </tr>\n",
       "  </tbody>\n",
       "</table>\n",
       "<p>5668 rows × 10 columns</p>\n",
       "</div>"
      ],
      "text/plain": [
       "        class1    class2    class3    class4    class5    class6    class7  \\\n",
       "0     0.042805  0.188448  0.010415  0.036203  0.026625  0.036764  0.648373   \n",
       "1     0.193260  0.073825  0.026690  0.458977  0.047355  0.065973  0.107768   \n",
       "2     0.099767  0.113050  0.046377  0.179272  0.037894  0.060432  0.437910   \n",
       "3     0.046491  0.323624  0.026636  0.060724  0.026193  0.031584  0.471122   \n",
       "4     0.233403  0.090182  0.019124  0.404349  0.042428  0.044172  0.142754   \n",
       "5     0.219619  0.219289  0.021837  0.246470  0.044449  0.040962  0.180929   \n",
       "6     0.182197  0.197488  0.023575  0.081007  0.032876  0.054917  0.408993   \n",
       "7     0.095286  0.082075  0.029039  0.387945  0.090712  0.074012  0.221489   \n",
       "8     0.143225  0.288549  0.022848  0.084035  0.033028  0.058127  0.339011   \n",
       "9     0.066556  0.253091  0.020758  0.054447  0.023403  0.039058  0.527959   \n",
       "10    0.030921  0.204749  0.015888  0.034234  0.030923  0.033987  0.626292   \n",
       "11    0.075118  0.135925  0.033069  0.071351  0.030703  0.034480  0.581014   \n",
       "12    0.261554  0.032484  0.017803  0.064251  0.185905  0.391506  0.028473   \n",
       "13    0.054844  0.143742  0.019994  0.069790  0.032116  0.035447  0.628932   \n",
       "14    0.069724  0.325441  0.015391  0.065534  0.034700  0.044804  0.408826   \n",
       "15    0.071211  0.092232  0.028304  0.084072  0.042122  0.034663  0.630004   \n",
       "16    0.240538  0.070195  0.020567  0.308889  0.052123  0.042901  0.246065   \n",
       "17    0.062556  0.141860  0.016585  0.052022  0.044742  0.040968  0.606194   \n",
       "18    0.098737  0.192366  0.011103  0.313917  0.026088  0.032621  0.297229   \n",
       "19    0.025507  0.070628  0.378424  0.032526  0.031525  0.023035  0.421449   \n",
       "20    0.230933  0.115869  0.023405  0.324099  0.048501  0.057141  0.154957   \n",
       "21    0.101349  0.201209  0.025703  0.062389  0.072629  0.062840  0.446066   \n",
       "22    0.134026  0.054689  0.056450  0.560816  0.030871  0.035743  0.110394   \n",
       "23    0.105410  0.193986  0.010332  0.064233  0.028454  0.025352  0.540653   \n",
       "24    0.058570  0.373403  0.042243  0.064387  0.062888  0.060269  0.320441   \n",
       "25    0.185054  0.089362  0.054943  0.164606  0.058596  0.064653  0.313462   \n",
       "26    0.167235  0.149945  0.021516  0.286478  0.037322  0.033729  0.278195   \n",
       "27    0.045718  0.342866  0.010135  0.043652  0.031359  0.032974  0.475519   \n",
       "28    0.177331  0.098820  0.036630  0.127087  0.046249  0.060333  0.407102   \n",
       "29    0.102663  0.165640  0.020949  0.118604  0.037474  0.041369  0.483500   \n",
       "...        ...       ...       ...       ...       ...       ...       ...   \n",
       "5638  0.072115  0.243959  0.018661  0.130857  0.033355  0.035699  0.418503   \n",
       "5639  0.502237  0.120981  0.022984  0.099401  0.042645  0.070857  0.110987   \n",
       "5640  0.088810  0.123638  0.017422  0.071837  0.072175  0.061975  0.538840   \n",
       "5641  0.227568  0.086193  0.018806  0.165161  0.036958  0.037906  0.387203   \n",
       "5642  0.161609  0.182023  0.017419  0.086778  0.048669  0.077388  0.361322   \n",
       "5643  0.152190  0.085322  0.020589  0.287711  0.030074  0.038948  0.263033   \n",
       "5644  0.180805  0.107315  0.024332  0.179889  0.047231  0.046604  0.266559   \n",
       "5645  0.169621  0.363402  0.018040  0.125732  0.043518  0.046889  0.207021   \n",
       "5646  0.086732  0.125603  0.016919  0.083611  0.087515  0.032299  0.504990   \n",
       "5647  0.208934  0.077852  0.016879  0.401567  0.043254  0.052662  0.183072   \n",
       "5648  0.111389  0.124208  0.013857  0.146744  0.044815  0.168317  0.369110   \n",
       "5649  0.250895  0.196261  0.018905  0.210124  0.046704  0.058386  0.180335   \n",
       "5650  0.186009  0.040787  0.013619  0.569785  0.031794  0.022282  0.127861   \n",
       "5651  0.408221  0.083135  0.058940  0.136903  0.070516  0.097906  0.116300   \n",
       "5652  0.110649  0.239324  0.016132  0.120595  0.036794  0.133556  0.326137   \n",
       "5653  0.082514  0.202780  0.036147  0.096941  0.123395  0.059398  0.373005   \n",
       "5654  0.106439  0.195742  0.020196  0.144683  0.079692  0.064568  0.368956   \n",
       "5655  0.300135  0.063053  0.035177  0.206412  0.069998  0.152014  0.150461   \n",
       "5656  0.126314  0.105690  0.017491  0.139548  0.037364  0.042899  0.502303   \n",
       "5657  0.153799  0.217141  0.019234  0.106906  0.034712  0.048644  0.387801   \n",
       "5658  0.308125  0.098798  0.014569  0.311437  0.053935  0.055516  0.133965   \n",
       "5659  0.164862  0.119177  0.044193  0.202446  0.098861  0.113021  0.224664   \n",
       "5660  0.125542  0.232034  0.016011  0.095777  0.044433  0.039456  0.354033   \n",
       "5661  0.124393  0.139910  0.019127  0.107893  0.046677  0.036490  0.473184   \n",
       "5662  0.171030  0.144675  0.018764  0.127073  0.039290  0.140713  0.324818   \n",
       "5663  0.132324  0.127491  0.043354  0.252832  0.034748  0.037254  0.346571   \n",
       "5664  0.240868  0.119397  0.020078  0.148443  0.039844  0.074218  0.304862   \n",
       "5665  0.089815  0.322612  0.035844  0.083520  0.030977  0.033644  0.364442   \n",
       "5666  0.209786  0.107437  0.024685  0.155884  0.040536  0.053917  0.372953   \n",
       "5667  0.226695  0.110708  0.032802  0.205953  0.110650  0.105729  0.175331   \n",
       "\n",
       "        class8    class9    ID  \n",
       "0     0.006470  0.003898     0  \n",
       "1     0.011492  0.014660     1  \n",
       "2     0.013948  0.011349     2  \n",
       "3     0.008938  0.004688     3  \n",
       "4     0.014826  0.008761     4  \n",
       "5     0.011581  0.014864     5  \n",
       "6     0.009514  0.009435     6  \n",
       "7     0.010660  0.008782     7  \n",
       "8     0.019678  0.011500     8  \n",
       "9     0.009586  0.005142     9  \n",
       "10    0.017783  0.005224    10  \n",
       "11    0.013298  0.025042    11  \n",
       "12    0.007367  0.010659    12  \n",
       "13    0.005316  0.009819    13  \n",
       "14    0.026030  0.009550    14  \n",
       "15    0.010287  0.007105    15  \n",
       "16    0.008185  0.010537    16  \n",
       "17    0.026132  0.008942    17  \n",
       "18    0.014194  0.013746    18  \n",
       "19    0.006663  0.010242    19  \n",
       "20    0.020999  0.024097    20  \n",
       "21    0.019373  0.008443    21  \n",
       "22    0.006755  0.010255    22  \n",
       "23    0.024871  0.006710    23  \n",
       "24    0.009924  0.007874    24  \n",
       "25    0.038242  0.031082    25  \n",
       "26    0.013762  0.011819    26  \n",
       "27    0.012150  0.005626    27  \n",
       "28    0.017063  0.029385    28  \n",
       "29    0.018275  0.011527    29  \n",
       "...        ...       ...   ...  \n",
       "5638  0.030395  0.016458  5638  \n",
       "5639  0.017658  0.012250  5639  \n",
       "5640  0.008278  0.017025  5640  \n",
       "5641  0.024434  0.015772  5641  \n",
       "5642  0.030871  0.033921  5642  \n",
       "5643  0.023849  0.098284  5643  \n",
       "5644  0.055024  0.092242  5644  \n",
       "5645  0.010092  0.015684  5645  \n",
       "5646  0.046296  0.016035  5646  \n",
       "5647  0.008161  0.007619  5647  \n",
       "5648  0.010552  0.011009  5648  \n",
       "5649  0.026443  0.011947  5649  \n",
       "5650  0.003432  0.004431  5650  \n",
       "5651  0.017104  0.010974  5651  \n",
       "5652  0.009344  0.007468  5652  \n",
       "5653  0.011738  0.014083  5653  \n",
       "5654  0.008718  0.011005  5654  \n",
       "5655  0.010071  0.012678  5655  \n",
       "5656  0.016615  0.011777  5656  \n",
       "5657  0.021853  0.009911  5657  \n",
       "5658  0.007857  0.015797  5658  \n",
       "5659  0.021364  0.011413  5659  \n",
       "5660  0.080177  0.012537  5660  \n",
       "5661  0.037755  0.014571  5661  \n",
       "5662  0.014079  0.019559  5662  \n",
       "5663  0.007816  0.017610  5663  \n",
       "5664  0.026085  0.026204  5664  \n",
       "5665  0.017453  0.021694  5665  \n",
       "5666  0.014085  0.020717  5666  \n",
       "5667  0.023624  0.008506  5667  \n",
       "\n",
       "[5668 rows x 10 columns]"
      ]
     },
     "execution_count": 561,
     "metadata": {},
     "output_type": "execute_result"
    }
   ],
   "source": [
    "combined_avg"
   ]
  },
  {
   "cell_type": "code",
   "execution_count": 559,
   "metadata": {
    "collapsed": false
   },
   "outputs": [
    {
     "data": {
      "text/plain": [
       "5668"
      ]
     },
     "execution_count": 559,
     "metadata": {},
     "output_type": "execute_result"
    }
   ],
   "source": [
    "len(combined_avg)"
   ]
  },
  {
   "cell_type": "code",
   "execution_count": 560,
   "metadata": {
    "collapsed": false
   },
   "outputs": [],
   "source": [
    "combined_avg.to_csv(\"combined_avg_ensemble_1.csv\",index=False)"
   ]
  },
  {
   "cell_type": "code",
   "execution_count": null,
   "metadata": {
    "collapsed": true
   },
   "outputs": [],
   "source": [
    "from sklearn.linear_model import LogisticRegression\n",
    "\n",
    "multinomial = LogisticRegression(multi_class='ovr', ### one-vs-rest\n",
    "                                 class_weight='balanced',\n",
    "                                 solver='liblinear',\n",
    "                                 penalty='l1',\n",
    "                                 C=.1)\n",
    "\n",
    "multinomial.fit(train_vecs_dm, y_train)\n",
    "print('Accuracy score: ' + str(multinomial.score(test_vecs_dm, y_test)))\n",
    "multinomial_pred = multinomial.predict(test_vecs_dm)\n",
    "\n",
    "print('confusion_matrix:\\n', sklearn.metrics.confusion_matrix(y_test,multinomial_pred))"
   ]
  },
  {
   "cell_type": "code",
   "execution_count": null,
   "metadata": {
    "collapsed": true
   },
   "outputs": [],
   "source": []
  }
 ],
 "metadata": {
  "anaconda-cloud": {},
  "kernelspec": {
   "display_name": "Python [default]",
   "language": "python",
   "name": "python3"
  },
  "language_info": {
   "codemirror_mode": {
    "name": "ipython",
    "version": 3
   },
   "file_extension": ".py",
   "mimetype": "text/x-python",
   "name": "python",
   "nbconvert_exporter": "python",
   "pygments_lexer": "ipython3",
   "version": "3.5.2"
  }
 },
 "nbformat": 4,
 "nbformat_minor": 2
}
